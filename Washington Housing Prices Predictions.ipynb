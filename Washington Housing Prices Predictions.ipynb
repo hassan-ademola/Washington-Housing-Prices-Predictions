{
 "cells": [
  {
   "cell_type": "markdown",
   "metadata": {},
   "source": [
    "# 1. Import important libraries"
   ]
  },
  {
   "cell_type": "code",
   "execution_count": 1,
   "metadata": {},
   "outputs": [],
   "source": [
    "import pandas as pd\n",
    "import numpy as np\n",
    "import matplotlib.pyplot as plt\n",
    "import seaborn as sns\n",
    "%matplotlib inline"
   ]
  },
  {
   "cell_type": "markdown",
   "metadata": {},
   "source": [
    "# 2. Load the Data"
   ]
  },
  {
   "cell_type": "code",
   "execution_count": 2,
   "metadata": {},
   "outputs": [],
   "source": [
    "df = pd.read_csv('data.csv')"
   ]
  },
  {
   "cell_type": "markdown",
   "metadata": {},
   "source": [
    "# 3. Exploratory Data Analysis (EDA)"
   ]
  },
  {
   "cell_type": "code",
   "execution_count": 3,
   "metadata": {
    "scrolled": true
   },
   "outputs": [
    {
     "data": {
      "text/html": [
       "<div>\n",
       "<style scoped>\n",
       "    .dataframe tbody tr th:only-of-type {\n",
       "        vertical-align: middle;\n",
       "    }\n",
       "\n",
       "    .dataframe tbody tr th {\n",
       "        vertical-align: top;\n",
       "    }\n",
       "\n",
       "    .dataframe thead th {\n",
       "        text-align: right;\n",
       "    }\n",
       "</style>\n",
       "<table border=\"1\" class=\"dataframe\">\n",
       "  <thead>\n",
       "    <tr style=\"text-align: right;\">\n",
       "      <th></th>\n",
       "      <th>date</th>\n",
       "      <th>price</th>\n",
       "      <th>bedrooms</th>\n",
       "      <th>bathrooms</th>\n",
       "      <th>sqft_living</th>\n",
       "      <th>sqft_lot</th>\n",
       "      <th>floors</th>\n",
       "      <th>waterfront</th>\n",
       "      <th>view</th>\n",
       "      <th>condition</th>\n",
       "      <th>sqft_above</th>\n",
       "      <th>sqft_basement</th>\n",
       "      <th>yr_built</th>\n",
       "      <th>yr_renovated</th>\n",
       "      <th>street</th>\n",
       "      <th>city</th>\n",
       "      <th>statezip</th>\n",
       "      <th>country</th>\n",
       "    </tr>\n",
       "  </thead>\n",
       "  <tbody>\n",
       "    <tr>\n",
       "      <th>0</th>\n",
       "      <td>2014-05-02 00:00:00</td>\n",
       "      <td>313000.0</td>\n",
       "      <td>3.0</td>\n",
       "      <td>1.50</td>\n",
       "      <td>1340</td>\n",
       "      <td>7912</td>\n",
       "      <td>1.5</td>\n",
       "      <td>0</td>\n",
       "      <td>0</td>\n",
       "      <td>3</td>\n",
       "      <td>1340</td>\n",
       "      <td>0</td>\n",
       "      <td>1955</td>\n",
       "      <td>2005</td>\n",
       "      <td>18810 Densmore Ave N</td>\n",
       "      <td>Shoreline</td>\n",
       "      <td>WA 98133</td>\n",
       "      <td>USA</td>\n",
       "    </tr>\n",
       "    <tr>\n",
       "      <th>1</th>\n",
       "      <td>2014-05-02 00:00:00</td>\n",
       "      <td>2384000.0</td>\n",
       "      <td>5.0</td>\n",
       "      <td>2.50</td>\n",
       "      <td>3650</td>\n",
       "      <td>9050</td>\n",
       "      <td>2.0</td>\n",
       "      <td>0</td>\n",
       "      <td>4</td>\n",
       "      <td>5</td>\n",
       "      <td>3370</td>\n",
       "      <td>280</td>\n",
       "      <td>1921</td>\n",
       "      <td>0</td>\n",
       "      <td>709 W Blaine St</td>\n",
       "      <td>Seattle</td>\n",
       "      <td>WA 98119</td>\n",
       "      <td>USA</td>\n",
       "    </tr>\n",
       "    <tr>\n",
       "      <th>2</th>\n",
       "      <td>2014-05-02 00:00:00</td>\n",
       "      <td>342000.0</td>\n",
       "      <td>3.0</td>\n",
       "      <td>2.00</td>\n",
       "      <td>1930</td>\n",
       "      <td>11947</td>\n",
       "      <td>1.0</td>\n",
       "      <td>0</td>\n",
       "      <td>0</td>\n",
       "      <td>4</td>\n",
       "      <td>1930</td>\n",
       "      <td>0</td>\n",
       "      <td>1966</td>\n",
       "      <td>0</td>\n",
       "      <td>26206-26214 143rd Ave SE</td>\n",
       "      <td>Kent</td>\n",
       "      <td>WA 98042</td>\n",
       "      <td>USA</td>\n",
       "    </tr>\n",
       "    <tr>\n",
       "      <th>3</th>\n",
       "      <td>2014-05-02 00:00:00</td>\n",
       "      <td>420000.0</td>\n",
       "      <td>3.0</td>\n",
       "      <td>2.25</td>\n",
       "      <td>2000</td>\n",
       "      <td>8030</td>\n",
       "      <td>1.0</td>\n",
       "      <td>0</td>\n",
       "      <td>0</td>\n",
       "      <td>4</td>\n",
       "      <td>1000</td>\n",
       "      <td>1000</td>\n",
       "      <td>1963</td>\n",
       "      <td>0</td>\n",
       "      <td>857 170th Pl NE</td>\n",
       "      <td>Bellevue</td>\n",
       "      <td>WA 98008</td>\n",
       "      <td>USA</td>\n",
       "    </tr>\n",
       "    <tr>\n",
       "      <th>4</th>\n",
       "      <td>2014-05-02 00:00:00</td>\n",
       "      <td>550000.0</td>\n",
       "      <td>4.0</td>\n",
       "      <td>2.50</td>\n",
       "      <td>1940</td>\n",
       "      <td>10500</td>\n",
       "      <td>1.0</td>\n",
       "      <td>0</td>\n",
       "      <td>0</td>\n",
       "      <td>4</td>\n",
       "      <td>1140</td>\n",
       "      <td>800</td>\n",
       "      <td>1976</td>\n",
       "      <td>1992</td>\n",
       "      <td>9105 170th Ave NE</td>\n",
       "      <td>Redmond</td>\n",
       "      <td>WA 98052</td>\n",
       "      <td>USA</td>\n",
       "    </tr>\n",
       "  </tbody>\n",
       "</table>\n",
       "</div>"
      ],
      "text/plain": [
       "                  date      price  bedrooms  bathrooms  sqft_living  sqft_lot  \\\n",
       "0  2014-05-02 00:00:00   313000.0       3.0       1.50         1340      7912   \n",
       "1  2014-05-02 00:00:00  2384000.0       5.0       2.50         3650      9050   \n",
       "2  2014-05-02 00:00:00   342000.0       3.0       2.00         1930     11947   \n",
       "3  2014-05-02 00:00:00   420000.0       3.0       2.25         2000      8030   \n",
       "4  2014-05-02 00:00:00   550000.0       4.0       2.50         1940     10500   \n",
       "\n",
       "   floors  waterfront  view  condition  sqft_above  sqft_basement  yr_built  \\\n",
       "0     1.5           0     0          3        1340              0      1955   \n",
       "1     2.0           0     4          5        3370            280      1921   \n",
       "2     1.0           0     0          4        1930              0      1966   \n",
       "3     1.0           0     0          4        1000           1000      1963   \n",
       "4     1.0           0     0          4        1140            800      1976   \n",
       "\n",
       "   yr_renovated                    street       city  statezip country  \n",
       "0          2005      18810 Densmore Ave N  Shoreline  WA 98133     USA  \n",
       "1             0           709 W Blaine St    Seattle  WA 98119     USA  \n",
       "2             0  26206-26214 143rd Ave SE       Kent  WA 98042     USA  \n",
       "3             0           857 170th Pl NE   Bellevue  WA 98008     USA  \n",
       "4          1992         9105 170th Ave NE    Redmond  WA 98052     USA  "
      ]
     },
     "execution_count": 3,
     "metadata": {},
     "output_type": "execute_result"
    }
   ],
   "source": [
    "# to inspect the first few rows of the dataframe\n",
    "df.head()"
   ]
  },
  {
   "cell_type": "markdown",
   "metadata": {},
   "source": [
    "Location is often an important factor in predicting house prices. The **city** feature looks promising. Let's inspect the **statezip** and **country** columns."
   ]
  },
  {
   "cell_type": "code",
   "execution_count": 4,
   "metadata": {},
   "outputs": [
    {
     "data": {
      "text/plain": [
       "array(['WA 98133', 'WA 98119', 'WA 98042', 'WA 98008', 'WA 98052',\n",
       "       'WA 98115', 'WA 98038', 'WA 98045', 'WA 98155', 'WA 98105',\n",
       "       'WA 98074', 'WA 98106', 'WA 98007', 'WA 98092', 'WA 98198',\n",
       "       'WA 98006', 'WA 98102', 'WA 98011', 'WA 98125', 'WA 98003',\n",
       "       'WA 98136', 'WA 98033', 'WA 98029', 'WA 98117', 'WA 98034',\n",
       "       'WA 98072', 'WA 98023', 'WA 98107', 'WA 98166', 'WA 98116',\n",
       "       'WA 98024', 'WA 98055', 'WA 98077', 'WA 98027', 'WA 98059',\n",
       "       'WA 98075', 'WA 98014', 'WA 98065', 'WA 98199', 'WA 98053',\n",
       "       'WA 98058', 'WA 98122', 'WA 98103', 'WA 98112', 'WA 98005',\n",
       "       'WA 98118', 'WA 98177', 'WA 98004', 'WA 98019', 'WA 98144',\n",
       "       'WA 98168', 'WA 98001', 'WA 98056', 'WA 98146', 'WA 98028',\n",
       "       'WA 98148', 'WA 98057', 'WA 98040', 'WA 98010', 'WA 98051',\n",
       "       'WA 98031', 'WA 98109', 'WA 98030', 'WA 98126', 'WA 98032',\n",
       "       'WA 98178', 'WA 98288', 'WA 98108', 'WA 98070', 'WA 98188',\n",
       "       'WA 98002', 'WA 98039', 'WA 98022', 'WA 98068', 'WA 98047',\n",
       "       'WA 98050', 'WA 98354'], dtype=object)"
      ]
     },
     "execution_count": 4,
     "metadata": {},
     "output_type": "execute_result"
    }
   ],
   "source": [
    "df.statezip.unique()"
   ]
  },
  {
   "cell_type": "code",
   "execution_count": 5,
   "metadata": {},
   "outputs": [
    {
     "data": {
      "text/plain": [
       "array(['USA'], dtype=object)"
      ]
     },
     "execution_count": 5,
     "metadata": {},
     "output_type": "execute_result"
    }
   ],
   "source": [
    "df.country.unique()"
   ]
  },
  {
   "cell_type": "markdown",
   "metadata": {},
   "source": [
    "The **country** column does not to give any additional information since our dataset contains only records of houses in USA.  \n",
    "\n",
    "We should create a new column from the **statezip** feature to include only the zipcodes since all the represented houses are in Washington. \n",
    "\n",
    "How many unique zipcodes do we have?"
   ]
  },
  {
   "cell_type": "code",
   "execution_count": 6,
   "metadata": {},
   "outputs": [
    {
     "data": {
      "text/plain": [
       "77"
      ]
     },
     "execution_count": 6,
     "metadata": {},
     "output_type": "execute_result"
    }
   ],
   "source": [
    "df.statezip.nunique()"
   ]
  },
  {
   "cell_type": "markdown",
   "metadata": {},
   "source": [
    "One hot encoding the zipcodes would result to too many columns. We should look for a way of grouping these zipcodes into fewer categories"
   ]
  },
  {
   "cell_type": "code",
   "execution_count": 7,
   "metadata": {},
   "outputs": [
    {
     "name": "stdout",
     "output_type": "stream",
     "text": [
      "<class 'pandas.core.frame.DataFrame'>\n",
      "RangeIndex: 4600 entries, 0 to 4599\n",
      "Data columns (total 18 columns):\n",
      " #   Column         Non-Null Count  Dtype  \n",
      "---  ------         --------------  -----  \n",
      " 0   date           4600 non-null   object \n",
      " 1   price          4600 non-null   float64\n",
      " 2   bedrooms       4600 non-null   float64\n",
      " 3   bathrooms      4600 non-null   float64\n",
      " 4   sqft_living    4600 non-null   int64  \n",
      " 5   sqft_lot       4600 non-null   int64  \n",
      " 6   floors         4600 non-null   float64\n",
      " 7   waterfront     4600 non-null   int64  \n",
      " 8   view           4600 non-null   int64  \n",
      " 9   condition      4600 non-null   int64  \n",
      " 10  sqft_above     4600 non-null   int64  \n",
      " 11  sqft_basement  4600 non-null   int64  \n",
      " 12  yr_built       4600 non-null   int64  \n",
      " 13  yr_renovated   4600 non-null   int64  \n",
      " 14  street         4600 non-null   object \n",
      " 15  city           4600 non-null   object \n",
      " 16  statezip       4600 non-null   object \n",
      " 17  country        4600 non-null   object \n",
      "dtypes: float64(4), int64(9), object(5)\n",
      "memory usage: 647.0+ KB\n"
     ]
    }
   ],
   "source": [
    "df.info()"
   ]
  },
  {
   "cell_type": "markdown",
   "metadata": {},
   "source": [
    "The dataset contains 18 columns with no missing values. Some columns (e.g **date**) are in the wrong data type. Let's see a brief summary of our numerical features"
   ]
  },
  {
   "cell_type": "code",
   "execution_count": 8,
   "metadata": {},
   "outputs": [
    {
     "data": {
      "text/html": [
       "<div>\n",
       "<style scoped>\n",
       "    .dataframe tbody tr th:only-of-type {\n",
       "        vertical-align: middle;\n",
       "    }\n",
       "\n",
       "    .dataframe tbody tr th {\n",
       "        vertical-align: top;\n",
       "    }\n",
       "\n",
       "    .dataframe thead th {\n",
       "        text-align: right;\n",
       "    }\n",
       "</style>\n",
       "<table border=\"1\" class=\"dataframe\">\n",
       "  <thead>\n",
       "    <tr style=\"text-align: right;\">\n",
       "      <th></th>\n",
       "      <th>price</th>\n",
       "      <th>bedrooms</th>\n",
       "      <th>bathrooms</th>\n",
       "      <th>sqft_living</th>\n",
       "      <th>sqft_lot</th>\n",
       "      <th>floors</th>\n",
       "      <th>waterfront</th>\n",
       "      <th>view</th>\n",
       "      <th>condition</th>\n",
       "      <th>sqft_above</th>\n",
       "      <th>sqft_basement</th>\n",
       "      <th>yr_built</th>\n",
       "      <th>yr_renovated</th>\n",
       "    </tr>\n",
       "  </thead>\n",
       "  <tbody>\n",
       "    <tr>\n",
       "      <th>count</th>\n",
       "      <td>4.600000e+03</td>\n",
       "      <td>4600.000000</td>\n",
       "      <td>4600.000000</td>\n",
       "      <td>4600.000000</td>\n",
       "      <td>4.600000e+03</td>\n",
       "      <td>4600.000000</td>\n",
       "      <td>4600.000000</td>\n",
       "      <td>4600.000000</td>\n",
       "      <td>4600.000000</td>\n",
       "      <td>4600.000000</td>\n",
       "      <td>4600.000000</td>\n",
       "      <td>4600.000000</td>\n",
       "      <td>4600.000000</td>\n",
       "    </tr>\n",
       "    <tr>\n",
       "      <th>mean</th>\n",
       "      <td>5.519630e+05</td>\n",
       "      <td>3.400870</td>\n",
       "      <td>2.160815</td>\n",
       "      <td>2139.346957</td>\n",
       "      <td>1.485252e+04</td>\n",
       "      <td>1.512065</td>\n",
       "      <td>0.007174</td>\n",
       "      <td>0.240652</td>\n",
       "      <td>3.451739</td>\n",
       "      <td>1827.265435</td>\n",
       "      <td>312.081522</td>\n",
       "      <td>1970.786304</td>\n",
       "      <td>808.608261</td>\n",
       "    </tr>\n",
       "    <tr>\n",
       "      <th>std</th>\n",
       "      <td>5.638347e+05</td>\n",
       "      <td>0.908848</td>\n",
       "      <td>0.783781</td>\n",
       "      <td>963.206916</td>\n",
       "      <td>3.588444e+04</td>\n",
       "      <td>0.538288</td>\n",
       "      <td>0.084404</td>\n",
       "      <td>0.778405</td>\n",
       "      <td>0.677230</td>\n",
       "      <td>862.168977</td>\n",
       "      <td>464.137228</td>\n",
       "      <td>29.731848</td>\n",
       "      <td>979.414536</td>\n",
       "    </tr>\n",
       "    <tr>\n",
       "      <th>min</th>\n",
       "      <td>0.000000e+00</td>\n",
       "      <td>0.000000</td>\n",
       "      <td>0.000000</td>\n",
       "      <td>370.000000</td>\n",
       "      <td>6.380000e+02</td>\n",
       "      <td>1.000000</td>\n",
       "      <td>0.000000</td>\n",
       "      <td>0.000000</td>\n",
       "      <td>1.000000</td>\n",
       "      <td>370.000000</td>\n",
       "      <td>0.000000</td>\n",
       "      <td>1900.000000</td>\n",
       "      <td>0.000000</td>\n",
       "    </tr>\n",
       "    <tr>\n",
       "      <th>25%</th>\n",
       "      <td>3.228750e+05</td>\n",
       "      <td>3.000000</td>\n",
       "      <td>1.750000</td>\n",
       "      <td>1460.000000</td>\n",
       "      <td>5.000750e+03</td>\n",
       "      <td>1.000000</td>\n",
       "      <td>0.000000</td>\n",
       "      <td>0.000000</td>\n",
       "      <td>3.000000</td>\n",
       "      <td>1190.000000</td>\n",
       "      <td>0.000000</td>\n",
       "      <td>1951.000000</td>\n",
       "      <td>0.000000</td>\n",
       "    </tr>\n",
       "    <tr>\n",
       "      <th>50%</th>\n",
       "      <td>4.609435e+05</td>\n",
       "      <td>3.000000</td>\n",
       "      <td>2.250000</td>\n",
       "      <td>1980.000000</td>\n",
       "      <td>7.683000e+03</td>\n",
       "      <td>1.500000</td>\n",
       "      <td>0.000000</td>\n",
       "      <td>0.000000</td>\n",
       "      <td>3.000000</td>\n",
       "      <td>1590.000000</td>\n",
       "      <td>0.000000</td>\n",
       "      <td>1976.000000</td>\n",
       "      <td>0.000000</td>\n",
       "    </tr>\n",
       "    <tr>\n",
       "      <th>75%</th>\n",
       "      <td>6.549625e+05</td>\n",
       "      <td>4.000000</td>\n",
       "      <td>2.500000</td>\n",
       "      <td>2620.000000</td>\n",
       "      <td>1.100125e+04</td>\n",
       "      <td>2.000000</td>\n",
       "      <td>0.000000</td>\n",
       "      <td>0.000000</td>\n",
       "      <td>4.000000</td>\n",
       "      <td>2300.000000</td>\n",
       "      <td>610.000000</td>\n",
       "      <td>1997.000000</td>\n",
       "      <td>1999.000000</td>\n",
       "    </tr>\n",
       "    <tr>\n",
       "      <th>max</th>\n",
       "      <td>2.659000e+07</td>\n",
       "      <td>9.000000</td>\n",
       "      <td>8.000000</td>\n",
       "      <td>13540.000000</td>\n",
       "      <td>1.074218e+06</td>\n",
       "      <td>3.500000</td>\n",
       "      <td>1.000000</td>\n",
       "      <td>4.000000</td>\n",
       "      <td>5.000000</td>\n",
       "      <td>9410.000000</td>\n",
       "      <td>4820.000000</td>\n",
       "      <td>2014.000000</td>\n",
       "      <td>2014.000000</td>\n",
       "    </tr>\n",
       "  </tbody>\n",
       "</table>\n",
       "</div>"
      ],
      "text/plain": [
       "              price     bedrooms    bathrooms   sqft_living      sqft_lot  \\\n",
       "count  4.600000e+03  4600.000000  4600.000000   4600.000000  4.600000e+03   \n",
       "mean   5.519630e+05     3.400870     2.160815   2139.346957  1.485252e+04   \n",
       "std    5.638347e+05     0.908848     0.783781    963.206916  3.588444e+04   \n",
       "min    0.000000e+00     0.000000     0.000000    370.000000  6.380000e+02   \n",
       "25%    3.228750e+05     3.000000     1.750000   1460.000000  5.000750e+03   \n",
       "50%    4.609435e+05     3.000000     2.250000   1980.000000  7.683000e+03   \n",
       "75%    6.549625e+05     4.000000     2.500000   2620.000000  1.100125e+04   \n",
       "max    2.659000e+07     9.000000     8.000000  13540.000000  1.074218e+06   \n",
       "\n",
       "            floors   waterfront         view    condition   sqft_above  \\\n",
       "count  4600.000000  4600.000000  4600.000000  4600.000000  4600.000000   \n",
       "mean      1.512065     0.007174     0.240652     3.451739  1827.265435   \n",
       "std       0.538288     0.084404     0.778405     0.677230   862.168977   \n",
       "min       1.000000     0.000000     0.000000     1.000000   370.000000   \n",
       "25%       1.000000     0.000000     0.000000     3.000000  1190.000000   \n",
       "50%       1.500000     0.000000     0.000000     3.000000  1590.000000   \n",
       "75%       2.000000     0.000000     0.000000     4.000000  2300.000000   \n",
       "max       3.500000     1.000000     4.000000     5.000000  9410.000000   \n",
       "\n",
       "       sqft_basement     yr_built  yr_renovated  \n",
       "count    4600.000000  4600.000000   4600.000000  \n",
       "mean      312.081522  1970.786304    808.608261  \n",
       "std       464.137228    29.731848    979.414536  \n",
       "min         0.000000  1900.000000      0.000000  \n",
       "25%         0.000000  1951.000000      0.000000  \n",
       "50%         0.000000  1976.000000      0.000000  \n",
       "75%       610.000000  1997.000000   1999.000000  \n",
       "max      4820.000000  2014.000000   2014.000000  "
      ]
     },
     "execution_count": 8,
     "metadata": {},
     "output_type": "execute_result"
    }
   ],
   "source": [
    "df.describe()"
   ]
  },
  {
   "cell_type": "markdown",
   "metadata": {},
   "source": [
    "The minimum price is zero dollar. Our model could learn spurious patterns based on these entries.\n",
    "\n",
    "How many houses cost $0? "
   ]
  },
  {
   "cell_type": "code",
   "execution_count": 9,
   "metadata": {},
   "outputs": [
    {
     "data": {
      "text/plain": [
       "49"
      ]
     },
     "execution_count": 9,
     "metadata": {},
     "output_type": "execute_result"
    }
   ],
   "source": [
    "len(df[df.price==0])"
   ]
  },
  {
   "cell_type": "markdown",
   "metadata": {},
   "source": [
    "We wouldn't be throwing away much information by removing these records. Let's see how the numerical features are distrubuted."
   ]
  },
  {
   "cell_type": "code",
   "execution_count": 10,
   "metadata": {},
   "outputs": [
    {
     "data": {
      "image/png": "[encoded data removed]",
      "text/plain": [
       "<Figure size 1080x864 with 16 Axes>"
      ]
     },
     "metadata": {
      "needs_background": "light"
     },
     "output_type": "display_data"
    }
   ],
   "source": [
    "df.hist(figsize=(15,12));"
   ]
  },
  {
   "cell_type": "markdown",
   "metadata": {},
   "source": [
    "Some distributions are tail heavy. This could be a sign of outliers. \n",
    "\n",
    "There's a spike at zero for **waterfront, sqft_basement, view, and yr_renovated** which could be because some houses lack these facilities and/or were never renovated. We can create new columns from them (e.g **has_basement**).\n",
    "\n",
    "It is evident that many of the houses contained in  the dataset were built after 1950. \n",
    "\n",
    "We have taken a quick glance at our data. Let's go in depth."
   ]
  },
  {
   "cell_type": "markdown",
   "metadata": {},
   "source": [
    "Before we continue with our exploration, let's create our train and test sets."
   ]
  },
  {
   "cell_type": "code",
   "execution_count": 11,
   "metadata": {},
   "outputs": [],
   "source": [
    "from sklearn.model_selection import train_test_split\n",
    "train,test = train_test_split(df,random_state=42)"
   ]
  },
  {
   "cell_type": "markdown",
   "metadata": {},
   "source": [
    "**train_test_split** splits data in the ratio 3 to 1 by default. A value was specified for **the random_state** argument so as to get the same set of records whenever we run the cell"
   ]
  },
  {
   "cell_type": "code",
   "execution_count": 12,
   "metadata": {},
   "outputs": [
    {
     "name": "stdout",
     "output_type": "stream",
     "text": [
      "3450 1150\n"
     ]
    }
   ],
   "source": [
    "# to check the length of our train and test set\n",
    "print(len(train),len(test))"
   ]
  },
  {
   "cell_type": "markdown",
   "metadata": {},
   "source": [
    "We'll explore and train our model on the train set. Let's create a copy for exploration"
   ]
  },
  {
   "cell_type": "code",
   "execution_count": 13,
   "metadata": {},
   "outputs": [],
   "source": [
    "housing = train.copy()"
   ]
  },
  {
   "cell_type": "code",
   "execution_count": 14,
   "metadata": {},
   "outputs": [
    {
     "data": {
      "text/html": [
       "<div>\n",
       "<style scoped>\n",
       "    .dataframe tbody tr th:only-of-type {\n",
       "        vertical-align: middle;\n",
       "    }\n",
       "\n",
       "    .dataframe tbody tr th {\n",
       "        vertical-align: top;\n",
       "    }\n",
       "\n",
       "    .dataframe thead th {\n",
       "        text-align: right;\n",
       "    }\n",
       "</style>\n",
       "<table border=\"1\" class=\"dataframe\">\n",
       "  <thead>\n",
       "    <tr style=\"text-align: right;\">\n",
       "      <th></th>\n",
       "      <th>date</th>\n",
       "      <th>price</th>\n",
       "      <th>bedrooms</th>\n",
       "      <th>bathrooms</th>\n",
       "      <th>sqft_living</th>\n",
       "      <th>sqft_lot</th>\n",
       "      <th>floors</th>\n",
       "      <th>waterfront</th>\n",
       "      <th>view</th>\n",
       "      <th>condition</th>\n",
       "      <th>sqft_above</th>\n",
       "      <th>sqft_basement</th>\n",
       "      <th>yr_built</th>\n",
       "      <th>yr_renovated</th>\n",
       "      <th>street</th>\n",
       "      <th>city</th>\n",
       "      <th>statezip</th>\n",
       "      <th>country</th>\n",
       "    </tr>\n",
       "  </thead>\n",
       "  <tbody>\n",
       "    <tr>\n",
       "      <th>2095</th>\n",
       "      <td>2014-06-09 00:00:00</td>\n",
       "      <td>288350.0</td>\n",
       "      <td>3.0</td>\n",
       "      <td>1.50</td>\n",
       "      <td>1860</td>\n",
       "      <td>7963</td>\n",
       "      <td>1.0</td>\n",
       "      <td>0</td>\n",
       "      <td>0</td>\n",
       "      <td>3</td>\n",
       "      <td>1200</td>\n",
       "      <td>660</td>\n",
       "      <td>1963</td>\n",
       "      <td>2008</td>\n",
       "      <td>5162 S 170th St</td>\n",
       "      <td>Tukwila</td>\n",
       "      <td>WA 98188</td>\n",
       "      <td>USA</td>\n",
       "    </tr>\n",
       "    <tr>\n",
       "      <th>1173</th>\n",
       "      <td>2014-05-22 00:00:00</td>\n",
       "      <td>319950.0</td>\n",
       "      <td>2.0</td>\n",
       "      <td>1.00</td>\n",
       "      <td>1070</td>\n",
       "      <td>5824</td>\n",
       "      <td>1.0</td>\n",
       "      <td>0</td>\n",
       "      <td>2</td>\n",
       "      <td>5</td>\n",
       "      <td>1070</td>\n",
       "      <td>0</td>\n",
       "      <td>1949</td>\n",
       "      <td>0</td>\n",
       "      <td>7057 S Lakeridge Dr</td>\n",
       "      <td>Seattle</td>\n",
       "      <td>WA 98178</td>\n",
       "      <td>USA</td>\n",
       "    </tr>\n",
       "    <tr>\n",
       "      <th>1954</th>\n",
       "      <td>2014-06-05 00:00:00</td>\n",
       "      <td>210000.0</td>\n",
       "      <td>4.0</td>\n",
       "      <td>1.50</td>\n",
       "      <td>1920</td>\n",
       "      <td>10403</td>\n",
       "      <td>1.0</td>\n",
       "      <td>0</td>\n",
       "      <td>0</td>\n",
       "      <td>3</td>\n",
       "      <td>1370</td>\n",
       "      <td>550</td>\n",
       "      <td>1959</td>\n",
       "      <td>1989</td>\n",
       "      <td>2352 SW 338th St</td>\n",
       "      <td>Federal Way</td>\n",
       "      <td>WA 98023</td>\n",
       "      <td>USA</td>\n",
       "    </tr>\n",
       "    <tr>\n",
       "      <th>256</th>\n",
       "      <td>2014-05-07 00:00:00</td>\n",
       "      <td>515000.0</td>\n",
       "      <td>3.0</td>\n",
       "      <td>1.75</td>\n",
       "      <td>1580</td>\n",
       "      <td>9147</td>\n",
       "      <td>1.0</td>\n",
       "      <td>0</td>\n",
       "      <td>1</td>\n",
       "      <td>4</td>\n",
       "      <td>1210</td>\n",
       "      <td>370</td>\n",
       "      <td>1967</td>\n",
       "      <td>0</td>\n",
       "      <td>234 W Lake Sammamish Pkwy SE</td>\n",
       "      <td>Bellevue</td>\n",
       "      <td>WA 98008</td>\n",
       "      <td>USA</td>\n",
       "    </tr>\n",
       "    <tr>\n",
       "      <th>3341</th>\n",
       "      <td>2014-06-25 00:00:00</td>\n",
       "      <td>245700.0</td>\n",
       "      <td>3.0</td>\n",
       "      <td>2.25</td>\n",
       "      <td>1640</td>\n",
       "      <td>8400</td>\n",
       "      <td>1.0</td>\n",
       "      <td>0</td>\n",
       "      <td>0</td>\n",
       "      <td>3</td>\n",
       "      <td>1180</td>\n",
       "      <td>460</td>\n",
       "      <td>1968</td>\n",
       "      <td>1997</td>\n",
       "      <td>25425 34th Pl S</td>\n",
       "      <td>Kent</td>\n",
       "      <td>WA 98032</td>\n",
       "      <td>USA</td>\n",
       "    </tr>\n",
       "  </tbody>\n",
       "</table>\n",
       "</div>"
      ],
      "text/plain": [
       "                     date     price  bedrooms  bathrooms  sqft_living  \\\n",
       "2095  2014-06-09 00:00:00  288350.0       3.0       1.50         1860   \n",
       "1173  2014-05-22 00:00:00  319950.0       2.0       1.00         1070   \n",
       "1954  2014-06-05 00:00:00  210000.0       4.0       1.50         1920   \n",
       "256   2014-05-07 00:00:00  515000.0       3.0       1.75         1580   \n",
       "3341  2014-06-25 00:00:00  245700.0       3.0       2.25         1640   \n",
       "\n",
       "      sqft_lot  floors  waterfront  view  condition  sqft_above  \\\n",
       "2095      7963     1.0           0     0          3        1200   \n",
       "1173      5824     1.0           0     2          5        1070   \n",
       "1954     10403     1.0           0     0          3        1370   \n",
       "256       9147     1.0           0     1          4        1210   \n",
       "3341      8400     1.0           0     0          3        1180   \n",
       "\n",
       "      sqft_basement  yr_built  yr_renovated                        street  \\\n",
       "2095            660      1963          2008               5162 S 170th St   \n",
       "1173              0      1949             0           7057 S Lakeridge Dr   \n",
       "1954            550      1959          1989              2352 SW 338th St   \n",
       "256             370      1967             0  234 W Lake Sammamish Pkwy SE   \n",
       "3341            460      1968          1997               25425 34th Pl S   \n",
       "\n",
       "             city  statezip country  \n",
       "2095      Tukwila  WA 98188     USA  \n",
       "1173      Seattle  WA 98178     USA  \n",
       "1954  Federal Way  WA 98023     USA  \n",
       "256      Bellevue  WA 98008     USA  \n",
       "3341         Kent  WA 98032     USA  "
      ]
     },
     "execution_count": 14,
     "metadata": {},
     "output_type": "execute_result"
    }
   ],
   "source": [
    "# to inspect the train set\n",
    "housing.head()"
   ]
  },
  {
   "cell_type": "markdown",
   "metadata": {},
   "source": [
    "Let's see if the column names are consistent"
   ]
  },
  {
   "cell_type": "code",
   "execution_count": 15,
   "metadata": {},
   "outputs": [
    {
     "data": {
      "text/plain": [
       "Index(['date', 'price', 'bedrooms', 'bathrooms', 'sqft_living', 'sqft_lot',\n",
       "       'floors', 'waterfront', 'view', 'condition', 'sqft_above',\n",
       "       'sqft_basement', 'yr_built', 'yr_renovated', 'street', 'city',\n",
       "       'statezip', 'country'],\n",
       "      dtype='object')"
      ]
     },
     "execution_count": 15,
     "metadata": {},
     "output_type": "execute_result"
    }
   ],
   "source": [
    "housing.columns"
   ]
  },
  {
   "cell_type": "code",
   "execution_count": 16,
   "metadata": {},
   "outputs": [
    {
     "name": "stdout",
     "output_type": "stream",
     "text": [
      "<class 'pandas.core.frame.DataFrame'>\n",
      "Int64Index: 3450 entries, 2095 to 860\n",
      "Data columns (total 18 columns):\n",
      " #   Column         Non-Null Count  Dtype  \n",
      "---  ------         --------------  -----  \n",
      " 0   date           3450 non-null   object \n",
      " 1   price          3450 non-null   float64\n",
      " 2   bedrooms       3450 non-null   float64\n",
      " 3   bathrooms      3450 non-null   float64\n",
      " 4   sqft_living    3450 non-null   int64  \n",
      " 5   sqft_lot       3450 non-null   int64  \n",
      " 6   floors         3450 non-null   float64\n",
      " 7   waterfront     3450 non-null   int64  \n",
      " 8   view           3450 non-null   int64  \n",
      " 9   condition      3450 non-null   int64  \n",
      " 10  sqft_above     3450 non-null   int64  \n",
      " 11  sqft_basement  3450 non-null   int64  \n",
      " 12  yr_built       3450 non-null   int64  \n",
      " 13  yr_renovated   3450 non-null   int64  \n",
      " 14  street         3450 non-null   object \n",
      " 15  city           3450 non-null   object \n",
      " 16  statezip       3450 non-null   object \n",
      " 17  country        3450 non-null   object \n",
      "dtypes: float64(4), int64(9), object(5)\n",
      "memory usage: 512.1+ KB\n"
     ]
    }
   ],
   "source": [
    "housing.info()"
   ]
  },
  {
   "cell_type": "markdown",
   "metadata": {},
   "source": [
    "Let's cast the **date** column as datetime and **yr_built, yr_renovated, city, statezip** as categories  "
   ]
  },
  {
   "cell_type": "code",
   "execution_count": 17,
   "metadata": {},
   "outputs": [],
   "source": [
    "housing['date'] = housing.date.astype('datetime64')\n",
    "housing['yr_built'] = housing.yr_built.astype('category')\n",
    "housing['yr_renovated'] = housing.yr_renovated.astype('category')\n",
    "housing['city'] = housing.city.astype('category')\n",
    "housing['statezip'] = housing.statezip.astype('category')\n",
    "housing['country'] = housing.country.astype('category')"
   ]
  },
  {
   "cell_type": "code",
   "execution_count": 18,
   "metadata": {},
   "outputs": [
    {
     "name": "stdout",
     "output_type": "stream",
     "text": [
      "<class 'pandas.core.frame.DataFrame'>\n",
      "Int64Index: 3450 entries, 2095 to 860\n",
      "Data columns (total 18 columns):\n",
      " #   Column         Non-Null Count  Dtype         \n",
      "---  ------         --------------  -----         \n",
      " 0   date           3450 non-null   datetime64[ns]\n",
      " 1   price          3450 non-null   float64       \n",
      " 2   bedrooms       3450 non-null   float64       \n",
      " 3   bathrooms      3450 non-null   float64       \n",
      " 4   sqft_living    3450 non-null   int64         \n",
      " 5   sqft_lot       3450 non-null   int64         \n",
      " 6   floors         3450 non-null   float64       \n",
      " 7   waterfront     3450 non-null   int64         \n",
      " 8   view           3450 non-null   int64         \n",
      " 9   condition      3450 non-null   int64         \n",
      " 10  sqft_above     3450 non-null   int64         \n",
      " 11  sqft_basement  3450 non-null   int64         \n",
      " 12  yr_built       3450 non-null   category      \n",
      " 13  yr_renovated   3450 non-null   category      \n",
      " 14  street         3450 non-null   object        \n",
      " 15  city           3450 non-null   category      \n",
      " 16  statezip       3450 non-null   category      \n",
      " 17  country        3450 non-null   category      \n",
      "dtypes: category(5), datetime64[ns](1), float64(4), int64(7), object(1)\n",
      "memory usage: 405.8+ KB\n"
     ]
    }
   ],
   "source": [
    "housing.info()"
   ]
  },
  {
   "cell_type": "markdown",
   "metadata": {},
   "source": [
    "### Data Cleaning and Feature Engineering"
   ]
  },
  {
   "cell_type": "markdown",
   "metadata": {},
   "source": [
    "In this section, we'll create new columns by addition and subtraction to/from existing features. "
   ]
  },
  {
   "cell_type": "markdown",
   "metadata": {},
   "source": [
    "Let's extract only the codes from the **statezip** feature :"
   ]
  },
  {
   "cell_type": "code",
   "execution_count": 19,
   "metadata": {},
   "outputs": [
    {
     "data": {
      "text/plain": [
       "['98188', '98178', '98023', '98008', '98032', ..., '98070', '98288', '98354', '98047', '98050']\n",
       "Length: 77\n",
       "Categories (77, object): ['98001', '98002', '98003', '98004', ..., '98198', '98199', '98288', '98354']"
      ]
     },
     "execution_count": 19,
     "metadata": {},
     "output_type": "execute_result"
    }
   ],
   "source": [
    "housing['zip'] = housing.statezip.apply(lambda x: x.split()[1])\n",
    "\n",
    "# to check the unique codes\n",
    "housing['zip'].unique()"
   ]
  },
  {
   "cell_type": "markdown",
   "metadata": {},
   "source": [
    "According to Wikipedia, the first digit represents the state ('9' corresponds to Washington), the second and third digits represent the region (or perhaps a large city) while the last two digits represent the the area of the city(for metropolitan areas) or a village/town (outside metro areas)."
   ]
  },
  {
   "cell_type": "markdown",
   "metadata": {},
   "source": [
    "Let's create a column to include the region of the houses in the data:"
   ]
  },
  {
   "cell_type": "code",
   "execution_count": 20,
   "metadata": {},
   "outputs": [
    {
     "data": {
      "text/plain": [
       "{'80', '81', '82', '83'}"
      ]
     },
     "execution_count": 20,
     "metadata": {},
     "output_type": "execute_result"
    }
   ],
   "source": [
    "# to check the unique regions in the data\n",
    "set([code[1:3] for code in housing['zip'].unique()])"
   ]
  },
  {
   "cell_type": "code",
   "execution_count": 21,
   "metadata": {},
   "outputs": [],
   "source": [
    "regions = {'80':'region_1','81':'region_2','82':'region_3','83':'region_4'}\n",
    "\n",
    "# to extract the second and third digits of the codes\n",
    "regional_code = housing.zip.apply(lambda x: x[1:3])\n",
    "\n",
    "# to map each code to their respective regions\n",
    "housing['region'] = regional_code.map(regions)\n",
    "\n",
    "# to cast the column to the right data type\n",
    "housing.region = housing.region.astype('category')"
   ]
  },
  {
   "cell_type": "markdown",
   "metadata": {},
   "source": [
    "Adding more bedrooms or bathrooms to a small living area might not increase house value. Let's add a feature to capture the number of bedrooms and bathrooms per living area"
   ]
  },
  {
   "cell_type": "code",
   "execution_count": 22,
   "metadata": {},
   "outputs": [],
   "source": [
    "housing['bedrooms_per_sqft'] = housing.bedrooms/housing.sqft_living\n",
    "housing['bathrooms_per_sqft'] = housing.bathrooms/housing.sqft_living"
   ]
  },
  {
   "cell_type": "markdown",
   "metadata": {},
   "source": [
    "A big living area does not guarantee high value. A small house on a small land might cost more than a big house on the same land. Let's create a feature to capture the available space per unit living area"
   ]
  },
  {
   "cell_type": "code",
   "execution_count": 23,
   "metadata": {},
   "outputs": [],
   "source": [
    "housing['lot_per_sqft'] = housing.sqft_lot/housing.sqft_living"
   ]
  },
  {
   "cell_type": "markdown",
   "metadata": {},
   "source": [
    "There are zero values for features like **bedrooms, bathrooms and waterfront**. this could be because these features do not exist in the building. \n",
    "\n",
    "**yr_renovated** also has zero values maybe because some houses were never renovated. Let's create columns to indicate this information."
   ]
  },
  {
   "cell_type": "code",
   "execution_count": 24,
   "metadata": {},
   "outputs": [],
   "source": [
    "housing['has_waterfront'] = housing.waterfront.apply(lambda x: 0 if x==0 else 1)\n",
    "housing['has_view'] = housing.view.apply(lambda x: 0 if x==0 else 1)\n",
    "housing['has_basement'] = housing.sqft_basement.apply(lambda x: 0 if x==0 else 1)\n",
    "housing['was_renovated'] = housing.yr_renovated.apply(lambda x: 0 if x==0 else 1)\n",
    "\n",
    "# to change them to the correct datatype\n",
    "housing['has_waterfront'] = housing.has_waterfront.astype('category')\n",
    "housing['has_view'] = housing.has_view.astype('category')\n",
    "housing['has_basement'] = housing.has_basement.astype('category')\n",
    "housing['was_renovated'] = housing.was_renovated.astype('category')"
   ]
  },
  {
   "cell_type": "code",
   "execution_count": 25,
   "metadata": {},
   "outputs": [
    {
     "data": {
      "text/html": [
       "<div>\n",
       "<style scoped>\n",
       "    .dataframe tbody tr th:only-of-type {\n",
       "        vertical-align: middle;\n",
       "    }\n",
       "\n",
       "    .dataframe tbody tr th {\n",
       "        vertical-align: top;\n",
       "    }\n",
       "\n",
       "    .dataframe thead th {\n",
       "        text-align: right;\n",
       "    }\n",
       "</style>\n",
       "<table border=\"1\" class=\"dataframe\">\n",
       "  <thead>\n",
       "    <tr style=\"text-align: right;\">\n",
       "      <th></th>\n",
       "      <th>date</th>\n",
       "      <th>price</th>\n",
       "      <th>bedrooms</th>\n",
       "      <th>bathrooms</th>\n",
       "      <th>sqft_living</th>\n",
       "      <th>sqft_lot</th>\n",
       "      <th>floors</th>\n",
       "      <th>waterfront</th>\n",
       "      <th>view</th>\n",
       "      <th>condition</th>\n",
       "      <th>...</th>\n",
       "      <th>country</th>\n",
       "      <th>zip</th>\n",
       "      <th>region</th>\n",
       "      <th>bedrooms_per_sqft</th>\n",
       "      <th>bathrooms_per_sqft</th>\n",
       "      <th>lot_per_sqft</th>\n",
       "      <th>has_waterfront</th>\n",
       "      <th>has_view</th>\n",
       "      <th>has_basement</th>\n",
       "      <th>was_renovated</th>\n",
       "    </tr>\n",
       "  </thead>\n",
       "  <tbody>\n",
       "    <tr>\n",
       "      <th>2095</th>\n",
       "      <td>2014-06-09</td>\n",
       "      <td>288350.0</td>\n",
       "      <td>3.0</td>\n",
       "      <td>1.50</td>\n",
       "      <td>1860</td>\n",
       "      <td>7963</td>\n",
       "      <td>1.0</td>\n",
       "      <td>0</td>\n",
       "      <td>0</td>\n",
       "      <td>3</td>\n",
       "      <td>...</td>\n",
       "      <td>USA</td>\n",
       "      <td>98188</td>\n",
       "      <td>region_2</td>\n",
       "      <td>0.001613</td>\n",
       "      <td>0.000806</td>\n",
       "      <td>4.281183</td>\n",
       "      <td>0</td>\n",
       "      <td>0</td>\n",
       "      <td>1</td>\n",
       "      <td>1</td>\n",
       "    </tr>\n",
       "    <tr>\n",
       "      <th>1173</th>\n",
       "      <td>2014-05-22</td>\n",
       "      <td>319950.0</td>\n",
       "      <td>2.0</td>\n",
       "      <td>1.00</td>\n",
       "      <td>1070</td>\n",
       "      <td>5824</td>\n",
       "      <td>1.0</td>\n",
       "      <td>0</td>\n",
       "      <td>2</td>\n",
       "      <td>5</td>\n",
       "      <td>...</td>\n",
       "      <td>USA</td>\n",
       "      <td>98178</td>\n",
       "      <td>region_2</td>\n",
       "      <td>0.001869</td>\n",
       "      <td>0.000935</td>\n",
       "      <td>5.442991</td>\n",
       "      <td>0</td>\n",
       "      <td>1</td>\n",
       "      <td>0</td>\n",
       "      <td>0</td>\n",
       "    </tr>\n",
       "    <tr>\n",
       "      <th>1954</th>\n",
       "      <td>2014-06-05</td>\n",
       "      <td>210000.0</td>\n",
       "      <td>4.0</td>\n",
       "      <td>1.50</td>\n",
       "      <td>1920</td>\n",
       "      <td>10403</td>\n",
       "      <td>1.0</td>\n",
       "      <td>0</td>\n",
       "      <td>0</td>\n",
       "      <td>3</td>\n",
       "      <td>...</td>\n",
       "      <td>USA</td>\n",
       "      <td>98023</td>\n",
       "      <td>region_1</td>\n",
       "      <td>0.002083</td>\n",
       "      <td>0.000781</td>\n",
       "      <td>5.418229</td>\n",
       "      <td>0</td>\n",
       "      <td>0</td>\n",
       "      <td>1</td>\n",
       "      <td>1</td>\n",
       "    </tr>\n",
       "    <tr>\n",
       "      <th>256</th>\n",
       "      <td>2014-05-07</td>\n",
       "      <td>515000.0</td>\n",
       "      <td>3.0</td>\n",
       "      <td>1.75</td>\n",
       "      <td>1580</td>\n",
       "      <td>9147</td>\n",
       "      <td>1.0</td>\n",
       "      <td>0</td>\n",
       "      <td>1</td>\n",
       "      <td>4</td>\n",
       "      <td>...</td>\n",
       "      <td>USA</td>\n",
       "      <td>98008</td>\n",
       "      <td>region_1</td>\n",
       "      <td>0.001899</td>\n",
       "      <td>0.001108</td>\n",
       "      <td>5.789241</td>\n",
       "      <td>0</td>\n",
       "      <td>1</td>\n",
       "      <td>1</td>\n",
       "      <td>0</td>\n",
       "    </tr>\n",
       "    <tr>\n",
       "      <th>3341</th>\n",
       "      <td>2014-06-25</td>\n",
       "      <td>245700.0</td>\n",
       "      <td>3.0</td>\n",
       "      <td>2.25</td>\n",
       "      <td>1640</td>\n",
       "      <td>8400</td>\n",
       "      <td>1.0</td>\n",
       "      <td>0</td>\n",
       "      <td>0</td>\n",
       "      <td>3</td>\n",
       "      <td>...</td>\n",
       "      <td>USA</td>\n",
       "      <td>98032</td>\n",
       "      <td>region_1</td>\n",
       "      <td>0.001829</td>\n",
       "      <td>0.001372</td>\n",
       "      <td>5.121951</td>\n",
       "      <td>0</td>\n",
       "      <td>0</td>\n",
       "      <td>1</td>\n",
       "      <td>1</td>\n",
       "    </tr>\n",
       "  </tbody>\n",
       "</table>\n",
       "<p>5 rows × 27 columns</p>\n",
       "</div>"
      ],
      "text/plain": [
       "           date     price  bedrooms  bathrooms  sqft_living  sqft_lot  floors  \\\n",
       "2095 2014-06-09  288350.0       3.0       1.50         1860      7963     1.0   \n",
       "1173 2014-05-22  319950.0       2.0       1.00         1070      5824     1.0   \n",
       "1954 2014-06-05  210000.0       4.0       1.50         1920     10403     1.0   \n",
       "256  2014-05-07  515000.0       3.0       1.75         1580      9147     1.0   \n",
       "3341 2014-06-25  245700.0       3.0       2.25         1640      8400     1.0   \n",
       "\n",
       "      waterfront  view  condition  ...  country    zip    region  \\\n",
       "2095           0     0          3  ...      USA  98188  region_2   \n",
       "1173           0     2          5  ...      USA  98178  region_2   \n",
       "1954           0     0          3  ...      USA  98023  region_1   \n",
       "256            0     1          4  ...      USA  98008  region_1   \n",
       "3341           0     0          3  ...      USA  98032  region_1   \n",
       "\n",
       "     bedrooms_per_sqft bathrooms_per_sqft lot_per_sqft has_waterfront  \\\n",
       "2095          0.001613           0.000806     4.281183              0   \n",
       "1173          0.001869           0.000935     5.442991              0   \n",
       "1954          0.002083           0.000781     5.418229              0   \n",
       "256           0.001899           0.001108     5.789241              0   \n",
       "3341          0.001829           0.001372     5.121951              0   \n",
       "\n",
       "     has_view has_basement was_renovated  \n",
       "2095        0            1             1  \n",
       "1173        1            0             0  \n",
       "1954        0            1             1  \n",
       "256         1            1             0  \n",
       "3341        0            1             1  \n",
       "\n",
       "[5 rows x 27 columns]"
      ]
     },
     "execution_count": 25,
     "metadata": {},
     "output_type": "execute_result"
    }
   ],
   "source": [
    "housing.head()"
   ]
  },
  {
   "cell_type": "markdown",
   "metadata": {},
   "source": [
    "### Checking for Correlations"
   ]
  },
  {
   "cell_type": "markdown",
   "metadata": {},
   "source": [
    "Which attributes affect house prices the most?\n",
    "\n",
    "Let's see:"
   ]
  },
  {
   "cell_type": "code",
   "execution_count": 26,
   "metadata": {},
   "outputs": [
    {
     "data": {
      "text/plain": [
       "price                 1.000000\n",
       "sqft_living           0.682879\n",
       "sqft_above            0.580925\n",
       "bathrooms             0.501878\n",
       "view                  0.355801\n",
       "sqft_basement         0.337028\n",
       "bedrooms              0.309303\n",
       "floors                0.256614\n",
       "waterfront            0.213397\n",
       "sqft_lot              0.076889\n",
       "condition             0.040158\n",
       "lot_per_sqft         -0.047394\n",
       "bathrooms_per_sqft   -0.270372\n",
       "bedrooms_per_sqft    -0.479070\n",
       "Name: price, dtype: float64"
      ]
     },
     "execution_count": 26,
     "metadata": {},
     "output_type": "execute_result"
    }
   ],
   "source": [
    "housing.corr()['price'].sort_values(ascending=False)"
   ]
  },
  {
   "cell_type": "markdown",
   "metadata": {},
   "source": [
    "**bedrooms_per_sqft** appears to be more correlated than the **bedrooms** feature. It also affects price negatively as opposed to the positive relationship between **bedrooms** and **price**. **lot_per_sqft** and **bathrooms_per_sqft** also have negative relationships with price"
   ]
  },
  {
   "cell_type": "markdown",
   "metadata": {},
   "source": [
    "Let's visualize the correlation of the most promising features with price"
   ]
  },
  {
   "cell_type": "code",
   "execution_count": 27,
   "metadata": {
    "scrolled": true
   },
   "outputs": [],
   "source": [
    "from pandas.plotting import scatter_matrix"
   ]
  },
  {
   "cell_type": "code",
   "execution_count": 28,
   "metadata": {},
   "outputs": [
    {
     "data": {
      "image/png": "[encoded data removed]",
      "text/plain": [
       "<Figure size 1080x720 with 25 Axes>"
      ]
     },
     "metadata": {
      "needs_background": "light"
     },
     "output_type": "display_data"
    }
   ],
   "source": [
    "scatter_matrix(housing[['price','sqft_living','sqft_above','bathrooms','bedrooms_per_sqft']],figsize=(15,10));"
   ]
  },
  {
   "cell_type": "markdown",
   "metadata": {},
   "source": [
    "We can see the clear pattern between these features and price. Let's zoom in on the scatterplot between **price** and **sqft_living**"
   ]
  },
  {
   "cell_type": "code",
   "execution_count": 29,
   "metadata": {},
   "outputs": [
    {
     "data": {
      "image/png": "[encoded data removed]",
      "text/plain": [
       "<Figure size 576x432 with 1 Axes>"
      ]
     },
     "metadata": {
      "needs_background": "light"
     },
     "output_type": "display_data"
    }
   ],
   "source": [
    "plt.figure(figsize=(8,6))\n",
    "sns.scatterplot(x='sqft_living',y='price',data=housing);"
   ]
  },
  {
   "cell_type": "markdown",
   "metadata": {},
   "source": [
    "We can see an horizontal trend at zero dollar. This is a quirk we should handle before feeding our data to the models"
   ]
  },
  {
   "cell_type": "markdown",
   "metadata": {},
   "source": [
    "### Visualizing Categorical Features"
   ]
  },
  {
   "cell_type": "markdown",
   "metadata": {},
   "source": [
    "So far, we've visualized numerical data. Let's see how the categorical features affect house prices"
   ]
  },
  {
   "cell_type": "code",
   "execution_count": 30,
   "metadata": {},
   "outputs": [
    {
     "name": "stdout",
     "output_type": "stream",
     "text": [
      "<class 'pandas.core.frame.DataFrame'>\n",
      "Int64Index: 3450 entries, 2095 to 860\n",
      "Data columns (total 27 columns):\n",
      " #   Column              Non-Null Count  Dtype         \n",
      "---  ------              --------------  -----         \n",
      " 0   date                3450 non-null   datetime64[ns]\n",
      " 1   price               3450 non-null   float64       \n",
      " 2   bedrooms            3450 non-null   float64       \n",
      " 3   bathrooms           3450 non-null   float64       \n",
      " 4   sqft_living         3450 non-null   int64         \n",
      " 5   sqft_lot            3450 non-null   int64         \n",
      " 6   floors              3450 non-null   float64       \n",
      " 7   waterfront          3450 non-null   int64         \n",
      " 8   view                3450 non-null   int64         \n",
      " 9   condition           3450 non-null   int64         \n",
      " 10  sqft_above          3450 non-null   int64         \n",
      " 11  sqft_basement       3450 non-null   int64         \n",
      " 12  yr_built            3450 non-null   category      \n",
      " 13  yr_renovated        3450 non-null   category      \n",
      " 14  street              3450 non-null   object        \n",
      " 15  city                3450 non-null   category      \n",
      " 16  statezip            3450 non-null   category      \n",
      " 17  country             3450 non-null   category      \n",
      " 18  zip                 3450 non-null   category      \n",
      " 19  region              3450 non-null   category      \n",
      " 20  bedrooms_per_sqft   3450 non-null   float64       \n",
      " 21  bathrooms_per_sqft  3450 non-null   float64       \n",
      " 22  lot_per_sqft        3450 non-null   float64       \n",
      " 23  has_waterfront      3450 non-null   category      \n",
      " 24  has_view            3450 non-null   category      \n",
      " 25  has_basement        3450 non-null   category      \n",
      " 26  was_renovated       3450 non-null   category      \n",
      "dtypes: category(11), datetime64[ns](1), float64(7), int64(7), object(1)\n",
      "memory usage: 510.2+ KB\n"
     ]
    }
   ],
   "source": [
    "# to inspect the columns\n",
    "housing.info()"
   ]
  },
  {
   "cell_type": "code",
   "execution_count": 31,
   "metadata": {},
   "outputs": [],
   "source": [
    "# handpick some categorical attributes\n",
    "categories = ['yr_built','yr_renovated','city','zip','region','has_waterfront',\n",
    "              'has_view','has_basement','was_renovated']"
   ]
  },
  {
   "cell_type": "code",
   "execution_count": null,
   "metadata": {
    "scrolled": false
   },
   "outputs": [],
   "source": [
    "# to create a dashboard for the boxplots\n",
    "f,axes=plt.subplots(3,3, sharey=True, figsize=(15,15))\n",
    "\n",
    "# to plot the boxplots on the dashboard\n",
    "for i in range(len(categories)):\n",
    "    row = i//3\n",
    "    col = i%3\n",
    "    sns.boxplot(x=categories[i],y='price',data=housing,ax = axes[row,col] )"
   ]
  },
  {
   "cell_type": "markdown",
   "metadata": {},
   "source": [
    "Clearly, houses in some cities cost more than others. \n",
    "\n",
    "**waterfront** and **view** appear to affect house prices positively. \n",
    "\n",
    "Houses in regions 1 and 2 cost slightly more than houses in othe regions"
   ]
  },
  {
   "cell_type": "markdown",
   "metadata": {},
   "source": [
    "We've had a feel of our data. Now, let's prepare it for machine learning"
   ]
  },
  {
   "cell_type": "markdown",
   "metadata": {},
   "source": [
    "# 4. Data Preprocessing"
   ]
  },
  {
   "cell_type": "markdown",
   "metadata": {},
   "source": [
    "In this section, we'll:  \n",
    "- Start with a clean copy of our data and remove records with zero dollar prices\n",
    "- Seperate the matrix of features from the target variable vector  \n",
    "- Extract the second and third digit from the **statezip** and create the **region** feature  \n",
    "- Create the **bedrooms_per_sqft**,**bathrooms_per_sqft**, **lot_per_sqft**, **has_waterfront**, **has_view**, **has_basement**, and **was_renovated** features  \n",
    "- Select the most promising features  \n",
    "- Scale numerical features  \n",
    "- Create dummy variables from categorical features  \n",
    "- Build a pipeline to string all the preprocessing operations  "
   ]
  },
  {
   "cell_type": "code",
   "execution_count": null,
   "metadata": {},
   "outputs": [],
   "source": [
    "# revert to a clean copy of data, drop houses that cost zero dollar\n",
    "reduced_data = train[train.price!=0]"
   ]
  },
  {
   "cell_type": "code",
   "execution_count": null,
   "metadata": {
    "scrolled": true
   },
   "outputs": [],
   "source": [
    "# seperate matrix of features from target variable vector\n",
    "X = reduced_data.drop('price',axis=1)\n",
    "y = reduced_data['price']\n",
    "\n",
    "# check the shape of the matrix and vector\n",
    "print(X.shape)\n",
    "print(len(y))"
   ]
  },
  {
   "cell_type": "markdown",
   "metadata": {},
   "source": [
    "### Creating New Features"
   ]
  },
  {
   "cell_type": "code",
   "execution_count": null,
   "metadata": {},
   "outputs": [],
   "source": [
    "regions = {'80':'region_1','81':'region_2','82':'region_3','83':'region_4'}\n",
    "\n",
    "# to extract the second and third digits of the codes\n",
    "codes = X.statezip.apply(lambda x: x[4:6]) \n",
    "\n",
    "# to map each code to their respective regions\n",
    "X['region'] = codes.map(regions)"
   ]
  },
  {
   "cell_type": "code",
   "execution_count": null,
   "metadata": {},
   "outputs": [],
   "source": [
    "X['bedrooms_per_sqft'] = X.bedrooms/X.sqft_living\n",
    "X['bathrooms_per_sqft'] = X.bathrooms/X.sqft_living\n",
    "X['lot_per_sqft'] = X.sqft_lot/X.sqft_living\n",
    "X['has_waterfront'] = X.waterfront.apply(lambda x: 0 if x==0 else 1)\n",
    "X['has_view'] = X.view.apply(lambda x: 0 if x==0 else 1)\n",
    "X['has_basement'] = X.sqft_basement.apply(lambda x: 0 if x==0 else 1)\n",
    "X['was_renovated'] = X.yr_renovated.apply(lambda x: 0 if x==0 else 1)"
   ]
  },
  {
   "cell_type": "code",
   "execution_count": null,
   "metadata": {},
   "outputs": [],
   "source": [
    "X.shape"
   ]
  },
  {
   "cell_type": "markdown",
   "metadata": {},
   "source": [
    "We started with 17 features and added 8 more features"
   ]
  },
  {
   "cell_type": "markdown",
   "metadata": {},
   "source": [
    "### Selecting Features"
   ]
  },
  {
   "cell_type": "markdown",
   "metadata": {},
   "source": [
    "Let's take a look at our column names"
   ]
  },
  {
   "cell_type": "code",
   "execution_count": null,
   "metadata": {},
   "outputs": [],
   "source": [
    "X.columns"
   ]
  },
  {
   "cell_type": "markdown",
   "metadata": {},
   "source": [
    "- The **date** feature probably contains details about when the house was sold or when the sale was recorded. We should drop it\n",
    "- The **street** attribute can also be dropped since we have columns that indicate location\n",
    "- **city** and **region** give the same information. We should keep **region** since it contains fewer categories\n",
    "- **statezip** and **country** offer no additional information. they should be dropped as well"
   ]
  },
  {
   "cell_type": "code",
   "execution_count": null,
   "metadata": {},
   "outputs": [],
   "source": [
    "# to drop columns\n",
    "X_dropped = X.drop(['date','street','city','statezip','country'],axis=1)\n",
    "\n",
    "# to check the selected features\n",
    "X_dropped.columns"
   ]
  },
  {
   "cell_type": "markdown",
   "metadata": {},
   "source": [
    "### Scaling Numerical Features"
   ]
  },
  {
   "cell_type": "markdown",
   "metadata": {},
   "source": [
    "We should scale numerical features to put them on the scale. This ensures that some features do not influence house prices than others.  \n",
    "\n",
    "First off, let's separate numerical features from categorical ones"
   ]
  },
  {
   "cell_type": "code",
   "execution_count": null,
   "metadata": {},
   "outputs": [],
   "source": [
    "cat_attributes = ['region']\n",
    "num_attributes = [col for col in X_dropped.columns if col not in cat_attributes]"
   ]
  },
  {
   "cell_type": "code",
   "execution_count": null,
   "metadata": {},
   "outputs": [],
   "source": [
    "# check if all columns have been included\n",
    "len(X_dropped.columns) == len(cat_attributes) + len(num_attributes)"
   ]
  },
  {
   "cell_type": "code",
   "execution_count": null,
   "metadata": {},
   "outputs": [],
   "source": [
    "# import the library for scaling\n",
    "from sklearn.preprocessing import StandardScaler"
   ]
  },
  {
   "cell_type": "code",
   "execution_count": null,
   "metadata": {},
   "outputs": [],
   "source": [
    "# create scaler object and fit_transform our numerical data\n",
    "\n",
    "scaler = StandardScaler()\n",
    "\n",
    "X_num_scaled = scaler.fit_transform(X_dropped[num_attributes])"
   ]
  },
  {
   "cell_type": "code",
   "execution_count": null,
   "metadata": {},
   "outputs": [],
   "source": [
    "X_num_scaled"
   ]
  },
  {
   "cell_type": "markdown",
   "metadata": {},
   "source": [
    "### Creating Dummy Variables"
   ]
  },
  {
   "cell_type": "markdown",
   "metadata": {},
   "source": [
    "We should encode categorical columns for machine learning models to understand. We'll create a new column (dummy variable) for every category in the data. "
   ]
  },
  {
   "cell_type": "code",
   "execution_count": null,
   "metadata": {},
   "outputs": [],
   "source": [
    "# import the library for encoding categories\n",
    "from sklearn.preprocessing import OneHotEncoder"
   ]
  },
  {
   "cell_type": "code",
   "execution_count": null,
   "metadata": {
    "scrolled": true
   },
   "outputs": [],
   "source": [
    "# create the encoder object and fit_transform the categorical feature(s)\n",
    "encoder = OneHotEncoder(sparse=False,drop='first')\n",
    "X_cat_encoded = encoder.fit_transform(X_dropped[cat_attributes])"
   ]
  },
  {
   "cell_type": "code",
   "execution_count": null,
   "metadata": {},
   "outputs": [],
   "source": [
    "X_cat_encoded"
   ]
  },
  {
   "cell_type": "markdown",
   "metadata": {},
   "source": [
    "**drop='first'** was specified to avoid dummy variable trap  \n",
    "**sparse=False** was specified to get an array after transformation instead of the default sparse matrix"
   ]
  },
  {
   "cell_type": "markdown",
   "metadata": {},
   "source": [
    "Now that we have preprocessed our numerical and categorical data, we can concatenate them"
   ]
  },
  {
   "cell_type": "code",
   "execution_count": null,
   "metadata": {},
   "outputs": [],
   "source": [
    "X_prepared = np.c_[X_num_scaled,X_cat_encoded]"
   ]
  },
  {
   "cell_type": "code",
   "execution_count": null,
   "metadata": {},
   "outputs": [],
   "source": [
    "X_prepared.shape"
   ]
  },
  {
   "cell_type": "markdown",
   "metadata": {},
   "source": [
    "We can transform the array into a dataframe"
   ]
  },
  {
   "cell_type": "code",
   "execution_count": null,
   "metadata": {},
   "outputs": [],
   "source": [
    "# get the column names\n",
    "cols = num_attributes + list(encoder.get_feature_names())\n",
    "\n",
    "# construct the dataframe\n",
    "X_df = pd.DataFrame(X_prepared,columns=cols)\n",
    "\n",
    "# inspect the top rows\n",
    "X_df.head()"
   ]
  },
  {
   "cell_type": "markdown",
   "metadata": {},
   "source": [
    "**encoder.get_feature_names()** returns an array of the resulting categorical feature names"
   ]
  },
  {
   "cell_type": "markdown",
   "metadata": {},
   "source": [
    "### Builiding Pipelines"
   ]
  },
  {
   "cell_type": "markdown",
   "metadata": {},
   "source": [
    "We can string all the preprocessing steps with pipelines. In this section we'll:\n",
    "- Create a custom transformer to add our new features\n",
    "- Create a column transformer to handle the numerical and categorical features seperately\n",
    "- Create a pipeline to bundle these operations"
   ]
  },
  {
   "cell_type": "markdown",
   "metadata": {},
   "source": [
    "Let's create our custom transformer:"
   ]
  },
  {
   "cell_type": "code",
   "execution_count": null,
   "metadata": {},
   "outputs": [],
   "source": [
    "class CreateFeatures:\n",
    "    regions = {'80':'region_1','81':'region_2','82':'region_3','83':'region_4'}\n",
    "\n",
    "    def __init__(self):\n",
    "        pass\n",
    "    \n",
    "    def fit(self,X,y=None):\n",
    "        return self\n",
    "    \n",
    "    def transform(self,X,y=None):\n",
    "        # so as to leave our input data untouched\n",
    "        data = X.copy()\n",
    "        \n",
    "        # to extract the second and third digits of the codes\n",
    "        codes = data.statezip.apply(lambda x: x[4:6]) \n",
    "        \n",
    "        # to map each code to their respective regions\n",
    "        data['region'] = codes.map(regions)\n",
    "        data['bedrooms_per_sqft'] = data.bedrooms/data.sqft_living\n",
    "        data['bathrooms_per_sqft'] = data.bathrooms/data.sqft_living\n",
    "        data['lot_per_sqft'] = data.sqft_lot/data.sqft_living\n",
    "        data['has_waterfront'] = data.waterfront.apply(lambda x: 0 if x==0 else 1)\n",
    "        data['has_view'] = data.view.apply(lambda x: 0 if x==0 else 1)\n",
    "        data['has_basement'] = data.sqft_basement.apply(lambda x: 0 if x==0 else 1)\n",
    "        data['was_renovated'] = data.yr_renovated.apply(lambda x: 0 if x==0 else 1)\n",
    "        return data\n",
    "    \n",
    "    def fit_transform(self,X,y=None):\n",
    "        return self.transform(X)"
   ]
  },
  {
   "cell_type": "markdown",
   "metadata": {},
   "source": [
    "Let's get a clean copy of the features to test our transformer:"
   ]
  },
  {
   "cell_type": "code",
   "execution_count": null,
   "metadata": {},
   "outputs": [],
   "source": [
    "# before transforming\n",
    "features = reduced_data.drop('price',axis=1)\n",
    "target = reduced_data['price']\n",
    "features.shape"
   ]
  },
  {
   "cell_type": "code",
   "execution_count": null,
   "metadata": {},
   "outputs": [],
   "source": [
    "# create the transformer object\n",
    "attr_adder = CreateFeatures()\n",
    "\n",
    "# after transforming\n",
    "added_features = attr_adder.transform(features)\n",
    "added_features.shape"
   ]
  },
  {
   "cell_type": "code",
   "execution_count": null,
   "metadata": {},
   "outputs": [],
   "source": [
    "attr_adder.fit_transform(features).shape"
   ]
  },
  {
   "cell_type": "code",
   "execution_count": null,
   "metadata": {},
   "outputs": [],
   "source": [
    "features.shape"
   ]
  },
  {
   "cell_type": "markdown",
   "metadata": {},
   "source": [
    "The **fit_transform** and **transform** methods have transformed our input data without modifying it. Let's create our column transformer:"
   ]
  },
  {
   "cell_type": "markdown",
   "metadata": {},
   "source": [
    "We created a list of our numerical and categorical attributes earlier. Let's have a look:"
   ]
  },
  {
   "cell_type": "code",
   "execution_count": null,
   "metadata": {},
   "outputs": [],
   "source": [
    "num_attributes, cat_attributes"
   ]
  },
  {
   "cell_type": "markdown",
   "metadata": {},
   "source": [
    "We're to scale numerical features and encode categorical features:"
   ]
  },
  {
   "cell_type": "code",
   "execution_count": null,
   "metadata": {},
   "outputs": [],
   "source": [
    "# import the ColumnTransformer class\n",
    "from sklearn.compose import ColumnTransformer"
   ]
  },
  {
   "cell_type": "code",
   "execution_count": null,
   "metadata": {},
   "outputs": [],
   "source": [
    "# to build the transformer\n",
    "transformer = ColumnTransformer([\n",
    "                                ('num',StandardScaler(),num_attributes),\n",
    "                                ('cat',OneHotEncoder(sparse=False,drop='first'),cat_attributes)\n",
    "                                ])"
   ]
  },
  {
   "cell_type": "markdown",
   "metadata": {},
   "source": [
    "Finally, let's bundle all the preprocessing stages into a single pipeline:"
   ]
  },
  {
   "cell_type": "code",
   "execution_count": null,
   "metadata": {},
   "outputs": [],
   "source": [
    "# import the Pipeline class\n",
    "from sklearn.pipeline import Pipeline"
   ]
  },
  {
   "cell_type": "code",
   "execution_count": null,
   "metadata": {},
   "outputs": [],
   "source": [
    "# build the preprocessing pipeline\n",
    "preprocessor = Pipeline([\n",
    "                        ('add_features',attr_adder),\n",
    "                        ('transform',transformer)\n",
    "                        ])"
   ]
  },
  {
   "cell_type": "code",
   "execution_count": null,
   "metadata": {},
   "outputs": [],
   "source": [
    "# to check that we have the same output as the manual preprocessing method\n",
    "(preprocessor.fit_transform(features) == X_prepared).all()"
   ]
  },
  {
   "cell_type": "markdown",
   "metadata": {},
   "source": [
    "# 5. Model Training and Evaluation"
   ]
  },
  {
   "cell_type": "markdown",
   "metadata": {},
   "source": [
    "We can proceed to training and evaluating machine learning models on our preprocessed data."
   ]
  },
  {
   "cell_type": "code",
   "execution_count": null,
   "metadata": {},
   "outputs": [],
   "source": [
    "# import some models\n",
    "from sklearn.linear_model import LinearRegression, LassoCV\n",
    "from sklearn.tree import DecisionTreeRegressor\n",
    "from sklearn.ensemble import RandomForestRegressor\n",
    "\n",
    "# import the evaluation function\n",
    "from sklearn.metrics import mean_absolute_error as mae"
   ]
  },
  {
   "cell_type": "code",
   "execution_count": null,
   "metadata": {},
   "outputs": [],
   "source": [
    "# train models on the preprocessed features and store their respective scores\n",
    "models = [LinearRegression(),DecisionTreeRegressor(random_state=42),RandomForestRegressor(random_state=42)]\n",
    "prepared_train = preprocessor.fit_transform(features)\n",
    "train_target = target\n",
    "train_scores = {}\n",
    "for model in models:\n",
    "    model.fit(prepared_train,train_target)\n",
    "    train_predictions = model.predict(prepared_train)\n",
    "    train_scores[model] = mae(train_predictions,target)   "
   ]
  },
  {
   "cell_type": "markdown",
   "metadata": {},
   "source": [
    "Let's look at the training scores:"
   ]
  },
  {
   "cell_type": "code",
   "execution_count": null,
   "metadata": {
    "scrolled": true
   },
   "outputs": [],
   "source": [
    "train_scores"
   ]
  },
  {
   "cell_type": "markdown",
   "metadata": {},
   "source": [
    "Decison Tree has the best performance on the training set. Let's evaluate the performance of the models on unseen data, the test set. "
   ]
  },
  {
   "cell_type": "code",
   "execution_count": null,
   "metadata": {},
   "outputs": [],
   "source": [
    "test_features = test.drop('price',axis=1)\n",
    "test_target = test.price\n",
    "prepared_test = preprocessor.transform(test_features)\n",
    "test_scores = {}\n",
    "for model in models:\n",
    "    model.fit(prepared_train,train_target)\n",
    "    test_predictions = model.predict(prepared_test)\n",
    "    test_scores[model] = mae(test_predictions,test_target) "
   ]
  },
  {
   "cell_type": "code",
   "execution_count": null,
   "metadata": {},
   "outputs": [],
   "source": [
    "test_scores"
   ]
  },
  {
   "cell_type": "markdown",
   "metadata": {},
   "source": [
    "Linear Regressor does not perform so well on both train and test data. This is a sign of underfitting.\n",
    "\n",
    "Underfitting occurs when the model fails to capture relevant patterns. Possible solutions include: Adding relevant features like Polynomial features or Trying out complex models\n",
    "\n",
    "Decision Tree, on the other hand, does not look as shiny as it did on the train set. Infact, it performs worse than the Linear Regressor on unseen data. This is a sign of overfitting.\n",
    "\n",
    "Overfitting occurs when the model captures spurious patterns. Possible solutions include: Constraining the model, reducing noise in the data or gathering more training data."
   ]
  },
  {
   "cell_type": "markdown",
   "metadata": {},
   "source": [
    "Let's visualize the most important price predictors with Random Forest's feature importance"
   ]
  },
  {
   "cell_type": "code",
   "execution_count": null,
   "metadata": {},
   "outputs": [],
   "source": [
    "forest = RandomForestRegressor(random_state=42)\n",
    "forest.fit(prepared_train,train_target)\n",
    "importances = sorted(list(zip(forest.feature_importances_,X_df.columns)),reverse=True)\n",
    "x_axis = [x[0] for x in importances]\n",
    "y_axis = [x[1] for x in importances]\n",
    "plt.figure(figsize=(10,15))\n",
    "sns.barplot(x=x_axis,y=y_axis);"
   ]
  },
  {
   "cell_type": "markdown",
   "metadata": {},
   "source": [
    "The Livable area of a house is a huge predictor of its price.\n",
    "\n",
    "Some of our newly created features can be found in the top 10 predictors. However, our location indicator features can be found in the bottom 10"
   ]
  },
  {
   "cell_type": "markdown",
   "metadata": {},
   "source": [
    "### Cross Validation"
   ]
  },
  {
   "cell_type": "markdown",
   "metadata": {},
   "source": [
    "Since we have a small data set, we can split our data into folds and use every fold in training and testing to better evaluate the performance of the models."
   ]
  },
  {
   "cell_type": "code",
   "execution_count": null,
   "metadata": {},
   "outputs": [],
   "source": [
    "# import the KFold class\n",
    "from sklearn.model_selection import KFold\n",
    "\n",
    "# initiate the KFold class to split the data into 5 folds\n",
    "kf = KFold(n_splits=5)"
   ]
  },
  {
   "cell_type": "code",
   "execution_count": null,
   "metadata": {},
   "outputs": [],
   "source": [
    "X = df.drop('price',axis=1)\n",
    "y = df.price"
   ]
  },
  {
   "cell_type": "code",
   "execution_count": null,
   "metadata": {},
   "outputs": [],
   "source": [
    "val_scores = {model:[] for model in models}"
   ]
  },
  {
   "cell_type": "code",
   "execution_count": null,
   "metadata": {},
   "outputs": [],
   "source": [
    "for fold,(train_index, test_index) in enumerate(kf.split(X,y)):\n",
    "    train = X.iloc[train_index]\n",
    "    train_target = y[train_index]\n",
    "    test = X.iloc[test_index]\n",
    "    test_target = y[test_index]\n",
    "    prepared_train = preprocessor.fit_transform(train)\n",
    "    prepared_test = preprocessor.transform(test)\n",
    "    print(f'FOLD {fold}\\n')\n",
    "    for model in models:\n",
    "        model.fit(prepared_train,train_target)\n",
    "        train_predictions = model.predict(prepared_train)\n",
    "        test_predictions = model.predict(prepared_test)\n",
    "        train_score = mae(train_predictions,train_target)\n",
    "        test_score = mae(test_predictions,test_target)\n",
    "        val_scores[model].append(test_score)\n",
    "        print(model)\n",
    "        print(f'TRAIN SCORE: {train_score}')\n",
    "        print(f'TEST SCORE: {test_score}')\n",
    "        print('\\n')\n",
    "    print('\\n')"
   ]
  },
  {
   "cell_type": "code",
   "execution_count": null,
   "metadata": {},
   "outputs": [],
   "source": [
    "# to calculate the average validation score and precision of models\n",
    "for model in val_scores:\n",
    "    print(model)\n",
    "    print(f'Mean: {np.mean(val_scores[model])}')\n",
    "    print(f'Standard Deviation: {np.std(val_scores[model])}')\n",
    "    print('\\n')"
   ]
  },
  {
   "cell_type": "markdown",
   "metadata": {},
   "source": [
    "The Decision Tree model overfits more than the Random Forest Regressor while the Linear Regressor underfits but generalizes better over unseen data."
   ]
  },
  {
   "cell_type": "markdown",
   "metadata": {},
   "source": [
    "# 6. Next Steps"
   ]
  },
  {
   "cell_type": "markdown",
   "metadata": {},
   "source": [
    "We can:\n",
    "- Handle the location variable(s) differently\n",
    "- Add polynomial features to our dataset and retrain the Linear Regression Model\n",
    "- Gather more training data and retrain the models\n",
    "- Try out more complex models"
   ]
  }
 ],
 "metadata": {
  "kernelspec": {
   "display_name": "Python 3",
   "language": "python",
   "name": "python3"
  },
  "language_info": {
   "codemirror_mode": {
    "name": "ipython",
    "version": 3
   },
   "file_extension": ".py",
   "mimetype": "text/x-python",
   "name": "python",
   "nbconvert_exporter": "python",
   "pygments_lexer": "ipython3",
   "version": "3.7.3"
  }
 },
 "nbformat": 4,
 "nbformat_minor": 2
}
