{
 "cells": [
  {
   "cell_type": "markdown",
   "metadata": {},
   "source": [
    "# 1. Import important libraries"
   ]
  },
  {
   "cell_type": "code",
   "execution_count": 1,
   "metadata": {},
   "outputs": [],
   "source": [
    "import pandas as pd\n",
    "import numpy as np\n",
    "import matplotlib.pyplot as plt\n",
    "import seaborn as sns\n",
    "import warnings\n",
    "%matplotlib inline\n",
    "warnings.filterwarnings('ignore')"
   ]
  },
  {
   "cell_type": "markdown",
   "metadata": {},
   "source": [
    "# 2. Data Inspection"
   ]
  },
  {
   "cell_type": "code",
   "execution_count": 2,
   "metadata": {
    "scrolled": true
   },
   "outputs": [
    {
     "data": {
      "text/html": [
       "<div>\n",
       "<style scoped>\n",
       "    .dataframe tbody tr th:only-of-type {\n",
       "        vertical-align: middle;\n",
       "    }\n",
       "\n",
       "    .dataframe tbody tr th {\n",
       "        vertical-align: top;\n",
       "    }\n",
       "\n",
       "    .dataframe thead th {\n",
       "        text-align: right;\n",
       "    }\n",
       "</style>\n",
       "<table border=\"1\" class=\"dataframe\">\n",
       "  <thead>\n",
       "    <tr style=\"text-align: right;\">\n",
       "      <th></th>\n",
       "      <th>date</th>\n",
       "      <th>price</th>\n",
       "      <th>bedrooms</th>\n",
       "      <th>bathrooms</th>\n",
       "      <th>sqft_living</th>\n",
       "      <th>sqft_lot</th>\n",
       "      <th>floors</th>\n",
       "      <th>waterfront</th>\n",
       "      <th>view</th>\n",
       "      <th>condition</th>\n",
       "      <th>sqft_above</th>\n",
       "      <th>sqft_basement</th>\n",
       "      <th>yr_built</th>\n",
       "      <th>yr_renovated</th>\n",
       "      <th>street</th>\n",
       "      <th>city</th>\n",
       "      <th>statezip</th>\n",
       "      <th>country</th>\n",
       "    </tr>\n",
       "  </thead>\n",
       "  <tbody>\n",
       "    <tr>\n",
       "      <th>0</th>\n",
       "      <td>2014-05-02 00:00:00</td>\n",
       "      <td>313000.0</td>\n",
       "      <td>3.0</td>\n",
       "      <td>1.50</td>\n",
       "      <td>1340</td>\n",
       "      <td>7912</td>\n",
       "      <td>1.5</td>\n",
       "      <td>0</td>\n",
       "      <td>0</td>\n",
       "      <td>3</td>\n",
       "      <td>1340</td>\n",
       "      <td>0</td>\n",
       "      <td>1955</td>\n",
       "      <td>2005</td>\n",
       "      <td>18810 Densmore Ave N</td>\n",
       "      <td>Shoreline</td>\n",
       "      <td>WA 98133</td>\n",
       "      <td>USA</td>\n",
       "    </tr>\n",
       "    <tr>\n",
       "      <th>1</th>\n",
       "      <td>2014-05-02 00:00:00</td>\n",
       "      <td>2384000.0</td>\n",
       "      <td>5.0</td>\n",
       "      <td>2.50</td>\n",
       "      <td>3650</td>\n",
       "      <td>9050</td>\n",
       "      <td>2.0</td>\n",
       "      <td>0</td>\n",
       "      <td>4</td>\n",
       "      <td>5</td>\n",
       "      <td>3370</td>\n",
       "      <td>280</td>\n",
       "      <td>1921</td>\n",
       "      <td>0</td>\n",
       "      <td>709 W Blaine St</td>\n",
       "      <td>Seattle</td>\n",
       "      <td>WA 98119</td>\n",
       "      <td>USA</td>\n",
       "    </tr>\n",
       "    <tr>\n",
       "      <th>2</th>\n",
       "      <td>2014-05-02 00:00:00</td>\n",
       "      <td>342000.0</td>\n",
       "      <td>3.0</td>\n",
       "      <td>2.00</td>\n",
       "      <td>1930</td>\n",
       "      <td>11947</td>\n",
       "      <td>1.0</td>\n",
       "      <td>0</td>\n",
       "      <td>0</td>\n",
       "      <td>4</td>\n",
       "      <td>1930</td>\n",
       "      <td>0</td>\n",
       "      <td>1966</td>\n",
       "      <td>0</td>\n",
       "      <td>26206-26214 143rd Ave SE</td>\n",
       "      <td>Kent</td>\n",
       "      <td>WA 98042</td>\n",
       "      <td>USA</td>\n",
       "    </tr>\n",
       "    <tr>\n",
       "      <th>3</th>\n",
       "      <td>2014-05-02 00:00:00</td>\n",
       "      <td>420000.0</td>\n",
       "      <td>3.0</td>\n",
       "      <td>2.25</td>\n",
       "      <td>2000</td>\n",
       "      <td>8030</td>\n",
       "      <td>1.0</td>\n",
       "      <td>0</td>\n",
       "      <td>0</td>\n",
       "      <td>4</td>\n",
       "      <td>1000</td>\n",
       "      <td>1000</td>\n",
       "      <td>1963</td>\n",
       "      <td>0</td>\n",
       "      <td>857 170th Pl NE</td>\n",
       "      <td>Bellevue</td>\n",
       "      <td>WA 98008</td>\n",
       "      <td>USA</td>\n",
       "    </tr>\n",
       "    <tr>\n",
       "      <th>4</th>\n",
       "      <td>2014-05-02 00:00:00</td>\n",
       "      <td>550000.0</td>\n",
       "      <td>4.0</td>\n",
       "      <td>2.50</td>\n",
       "      <td>1940</td>\n",
       "      <td>10500</td>\n",
       "      <td>1.0</td>\n",
       "      <td>0</td>\n",
       "      <td>0</td>\n",
       "      <td>4</td>\n",
       "      <td>1140</td>\n",
       "      <td>800</td>\n",
       "      <td>1976</td>\n",
       "      <td>1992</td>\n",
       "      <td>9105 170th Ave NE</td>\n",
       "      <td>Redmond</td>\n",
       "      <td>WA 98052</td>\n",
       "      <td>USA</td>\n",
       "    </tr>\n",
       "  </tbody>\n",
       "</table>\n",
       "</div>"
      ],
      "text/plain": [
       "                  date      price  bedrooms  bathrooms  sqft_living  sqft_lot  \\\n",
       "0  2014-05-02 00:00:00   313000.0       3.0       1.50         1340      7912   \n",
       "1  2014-05-02 00:00:00  2384000.0       5.0       2.50         3650      9050   \n",
       "2  2014-05-02 00:00:00   342000.0       3.0       2.00         1930     11947   \n",
       "3  2014-05-02 00:00:00   420000.0       3.0       2.25         2000      8030   \n",
       "4  2014-05-02 00:00:00   550000.0       4.0       2.50         1940     10500   \n",
       "\n",
       "   floors  waterfront  view  condition  sqft_above  sqft_basement  yr_built  \\\n",
       "0     1.5           0     0          3        1340              0      1955   \n",
       "1     2.0           0     4          5        3370            280      1921   \n",
       "2     1.0           0     0          4        1930              0      1966   \n",
       "3     1.0           0     0          4        1000           1000      1963   \n",
       "4     1.0           0     0          4        1140            800      1976   \n",
       "\n",
       "   yr_renovated                    street       city  statezip country  \n",
       "0          2005      18810 Densmore Ave N  Shoreline  WA 98133     USA  \n",
       "1             0           709 W Blaine St    Seattle  WA 98119     USA  \n",
       "2             0  26206-26214 143rd Ave SE       Kent  WA 98042     USA  \n",
       "3             0           857 170th Pl NE   Bellevue  WA 98008     USA  \n",
       "4          1992         9105 170th Ave NE    Redmond  WA 98052     USA  "
      ]
     },
     "execution_count": 2,
     "metadata": {},
     "output_type": "execute_result"
    }
   ],
   "source": [
    "# load the data\n",
    "df = pd.read_csv('data.csv')\n",
    "\n",
    "# inspect the first few rows of the dataframe\n",
    "df.head()"
   ]
  },
  {
   "cell_type": "code",
   "execution_count": 3,
   "metadata": {},
   "outputs": [
    {
     "data": {
      "text/plain": [
       "('2014-05-02 00:00:00', '2014-07-10 00:00:00')"
      ]
     },
     "execution_count": 3,
     "metadata": {},
     "output_type": "execute_result"
    }
   ],
   "source": [
    "# inspect the date feature\n",
    "df.date.min(),df.date.max()"
   ]
  },
  {
   "cell_type": "markdown",
   "metadata": {},
   "source": [
    "It looks like the **date** feature represents when data about the properties were collected, which was between May and July, 2014. We can drop this column as it won't contribute to our anaysis."
   ]
  },
  {
   "cell_type": "code",
   "execution_count": 4,
   "metadata": {},
   "outputs": [],
   "source": [
    "df.drop('date',axis=1,inplace=True)"
   ]
  },
  {
   "cell_type": "markdown",
   "metadata": {},
   "source": [
    "All the houses in the dataset are located in Washington so we can extract only the zip codes"
   ]
  },
  {
   "cell_type": "code",
   "execution_count": 5,
   "metadata": {},
   "outputs": [],
   "source": [
    "df['zip'] = df.statezip.str.split(expand=True)[1]\n",
    "df.drop('statezip',axis=1,inplace=True)"
   ]
  },
  {
   "cell_type": "markdown",
   "metadata": {},
   "source": [
    "Let's see the countries represented in the dataset"
   ]
  },
  {
   "cell_type": "code",
   "execution_count": 6,
   "metadata": {},
   "outputs": [
    {
     "data": {
      "text/plain": [
       "array(['USA'], dtype=object)"
      ]
     },
     "execution_count": 6,
     "metadata": {},
     "output_type": "execute_result"
    }
   ],
   "source": [
    "df.country.unique()"
   ]
  },
  {
   "cell_type": "markdown",
   "metadata": {},
   "source": [
    "The **country** column does not give any additional information since our dataset contains only records of houses in USA.  "
   ]
  },
  {
   "cell_type": "code",
   "execution_count": 7,
   "metadata": {},
   "outputs": [],
   "source": [
    "# drop country column\n",
    "df.drop('country',axis=1,inplace=True)"
   ]
  },
  {
   "cell_type": "markdown",
   "metadata": {},
   "source": [
    "Let's get a summary of our data"
   ]
  },
  {
   "cell_type": "code",
   "execution_count": 8,
   "metadata": {
    "scrolled": false
   },
   "outputs": [
    {
     "name": "stdout",
     "output_type": "stream",
     "text": [
      "<class 'pandas.core.frame.DataFrame'>\n",
      "RangeIndex: 4600 entries, 0 to 4599\n",
      "Data columns (total 16 columns):\n",
      " #   Column         Non-Null Count  Dtype  \n",
      "---  ------         --------------  -----  \n",
      " 0   price          4600 non-null   float64\n",
      " 1   bedrooms       4600 non-null   float64\n",
      " 2   bathrooms      4600 non-null   float64\n",
      " 3   sqft_living    4600 non-null   int64  \n",
      " 4   sqft_lot       4600 non-null   int64  \n",
      " 5   floors         4600 non-null   float64\n",
      " 6   waterfront     4600 non-null   int64  \n",
      " 7   view           4600 non-null   int64  \n",
      " 8   condition      4600 non-null   int64  \n",
      " 9   sqft_above     4600 non-null   int64  \n",
      " 10  sqft_basement  4600 non-null   int64  \n",
      " 11  yr_built       4600 non-null   int64  \n",
      " 12  yr_renovated   4600 non-null   int64  \n",
      " 13  street         4600 non-null   object \n",
      " 14  city           4600 non-null   object \n",
      " 15  zip            4600 non-null   object \n",
      "dtypes: float64(4), int64(9), object(3)\n",
      "memory usage: 575.1+ KB\n"
     ]
    }
   ],
   "source": [
    "df.info()"
   ]
  },
  {
   "cell_type": "markdown",
   "metadata": {},
   "source": [
    "The dataset now contains 4600 rows and 17 columns with no missing values. Let's get a summary of our numerical features"
   ]
  },
  {
   "cell_type": "code",
   "execution_count": 9,
   "metadata": {
    "scrolled": false
   },
   "outputs": [
    {
     "data": {
      "text/html": [
       "<div>\n",
       "<style scoped>\n",
       "    .dataframe tbody tr th:only-of-type {\n",
       "        vertical-align: middle;\n",
       "    }\n",
       "\n",
       "    .dataframe tbody tr th {\n",
       "        vertical-align: top;\n",
       "    }\n",
       "\n",
       "    .dataframe thead th {\n",
       "        text-align: right;\n",
       "    }\n",
       "</style>\n",
       "<table border=\"1\" class=\"dataframe\">\n",
       "  <thead>\n",
       "    <tr style=\"text-align: right;\">\n",
       "      <th></th>\n",
       "      <th>price</th>\n",
       "      <th>bedrooms</th>\n",
       "      <th>bathrooms</th>\n",
       "      <th>sqft_living</th>\n",
       "      <th>sqft_lot</th>\n",
       "      <th>floors</th>\n",
       "      <th>waterfront</th>\n",
       "      <th>view</th>\n",
       "      <th>condition</th>\n",
       "      <th>sqft_above</th>\n",
       "      <th>sqft_basement</th>\n",
       "      <th>yr_built</th>\n",
       "      <th>yr_renovated</th>\n",
       "    </tr>\n",
       "  </thead>\n",
       "  <tbody>\n",
       "    <tr>\n",
       "      <th>count</th>\n",
       "      <td>4.600000e+03</td>\n",
       "      <td>4600.000000</td>\n",
       "      <td>4600.000000</td>\n",
       "      <td>4600.000000</td>\n",
       "      <td>4.600000e+03</td>\n",
       "      <td>4600.000000</td>\n",
       "      <td>4600.000000</td>\n",
       "      <td>4600.000000</td>\n",
       "      <td>4600.000000</td>\n",
       "      <td>4600.000000</td>\n",
       "      <td>4600.000000</td>\n",
       "      <td>4600.000000</td>\n",
       "      <td>4600.000000</td>\n",
       "    </tr>\n",
       "    <tr>\n",
       "      <th>mean</th>\n",
       "      <td>5.519630e+05</td>\n",
       "      <td>3.400870</td>\n",
       "      <td>2.160815</td>\n",
       "      <td>2139.346957</td>\n",
       "      <td>1.485252e+04</td>\n",
       "      <td>1.512065</td>\n",
       "      <td>0.007174</td>\n",
       "      <td>0.240652</td>\n",
       "      <td>3.451739</td>\n",
       "      <td>1827.265435</td>\n",
       "      <td>312.081522</td>\n",
       "      <td>1970.786304</td>\n",
       "      <td>808.608261</td>\n",
       "    </tr>\n",
       "    <tr>\n",
       "      <th>std</th>\n",
       "      <td>5.638347e+05</td>\n",
       "      <td>0.908848</td>\n",
       "      <td>0.783781</td>\n",
       "      <td>963.206916</td>\n",
       "      <td>3.588444e+04</td>\n",
       "      <td>0.538288</td>\n",
       "      <td>0.084404</td>\n",
       "      <td>0.778405</td>\n",
       "      <td>0.677230</td>\n",
       "      <td>862.168977</td>\n",
       "      <td>464.137228</td>\n",
       "      <td>29.731848</td>\n",
       "      <td>979.414536</td>\n",
       "    </tr>\n",
       "    <tr>\n",
       "      <th>min</th>\n",
       "      <td>0.000000e+00</td>\n",
       "      <td>0.000000</td>\n",
       "      <td>0.000000</td>\n",
       "      <td>370.000000</td>\n",
       "      <td>6.380000e+02</td>\n",
       "      <td>1.000000</td>\n",
       "      <td>0.000000</td>\n",
       "      <td>0.000000</td>\n",
       "      <td>1.000000</td>\n",
       "      <td>370.000000</td>\n",
       "      <td>0.000000</td>\n",
       "      <td>1900.000000</td>\n",
       "      <td>0.000000</td>\n",
       "    </tr>\n",
       "    <tr>\n",
       "      <th>25%</th>\n",
       "      <td>3.228750e+05</td>\n",
       "      <td>3.000000</td>\n",
       "      <td>1.750000</td>\n",
       "      <td>1460.000000</td>\n",
       "      <td>5.000750e+03</td>\n",
       "      <td>1.000000</td>\n",
       "      <td>0.000000</td>\n",
       "      <td>0.000000</td>\n",
       "      <td>3.000000</td>\n",
       "      <td>1190.000000</td>\n",
       "      <td>0.000000</td>\n",
       "      <td>1951.000000</td>\n",
       "      <td>0.000000</td>\n",
       "    </tr>\n",
       "    <tr>\n",
       "      <th>50%</th>\n",
       "      <td>4.609435e+05</td>\n",
       "      <td>3.000000</td>\n",
       "      <td>2.250000</td>\n",
       "      <td>1980.000000</td>\n",
       "      <td>7.683000e+03</td>\n",
       "      <td>1.500000</td>\n",
       "      <td>0.000000</td>\n",
       "      <td>0.000000</td>\n",
       "      <td>3.000000</td>\n",
       "      <td>1590.000000</td>\n",
       "      <td>0.000000</td>\n",
       "      <td>1976.000000</td>\n",
       "      <td>0.000000</td>\n",
       "    </tr>\n",
       "    <tr>\n",
       "      <th>75%</th>\n",
       "      <td>6.549625e+05</td>\n",
       "      <td>4.000000</td>\n",
       "      <td>2.500000</td>\n",
       "      <td>2620.000000</td>\n",
       "      <td>1.100125e+04</td>\n",
       "      <td>2.000000</td>\n",
       "      <td>0.000000</td>\n",
       "      <td>0.000000</td>\n",
       "      <td>4.000000</td>\n",
       "      <td>2300.000000</td>\n",
       "      <td>610.000000</td>\n",
       "      <td>1997.000000</td>\n",
       "      <td>1999.000000</td>\n",
       "    </tr>\n",
       "    <tr>\n",
       "      <th>max</th>\n",
       "      <td>2.659000e+07</td>\n",
       "      <td>9.000000</td>\n",
       "      <td>8.000000</td>\n",
       "      <td>13540.000000</td>\n",
       "      <td>1.074218e+06</td>\n",
       "      <td>3.500000</td>\n",
       "      <td>1.000000</td>\n",
       "      <td>4.000000</td>\n",
       "      <td>5.000000</td>\n",
       "      <td>9410.000000</td>\n",
       "      <td>4820.000000</td>\n",
       "      <td>2014.000000</td>\n",
       "      <td>2014.000000</td>\n",
       "    </tr>\n",
       "  </tbody>\n",
       "</table>\n",
       "</div>"
      ],
      "text/plain": [
       "              price     bedrooms    bathrooms   sqft_living      sqft_lot  \\\n",
       "count  4.600000e+03  4600.000000  4600.000000   4600.000000  4.600000e+03   \n",
       "mean   5.519630e+05     3.400870     2.160815   2139.346957  1.485252e+04   \n",
       "std    5.638347e+05     0.908848     0.783781    963.206916  3.588444e+04   \n",
       "min    0.000000e+00     0.000000     0.000000    370.000000  6.380000e+02   \n",
       "25%    3.228750e+05     3.000000     1.750000   1460.000000  5.000750e+03   \n",
       "50%    4.609435e+05     3.000000     2.250000   1980.000000  7.683000e+03   \n",
       "75%    6.549625e+05     4.000000     2.500000   2620.000000  1.100125e+04   \n",
       "max    2.659000e+07     9.000000     8.000000  13540.000000  1.074218e+06   \n",
       "\n",
       "            floors   waterfront         view    condition   sqft_above  \\\n",
       "count  4600.000000  4600.000000  4600.000000  4600.000000  4600.000000   \n",
       "mean      1.512065     0.007174     0.240652     3.451739  1827.265435   \n",
       "std       0.538288     0.084404     0.778405     0.677230   862.168977   \n",
       "min       1.000000     0.000000     0.000000     1.000000   370.000000   \n",
       "25%       1.000000     0.000000     0.000000     3.000000  1190.000000   \n",
       "50%       1.500000     0.000000     0.000000     3.000000  1590.000000   \n",
       "75%       2.000000     0.000000     0.000000     4.000000  2300.000000   \n",
       "max       3.500000     1.000000     4.000000     5.000000  9410.000000   \n",
       "\n",
       "       sqft_basement     yr_built  yr_renovated  \n",
       "count    4600.000000  4600.000000   4600.000000  \n",
       "mean      312.081522  1970.786304    808.608261  \n",
       "std       464.137228    29.731848    979.414536  \n",
       "min         0.000000  1900.000000      0.000000  \n",
       "25%         0.000000  1951.000000      0.000000  \n",
       "50%         0.000000  1976.000000      0.000000  \n",
       "75%       610.000000  1997.000000   1999.000000  \n",
       "max      4820.000000  2014.000000   2014.000000  "
      ]
     },
     "execution_count": 9,
     "metadata": {},
     "output_type": "execute_result"
    }
   ],
   "source": [
    "df.describe()"
   ]
  },
  {
   "cell_type": "markdown",
   "metadata": {},
   "source": [
    "The minimum price is zero dollar. Our model could learn spurious patterns based on these entries.\n",
    "\n",
    "How many houses cost $0? "
   ]
  },
  {
   "cell_type": "code",
   "execution_count": 10,
   "metadata": {},
   "outputs": [
    {
     "data": {
      "text/plain": [
       "49"
      ]
     },
     "execution_count": 10,
     "metadata": {},
     "output_type": "execute_result"
    }
   ],
   "source": [
    "len(df[df.price==0])"
   ]
  },
  {
   "cell_type": "markdown",
   "metadata": {},
   "source": [
    "We wouldn't be throwing away much information by removing these records."
   ]
  },
  {
   "cell_type": "code",
   "execution_count": 11,
   "metadata": {},
   "outputs": [],
   "source": [
    "drop = df[df.price==0].index\n",
    "df.drop(drop,inplace=True)"
   ]
  },
  {
   "cell_type": "markdown",
   "metadata": {},
   "source": [
    "We have barely scratched the surface. Let's split our data before doing EDA"
   ]
  },
  {
   "cell_type": "code",
   "execution_count": 12,
   "metadata": {},
   "outputs": [
    {
     "data": {
      "text/plain": [
       "((3413, 16), (1138, 16))"
      ]
     },
     "execution_count": 12,
     "metadata": {},
     "output_type": "execute_result"
    }
   ],
   "source": [
    "from sklearn.model_selection import train_test_split\n",
    "\n",
    "train,test = train_test_split(df,test_size=0.25,random_state=42)\n",
    "\n",
    "# reset the index of the train and test sets\n",
    "train.reset_index(drop=True,inplace=True)\n",
    "test.reset_index(drop=True,inplace=True)\n",
    "\n",
    "train.shape, test.shape"
   ]
  },
  {
   "cell_type": "markdown",
   "metadata": {},
   "source": [
    "# 3. Exploratory Data Analysis (EDA)"
   ]
  },
  {
   "cell_type": "markdown",
   "metadata": {},
   "source": [
    "Before  proceeding, we'll create a copy of our train set. "
   ]
  },
  {
   "cell_type": "code",
   "execution_count": 13,
   "metadata": {},
   "outputs": [
    {
     "data": {
      "text/html": [
       "<div>\n",
       "<style scoped>\n",
       "    .dataframe tbody tr th:only-of-type {\n",
       "        vertical-align: middle;\n",
       "    }\n",
       "\n",
       "    .dataframe tbody tr th {\n",
       "        vertical-align: top;\n",
       "    }\n",
       "\n",
       "    .dataframe thead th {\n",
       "        text-align: right;\n",
       "    }\n",
       "</style>\n",
       "<table border=\"1\" class=\"dataframe\">\n",
       "  <thead>\n",
       "    <tr style=\"text-align: right;\">\n",
       "      <th></th>\n",
       "      <th>price</th>\n",
       "      <th>bedrooms</th>\n",
       "      <th>bathrooms</th>\n",
       "      <th>sqft_living</th>\n",
       "      <th>sqft_lot</th>\n",
       "      <th>floors</th>\n",
       "      <th>waterfront</th>\n",
       "      <th>view</th>\n",
       "      <th>condition</th>\n",
       "      <th>sqft_above</th>\n",
       "      <th>sqft_basement</th>\n",
       "      <th>yr_built</th>\n",
       "      <th>yr_renovated</th>\n",
       "      <th>street</th>\n",
       "      <th>city</th>\n",
       "      <th>zip</th>\n",
       "    </tr>\n",
       "  </thead>\n",
       "  <tbody>\n",
       "    <tr>\n",
       "      <th>2950</th>\n",
       "      <td>219900.0</td>\n",
       "      <td>3.0</td>\n",
       "      <td>1.00</td>\n",
       "      <td>910</td>\n",
       "      <td>6000</td>\n",
       "      <td>1.0</td>\n",
       "      <td>0</td>\n",
       "      <td>0</td>\n",
       "      <td>2</td>\n",
       "      <td>910</td>\n",
       "      <td>0</td>\n",
       "      <td>1956</td>\n",
       "      <td>0</td>\n",
       "      <td>303 SW 108th St</td>\n",
       "      <td>Seattle</td>\n",
       "      <td>98146</td>\n",
       "    </tr>\n",
       "    <tr>\n",
       "      <th>63</th>\n",
       "      <td>500000.0</td>\n",
       "      <td>4.0</td>\n",
       "      <td>2.75</td>\n",
       "      <td>2280</td>\n",
       "      <td>15347</td>\n",
       "      <td>1.0</td>\n",
       "      <td>0</td>\n",
       "      <td>0</td>\n",
       "      <td>5</td>\n",
       "      <td>2280</td>\n",
       "      <td>0</td>\n",
       "      <td>1960</td>\n",
       "      <td>0</td>\n",
       "      <td>9007 132nd Pl SE</td>\n",
       "      <td>Newcastle</td>\n",
       "      <td>98059</td>\n",
       "    </tr>\n",
       "    <tr>\n",
       "      <th>1706</th>\n",
       "      <td>665000.0</td>\n",
       "      <td>6.0</td>\n",
       "      <td>2.75</td>\n",
       "      <td>2840</td>\n",
       "      <td>8346</td>\n",
       "      <td>1.0</td>\n",
       "      <td>0</td>\n",
       "      <td>0</td>\n",
       "      <td>5</td>\n",
       "      <td>1420</td>\n",
       "      <td>1420</td>\n",
       "      <td>1961</td>\n",
       "      <td>0</td>\n",
       "      <td>5407 S Lucile St</td>\n",
       "      <td>Seattle</td>\n",
       "      <td>98118</td>\n",
       "    </tr>\n",
       "    <tr>\n",
       "      <th>1624</th>\n",
       "      <td>735000.0</td>\n",
       "      <td>3.0</td>\n",
       "      <td>2.50</td>\n",
       "      <td>2390</td>\n",
       "      <td>9157</td>\n",
       "      <td>2.0</td>\n",
       "      <td>0</td>\n",
       "      <td>0</td>\n",
       "      <td>3</td>\n",
       "      <td>2390</td>\n",
       "      <td>0</td>\n",
       "      <td>1984</td>\n",
       "      <td>0</td>\n",
       "      <td>14500-14526 NE 61st St</td>\n",
       "      <td>Redmond</td>\n",
       "      <td>98052</td>\n",
       "    </tr>\n",
       "    <tr>\n",
       "      <th>761</th>\n",
       "      <td>400000.0</td>\n",
       "      <td>3.0</td>\n",
       "      <td>2.00</td>\n",
       "      <td>2260</td>\n",
       "      <td>11305</td>\n",
       "      <td>1.0</td>\n",
       "      <td>0</td>\n",
       "      <td>0</td>\n",
       "      <td>3</td>\n",
       "      <td>1130</td>\n",
       "      <td>1130</td>\n",
       "      <td>1986</td>\n",
       "      <td>0</td>\n",
       "      <td>2811 Mill Ave S</td>\n",
       "      <td>Renton</td>\n",
       "      <td>98055</td>\n",
       "    </tr>\n",
       "  </tbody>\n",
       "</table>\n",
       "</div>"
      ],
      "text/plain": [
       "         price  bedrooms  bathrooms  sqft_living  sqft_lot  floors  \\\n",
       "2950  219900.0       3.0       1.00          910      6000     1.0   \n",
       "63    500000.0       4.0       2.75         2280     15347     1.0   \n",
       "1706  665000.0       6.0       2.75         2840      8346     1.0   \n",
       "1624  735000.0       3.0       2.50         2390      9157     2.0   \n",
       "761   400000.0       3.0       2.00         2260     11305     1.0   \n",
       "\n",
       "      waterfront  view  condition  sqft_above  sqft_basement  yr_built  \\\n",
       "2950           0     0          2         910              0      1956   \n",
       "63             0     0          5        2280              0      1960   \n",
       "1706           0     0          5        1420           1420      1961   \n",
       "1624           0     0          3        2390              0      1984   \n",
       "761            0     0          3        1130           1130      1986   \n",
       "\n",
       "      yr_renovated                  street       city    zip  \n",
       "2950             0         303 SW 108th St    Seattle  98146  \n",
       "63               0        9007 132nd Pl SE  Newcastle  98059  \n",
       "1706             0        5407 S Lucile St    Seattle  98118  \n",
       "1624             0  14500-14526 NE 61st St    Redmond  98052  \n",
       "761              0         2811 Mill Ave S     Renton  98055  "
      ]
     },
     "execution_count": 13,
     "metadata": {},
     "output_type": "execute_result"
    }
   ],
   "source": [
    "# create a copy of train set\n",
    "housing = train.copy()\n",
    "\n",
    "# inspect random rows from train set\n",
    "housing.sample(5)"
   ]
  },
  {
   "cell_type": "markdown",
   "metadata": {},
   "source": [
    "Let's see the distribution of the features"
   ]
  },
  {
   "cell_type": "code",
   "execution_count": 14,
   "metadata": {
    "scrolled": false
   },
   "outputs": [
    {
     "data": {
      "image/png": "[encoded data removed]",
      "text/plain": [
       "<Figure size 1080x864 with 16 Axes>"
      ]
     },
     "metadata": {
      "needs_background": "light"
     },
     "output_type": "display_data"
    }
   ],
   "source": [
    "housing.hist(figsize=(15,12));"
   ]
  },
  {
   "cell_type": "markdown",
   "metadata": {},
   "source": [
    "- Some variables have greater magnitude and wide ranges than others. Scaling these variables gives each variable equal importance in predicting the target  \n",
    "  \n",
    "  \n",
    "- Some of the variables are heavily skewed. Normalizing these variables gives them a more bell-shaped distribuition\n",
    "\n",
    "\n",
    "- More specifically, there's a spike at zero for some features. This could be because some houses lack these facilities and/or were not renovated. We can create columns to indicate this information (e.g **has_basement**).\n",
    "  \n",
    "  \n",
    "- More houses were built as the years went by. "
   ]
  },
  {
   "cell_type": "markdown",
   "metadata": {},
   "source": [
    "What features affect **price** the most and how?"
   ]
  },
  {
   "cell_type": "code",
   "execution_count": 15,
   "metadata": {},
   "outputs": [
    {
     "data": {
      "text/plain": [
       "price            1.000000\n",
       "sqft_living      0.398797\n",
       "sqft_above       0.344411\n",
       "bathrooms        0.300575\n",
       "view             0.208062\n",
       "bedrooms         0.183622\n",
       "sqft_basement    0.178289\n",
       "floors           0.142283\n",
       "waterfront       0.118383\n",
       "condition        0.046663\n",
       "sqft_lot         0.040218\n",
       "yr_built         0.018002\n",
       "yr_renovated    -0.031574\n",
       "Name: price, dtype: float64"
      ]
     },
     "execution_count": 15,
     "metadata": {},
     "output_type": "execute_result"
    }
   ],
   "source": [
    "# check for correlations\n",
    "housing.corr()['price'].sort_values(ascending=False)"
   ]
  },
  {
   "cell_type": "markdown",
   "metadata": {},
   "source": [
    "- Most features affect price positively with **sqft_living** showing the strongest positive relationship\n",
    "\n",
    "- Only **yr_renovated** shows a negative relationship with price\n",
    "\n",
    "Let's visualize the relationships between some of these features and price"
   ]
  },
  {
   "cell_type": "code",
   "execution_count": 16,
   "metadata": {},
   "outputs": [
    {
     "data": {
      "image/png": "[encoded data removed]",
      "text/plain": [
       "<Figure size 432x288 with 1 Axes>"
      ]
     },
     "metadata": {
      "needs_background": "light"
     },
     "output_type": "display_data"
    }
   ],
   "source": [
    "sns.scatterplot(x='sqft_living',y='price',data=housing)\n",
    "plt.title('Living Area against Price');"
   ]
  },
  {
   "cell_type": "markdown",
   "metadata": {},
   "source": [
    "The two outlier prices have squished our visualization. We'll exclude these points from our visualizations"
   ]
  },
  {
   "cell_type": "code",
   "execution_count": 17,
   "metadata": {},
   "outputs": [
    {
     "data": {
      "image/png": "[encoded data removed]",
      "text/plain": [
       "<Figure size 432x288 with 1 Axes>"
      ]
     },
     "metadata": {
      "needs_background": "light"
     },
     "output_type": "display_data"
    }
   ],
   "source": [
    "sns.scatterplot(x='sqft_living',y='price',data=housing[housing.price<10**7])\n",
    "plt.title('Living Area against Price');"
   ]
  },
  {
   "cell_type": "markdown",
   "metadata": {},
   "source": [
    "The house with largest living area costs the most"
   ]
  },
  {
   "cell_type": "code",
   "execution_count": 18,
   "metadata": {
    "scrolled": true
   },
   "outputs": [
    {
     "data": {
      "image/png": "[encoded data removed]",
      "text/plain": [
       "<Figure size 432x288 with 1 Axes>"
      ]
     },
     "metadata": {
      "needs_background": "light"
     },
     "output_type": "display_data"
    }
   ],
   "source": [
    "sns.scatterplot(x='sqft_above',y='price',data=housing[housing.price<10**7])\n",
    "plt.title('Area Above against Price');"
   ]
  },
  {
   "cell_type": "markdown",
   "metadata": {},
   "source": [
    "It happens that the house with the largest area above costs the most. This could be the same house that has the largest living area. It is possible that **sqft_living** and **sqft_above** are correlated"
   ]
  },
  {
   "cell_type": "code",
   "execution_count": 19,
   "metadata": {},
   "outputs": [
    {
     "data": {
      "image/png": "[encoded data removed]",
      "text/plain": [
       "<Figure size 432x288 with 1 Axes>"
      ]
     },
     "metadata": {
      "needs_background": "light"
     },
     "output_type": "display_data"
    }
   ],
   "source": [
    "sns.scatterplot(x='sqft_above',y='sqft_living',data=housing[housing.price<10**7])\n",
    "plt.title('Area Above against Living Area');"
   ]
  },
  {
   "cell_type": "markdown",
   "metadata": {},
   "source": [
    "Unsuprisingly, there's a strong positive relationship between these two features"
   ]
  },
  {
   "cell_type": "code",
   "execution_count": 20,
   "metadata": {
    "scrolled": true
   },
   "outputs": [
    {
     "data": {
      "image/png": "[encoded data removed]",
      "text/plain": [
       "<Figure size 432x288 with 1 Axes>"
      ]
     },
     "metadata": {
      "needs_background": "light"
     },
     "output_type": "display_data"
    }
   ],
   "source": [
    "sns.scatterplot(x='bathrooms',y='price',data=housing[housing.price<10**7])\n",
    "plt.title('Bathrooms against Price');"
   ]
  },
  {
   "cell_type": "markdown",
   "metadata": {},
   "source": [
    "Although not strong, the number of bathrooms affects house price positively. However, the most expensive houses have between 3 to 5 bathrooms.\n",
    "\n",
    "Now let's see how categorical features affect house prices"
   ]
  },
  {
   "cell_type": "code",
   "execution_count": 21,
   "metadata": {},
   "outputs": [],
   "source": [
    "# handpick some categorical attributes\n",
    "categories = ['yr_built','yr_renovated','waterfront','view','condition','city']"
   ]
  },
  {
   "cell_type": "code",
   "execution_count": 22,
   "metadata": {},
   "outputs": [
    {
     "data": {
      "image/png": "[encoded data removed]",
      "text/plain": [
       "<Figure size 1080x720 with 6 Axes>"
      ]
     },
     "metadata": {
      "needs_background": "light"
     },
     "output_type": "display_data"
    }
   ],
   "source": [
    "# to create a dashboard for the boxplots\n",
    "f,axes=plt.subplots(2,3, sharey=True, figsize=(15,10))\n",
    "\n",
    "# to plot the boxplots on the dashboard\n",
    "for i in range(len(categories)):\n",
    "    row = i//3\n",
    "    col = i%3\n",
    "    sns.boxplot(x=categories[i],y='price',data=housing[housing.price<10**7],ax = axes[row,col] )"
   ]
  },
  {
   "cell_type": "markdown",
   "metadata": {},
   "source": [
    "There seems to be a slight relationship between price and most of the categorical variables"
   ]
  },
  {
   "cell_type": "markdown",
   "metadata": {},
   "source": [
    "# Data Preprocessing"
   ]
  },
  {
   "cell_type": "markdown",
   "metadata": {},
   "source": [
    "## Outliers"
   ]
  },
  {
   "cell_type": "markdown",
   "metadata": {},
   "source": [
    "Firstly, let's check for and remove outliers"
   ]
  },
  {
   "cell_type": "code",
   "execution_count": 22,
   "metadata": {},
   "outputs": [
    {
     "data": {
      "image/png": "[encoded data removed]",
      "text/plain": [
       "<Figure size 432x288 with 1 Axes>"
      ]
     },
     "metadata": {
      "needs_background": "light"
     },
     "output_type": "display_data"
    }
   ],
   "source": [
    "train.price.plot(kind='box');"
   ]
  },
  {
   "cell_type": "markdown",
   "metadata": {},
   "source": [
    "Let's remove the two extreme values"
   ]
  },
  {
   "cell_type": "code",
   "execution_count": 23,
   "metadata": {},
   "outputs": [
    {
     "data": {
      "text/plain": [
       "0"
      ]
     },
     "execution_count": 23,
     "metadata": {},
     "output_type": "execute_result"
    }
   ],
   "source": [
    "# get the index of the outliers\n",
    "outliers = train[train.price>10**7].index\n",
    "\n",
    "# remove outliers\n",
    "train.drop(outliers,inplace=True)\n",
    "\n",
    "# reset index\n",
    "train.reset_index(drop=True,inplace=True)\n",
    "\n",
    "# confirm the absence of outliers\n",
    "(train.price>10**7).sum()"
   ]
  },
  {
   "cell_type": "markdown",
   "metadata": {},
   "source": [
    "## Feature Extraction and Engineering"
   ]
  },
  {
   "cell_type": "markdown",
   "metadata": {},
   "source": [
    "We should engineer some features before scaling and encoding"
   ]
  },
  {
   "cell_type": "markdown",
   "metadata": {},
   "source": [
    "In the EDA process, some variables had a spike at zero which could indicate the absence of a value or a unique category."
   ]
  },
  {
   "cell_type": "code",
   "execution_count": 24,
   "metadata": {},
   "outputs": [
    {
     "data": {
      "text/plain": [
       "waterfront       3391\n",
       "view             3085\n",
       "yr_renovated     2036\n",
       "sqft_basement    2035\n",
       "bedrooms            2\n",
       "bathrooms           2\n",
       "price               0\n",
       "sqft_living         0\n",
       "sqft_lot            0\n",
       "floors              0\n",
       "condition           0\n",
       "sqft_above          0\n",
       "yr_built            0\n",
       "street              0\n",
       "city                0\n",
       "zip                 0\n",
       "dtype: int64"
      ]
     },
     "execution_count": 24,
     "metadata": {},
     "output_type": "execute_result"
    }
   ],
   "source": [
    "(train==0).sum().sort_values(ascending=False)"
   ]
  },
  {
   "cell_type": "markdown",
   "metadata": {},
   "source": [
    "- **waterfront** and **view** are categorical variables so, a zero value could represent a unique category. A zero value in **sqft_basemnt** could indicate the absence of a basement while for **yr_renovated**, it could indicate that a house was not renovated. Hence, we'll only create indicator variable for **sqft_basement** and **yr_renovated**\n",
    "\n",
    "\n",
    "- We'll also combine some promising features and target encode the city and statezip feature. "
   ]
  },
  {
   "cell_type": "code",
   "execution_count": 25,
   "metadata": {},
   "outputs": [],
   "source": [
    "train['has_basement'] = (train.sqft_basement!=0).astype(int)\n",
    "train['was_renovated'] = (train.yr_renovated!=0).astype(int)\n",
    "\n",
    "test['has_basement'] = (test.sqft_basement!=0).astype(int)\n",
    "test['was_renovated'] = (test.yr_renovated!=0).astype(int)"
   ]
  },
  {
   "cell_type": "markdown",
   "metadata": {},
   "source": [
    "According to Wikipedia, the first digit of a zip code represents the state ('9' corresponds to Washington), the second and third digits represent the region (or perhaps a large city) while the last two digits represent the the area of the city(for metropolitan areas) or a village/town (outside metro areas). \n",
    "\n",
    "Let's create a region column:"
   ]
  },
  {
   "cell_type": "code",
   "execution_count": 26,
   "metadata": {},
   "outputs": [
    {
     "data": {
      "text/plain": [
       "{'80', '81', '82', '83'}"
      ]
     },
     "execution_count": 26,
     "metadata": {},
     "output_type": "execute_result"
    }
   ],
   "source": [
    "# to check the unique regions in the data\n",
    "set([code[1:3] for code in train['zip'].unique()])"
   ]
  },
  {
   "cell_type": "code",
   "execution_count": 27,
   "metadata": {},
   "outputs": [],
   "source": [
    "regions = {'80':'1','81':'2','82':'3','83':'4'}\n",
    "\n",
    "# to extract the second and third digits of the codes\n",
    "train_codes = train.zip.apply(lambda x: x[1:3])\n",
    "test_codes = test.zip.apply(lambda x: x[1:3])\n",
    "\n",
    "# to map each code to their respective regions\n",
    "train['region'] = train_codes.map(regions)\n",
    "test['region'] = test_codes.map(regions)"
   ]
  },
  {
   "cell_type": "markdown",
   "metadata": {},
   "source": [
    "Let's inspect the street column"
   ]
  },
  {
   "cell_type": "code",
   "execution_count": 28,
   "metadata": {},
   "outputs": [
    {
     "data": {
      "text/html": [
       "<div>\n",
       "<style scoped>\n",
       "    .dataframe tbody tr th:only-of-type {\n",
       "        vertical-align: middle;\n",
       "    }\n",
       "\n",
       "    .dataframe tbody tr th {\n",
       "        vertical-align: top;\n",
       "    }\n",
       "\n",
       "    .dataframe thead th {\n",
       "        text-align: right;\n",
       "    }\n",
       "</style>\n",
       "<table border=\"1\" class=\"dataframe\">\n",
       "  <thead>\n",
       "    <tr style=\"text-align: right;\">\n",
       "      <th></th>\n",
       "      <th>street</th>\n",
       "    </tr>\n",
       "  </thead>\n",
       "  <tbody>\n",
       "    <tr>\n",
       "      <th>1220</th>\n",
       "      <td>2475 NE 182nd Ct</td>\n",
       "    </tr>\n",
       "    <tr>\n",
       "      <th>1562</th>\n",
       "      <td>21423 114th Pl SE</td>\n",
       "    </tr>\n",
       "    <tr>\n",
       "      <th>1534</th>\n",
       "      <td>645 West Lake Sammamish Pkwy NE</td>\n",
       "    </tr>\n",
       "    <tr>\n",
       "      <th>447</th>\n",
       "      <td>7344 50th Ave NE</td>\n",
       "    </tr>\n",
       "    <tr>\n",
       "      <th>1123</th>\n",
       "      <td>924 26th Ave S</td>\n",
       "    </tr>\n",
       "    <tr>\n",
       "      <th>2807</th>\n",
       "      <td>3665 Renton Ave S</td>\n",
       "    </tr>\n",
       "    <tr>\n",
       "      <th>2392</th>\n",
       "      <td>23620 SE 243rd Pl</td>\n",
       "    </tr>\n",
       "    <tr>\n",
       "      <th>823</th>\n",
       "      <td>16200-16398 252nd Ave SE</td>\n",
       "    </tr>\n",
       "    <tr>\n",
       "      <th>1683</th>\n",
       "      <td>15012 133rd Ave SE</td>\n",
       "    </tr>\n",
       "    <tr>\n",
       "      <th>3229</th>\n",
       "      <td>16534 NE 169th Pl</td>\n",
       "    </tr>\n",
       "  </tbody>\n",
       "</table>\n",
       "</div>"
      ],
      "text/plain": [
       "                               street\n",
       "1220                 2475 NE 182nd Ct\n",
       "1562                21423 114th Pl SE\n",
       "1534  645 West Lake Sammamish Pkwy NE\n",
       "447                  7344 50th Ave NE\n",
       "1123                   924 26th Ave S\n",
       "2807                3665 Renton Ave S\n",
       "2392                23620 SE 243rd Pl\n",
       "823          16200-16398 252nd Ave SE\n",
       "1683               15012 133rd Ave SE\n",
       "3229                16534 NE 169th Pl"
      ]
     },
     "execution_count": 28,
     "metadata": {},
     "output_type": "execute_result"
    }
   ],
   "source": [
    "train[['street']].sample(10)"
   ]
  },
  {
   "cell_type": "markdown",
   "metadata": {},
   "source": [
    "We can extract the quadrant and road type from this column"
   ]
  },
  {
   "cell_type": "code",
   "execution_count": 29,
   "metadata": {},
   "outputs": [],
   "source": [
    "# extract quadrants\n",
    "train['quadrant'] = train.street.apply(lambda x: 'NW' if 'NW' in x.split()\n",
    "                                else 'NE' if 'NE' in x.split()\n",
    "                                else 'SE' if 'SE' in x.split()\n",
    "                                else 'SW' if 'SW' in x.split()\n",
    "                                else 'UNKNOWN')\n",
    "\n",
    "test['quadrant'] = train.street.apply(lambda x: 'NW' if 'NW' in x.split()\n",
    "                                else 'NE' if 'NE' in x.split()\n",
    "                                else 'SE' if 'SE' in x.split()\n",
    "                                else 'SW' if 'SW' in x.split()\n",
    "                                else 'UNKNOWN')\n",
    "\n",
    "\n",
    "# extract road types\n",
    "train['road_type'] = train.street.apply(lambda x: 'Rd' if ('Rd' in x.split()) or ('Road' in x.split())\n",
    "                            else 'Way' if 'Way' in x.split()\n",
    "                            else 'St' if ('St' in x.split()) or ('Street' in x.split())\n",
    "                            else 'Ave' if ('Ave' in x.split()) or ('Avenue' in x.split())\n",
    "                            else 'Blvd' if ('Blvd' in x.split()) or ('Boulevard' in x.split())\n",
    "                            else 'Ln' if ('Ln' in x.split()) or ('Lane' in x.split())\n",
    "                            else 'Dr' if ('Dr' in x.split()) or ('Drive' in x.split())\n",
    "                            else 'Pl' if ('Pl' in x.split()) or ('Place' in x.split())\n",
    "                            else 'Ct' if ('Ct' in x.split()) or ('Court' in x.split())\n",
    "                            else 'Pkwy' if ('Pkwy' in x.split()) or ('Parkway' in x.split())\n",
    "                            else 'Hwy' if 'Hwy' in x.split()\n",
    "                            else 'Terrace' if 'Terrace' in x.split()\n",
    "                            else 'Trail' if 'Trail' in x.split()\n",
    "                            else 'Cir' if 'Cir' in x.split()\n",
    "                            else 'Walk' if 'Walk' in x.split()\n",
    "                            else 'Key' if 'Key' in x.split()\n",
    "                            else 'UNKNOWN')\n",
    "\n",
    "test['road_type'] = test.street.apply(lambda x: 'Rd' if ('Rd' in x.split()) or ('Road' in x.split())\n",
    "                            else 'Way' if 'Way' in x.split()\n",
    "                            else 'St' if ('St' in x.split()) or ('Street' in x.split())\n",
    "                            else 'Ave' if ('Ave' in x.split()) or ('Avenue' in x.split())\n",
    "                            else 'Blvd' if ('Blvd' in x.split()) or ('Boulevard' in x.split())\n",
    "                            else 'Ln' if ('Ln' in x.split()) or ('Lane' in x.split())\n",
    "                            else 'Dr' if ('Dr' in x.split()) or ('Drive' in x.split())\n",
    "                            else 'Pl' if ('Pl' in x.split()) or ('Place' in x.split())\n",
    "                            else 'Ct' if ('Ct' in x.split()) or ('Court' in x.split())\n",
    "                            else 'Pkwy' if ('Pkwy' in x.split()) or ('Parkway' in x.split())\n",
    "                            else 'Hwy' if 'Hwy' in x.split()\n",
    "                            else 'Terrace' if 'Terrace' in x.split()\n",
    "                            else 'Trail' if 'Trail' in x.split()\n",
    "                            else 'Cir' if 'Cir' in x.split()\n",
    "                            else 'Walk' if 'Walk' in x.split()\n",
    "                            else 'Key' if 'Key' in x.split()\n",
    "                            else 'UNKNOWN')"
   ]
  },
  {
   "cell_type": "code",
   "execution_count": 30,
   "metadata": {},
   "outputs": [
    {
     "data": {
      "text/plain": [
       "Ave        1476\n",
       "St          861\n",
       "Pl          591\n",
       "Ct          130\n",
       "Way         107\n",
       "Dr           94\n",
       "Rd           51\n",
       "Ln           33\n",
       "Blvd         21\n",
       "Terrace       9\n",
       "UNKNOWN       9\n",
       "Trail         8\n",
       "Cir           6\n",
       "Walk          5\n",
       "Hwy           4\n",
       "Pkwy          4\n",
       "Key           2\n",
       "Name: road_type, dtype: int64"
      ]
     },
     "execution_count": 30,
     "metadata": {},
     "output_type": "execute_result"
    }
   ],
   "source": [
    "train.road_type.value_counts()"
   ]
  },
  {
   "cell_type": "code",
   "execution_count": 31,
   "metadata": {},
   "outputs": [
    {
     "data": {
      "text/plain": [
       "Index(['price', 'bedrooms', 'bathrooms', 'sqft_living', 'sqft_lot', 'floors',\n",
       "       'waterfront', 'view', 'condition', 'sqft_above', 'sqft_basement',\n",
       "       'yr_built', 'yr_renovated', 'street', 'city', 'zip', 'has_basement',\n",
       "       'was_renovated', 'region', 'quadrant', 'road_type'],\n",
       "      dtype='object')"
      ]
     },
     "execution_count": 31,
     "metadata": {},
     "output_type": "execute_result"
    }
   ],
   "source": [
    "train.columns"
   ]
  },
  {
   "cell_type": "code",
   "execution_count": 1,
   "metadata": {},
   "outputs": [],
   "source": [
    "from sklearn.base import BaseEstimator, TransformerMixin\n",
    "from sklearn.preprocessing import PowerTransformer, StandardScaler\n",
    "from category_encoders import TargetEncoder\n",
    "\n",
    "class Add_attr(BaseEstimator,TransformerMixin):\n",
    "    \n",
    "    def __init__(self,m=1):\n",
    "        self.m = m\n",
    "        self.encoder1 = TargetEncoder(smoothing=m)\n",
    "        self.encoder2 = TargetEncoder(smoothing=m)\n",
    "    def fit(self,X,y=None):\n",
    "        X_enc = X[['city','zip','quadrant','road_type','region']].copy()\n",
    "        y_enc1 = X.sqft_living\n",
    "        y_enc2 = X.sqft_lot\n",
    "        self.encoder1.fit(X_enc,y_enc1)\n",
    "        self.encoder2.fit(X_enc,y_enc2)\n",
    "        self.columns = ['total_rooms','livarea/bedroom','lotarea/bedroom','livarea/bathroom',\n",
    "                        'lotarea/bathroom','land_space','total_space','landspace/room',\n",
    "                        'totspace/room','facilities','score','sqft_city','sqft_zip',\n",
    "                        'sqft_quadrant','sqft_roadtype','sqft_region','lot_city','lot_zip',\n",
    "                        'lot_quadrant','lot_roadtype','lot_region']\n",
    "        return self\n",
    "    \n",
    "    def transform(self,X,y=None):\n",
    "        df = X.copy()\n",
    "        df['total_rooms'] = df['bedrooms']+df['bathrooms']\n",
    "        df['livarea/bedroom'] = df['sqft_living']/df['bedrooms']\n",
    "        df['lotarea/bedroom'] = df['sqft_lot']/df['bedrooms']\n",
    "        df['livarea/bathroom'] = df['sqft_living']/df['bathrooms']\n",
    "        df['lotarea/bathroom'] = df['sqft_lot']/df['bathrooms']\n",
    "        df['land_space'] = df['sqft_living']+df['sqft_lot']\n",
    "        df['total_space'] = df['sqft_living']+df['sqft_lot']+df['sqft_above']+df['sqft_basement']\n",
    "        df['landspace/room'] = df['land_space']/df['total_rooms']\n",
    "        df['totspace/room'] = df['total_space']/df['total_rooms']\n",
    "        df['facilities'] =df.apply(lambda x:int(x.bedrooms!=0)+int(x.bathrooms!=0)+int(x.view!=0)\n",
    "                                         +int(x.waterfront!=0)+int(x.sqft_basement!=0),axis=1)\n",
    "        df['score'] = df['facilities']*df['condition']\n",
    "        df[['sqft_city','sqft_zip','sqft_quadrant','sqft_roadtype','sqft_region']] = self.encoder1.transform(df[['city','zip','quadrant','road_type','region']])\n",
    "        df[['lot_city','lot_zip','lot_quadrant','lot_roadtype','lot_region']] = self.encoder2.transform(df[['city','zip','quadrant','road_type','region']])\n",
    "        df = df.replace(np.inf,dict(df.median()))\n",
    "        return df"
   ]
  },
  {
   "cell_type": "code",
   "execution_count": 33,
   "metadata": {},
   "outputs": [],
   "source": [
    "# create a list of the newly added attributes\n",
    "extra_attr = ['total_rooms','livarea/bedroom','lotarea/bedroom',\n",
    " 'livarea/bathroom','lotarea/bathroom','land_space','total_space','landspace/room',\n",
    " 'totspace/room','facilities','score','sqft_city','sqft_zip','sqft_quadrant','sqft_roadtype',\n",
    "'sqft_region','lot_city','lot_zip','lot_quadrant','lot_roadtype','lot_region']"
   ]
  },
  {
   "cell_type": "code",
   "execution_count": 34,
   "metadata": {},
   "outputs": [
    {
     "data": {
      "text/html": [
       "<div>\n",
       "<style scoped>\n",
       "    .dataframe tbody tr th:only-of-type {\n",
       "        vertical-align: middle;\n",
       "    }\n",
       "\n",
       "    .dataframe tbody tr th {\n",
       "        vertical-align: top;\n",
       "    }\n",
       "\n",
       "    .dataframe thead th {\n",
       "        text-align: right;\n",
       "    }\n",
       "</style>\n",
       "<table border=\"1\" class=\"dataframe\">\n",
       "  <thead>\n",
       "    <tr style=\"text-align: right;\">\n",
       "      <th></th>\n",
       "      <th>price</th>\n",
       "      <th>bedrooms</th>\n",
       "      <th>bathrooms</th>\n",
       "      <th>sqft_living</th>\n",
       "      <th>sqft_lot</th>\n",
       "      <th>floors</th>\n",
       "      <th>waterfront</th>\n",
       "      <th>view</th>\n",
       "      <th>condition</th>\n",
       "      <th>sqft_above</th>\n",
       "      <th>...</th>\n",
       "      <th>sqft_city</th>\n",
       "      <th>sqft_zip</th>\n",
       "      <th>sqft_quadrant</th>\n",
       "      <th>sqft_roadtype</th>\n",
       "      <th>sqft_region</th>\n",
       "      <th>lot_city</th>\n",
       "      <th>lot_zip</th>\n",
       "      <th>lot_quadrant</th>\n",
       "      <th>lot_roadtype</th>\n",
       "      <th>lot_region</th>\n",
       "    </tr>\n",
       "  </thead>\n",
       "  <tbody>\n",
       "    <tr>\n",
       "      <th>0</th>\n",
       "      <td>635000.000000</td>\n",
       "      <td>3.0</td>\n",
       "      <td>2.50</td>\n",
       "      <td>2300</td>\n",
       "      <td>5500</td>\n",
       "      <td>1.5</td>\n",
       "      <td>0</td>\n",
       "      <td>0</td>\n",
       "      <td>4</td>\n",
       "      <td>2000</td>\n",
       "      <td>...</td>\n",
       "      <td>1833.560976</td>\n",
       "      <td>1910.955882</td>\n",
       "      <td>1925.379668</td>\n",
       "      <td>2003.008130</td>\n",
       "      <td>1830.519048</td>\n",
       "      <td>5301.785534</td>\n",
       "      <td>4287.705882</td>\n",
       "      <td>7605.679461</td>\n",
       "      <td>13366.500000</td>\n",
       "      <td>6399.424490</td>\n",
       "    </tr>\n",
       "    <tr>\n",
       "      <th>1</th>\n",
       "      <td>405000.000000</td>\n",
       "      <td>3.0</td>\n",
       "      <td>2.25</td>\n",
       "      <td>1520</td>\n",
       "      <td>1245</td>\n",
       "      <td>3.0</td>\n",
       "      <td>0</td>\n",
       "      <td>0</td>\n",
       "      <td>3</td>\n",
       "      <td>1520</td>\n",
       "      <td>...</td>\n",
       "      <td>1833.560976</td>\n",
       "      <td>1792.727273</td>\n",
       "      <td>1925.379668</td>\n",
       "      <td>2003.008130</td>\n",
       "      <td>1830.519048</td>\n",
       "      <td>5301.785534</td>\n",
       "      <td>3388.809091</td>\n",
       "      <td>7605.679461</td>\n",
       "      <td>13366.500000</td>\n",
       "      <td>6399.424490</td>\n",
       "    </tr>\n",
       "    <tr>\n",
       "      <th>2</th>\n",
       "      <td>567500.000000</td>\n",
       "      <td>3.0</td>\n",
       "      <td>2.50</td>\n",
       "      <td>2300</td>\n",
       "      <td>7398</td>\n",
       "      <td>2.0</td>\n",
       "      <td>0</td>\n",
       "      <td>0</td>\n",
       "      <td>3</td>\n",
       "      <td>2300</td>\n",
       "      <td>...</td>\n",
       "      <td>2597.115385</td>\n",
       "      <td>2597.115385</td>\n",
       "      <td>2381.686532</td>\n",
       "      <td>2003.008130</td>\n",
       "      <td>2346.380165</td>\n",
       "      <td>20398.442308</td>\n",
       "      <td>20398.442308</td>\n",
       "      <td>23547.878427</td>\n",
       "      <td>13366.500000</td>\n",
       "      <td>20986.932335</td>\n",
       "    </tr>\n",
       "    <tr>\n",
       "      <th>3</th>\n",
       "      <td>359000.000000</td>\n",
       "      <td>5.0</td>\n",
       "      <td>1.75</td>\n",
       "      <td>1940</td>\n",
       "      <td>6654</td>\n",
       "      <td>1.5</td>\n",
       "      <td>0</td>\n",
       "      <td>0</td>\n",
       "      <td>4</td>\n",
       "      <td>1940</td>\n",
       "      <td>...</td>\n",
       "      <td>1735.545455</td>\n",
       "      <td>1858.690476</td>\n",
       "      <td>1798.007812</td>\n",
       "      <td>2003.008130</td>\n",
       "      <td>1830.519048</td>\n",
       "      <td>12541.436364</td>\n",
       "      <td>14899.880952</td>\n",
       "      <td>12659.505208</td>\n",
       "      <td>13366.500000</td>\n",
       "      <td>6399.424490</td>\n",
       "    </tr>\n",
       "    <tr>\n",
       "      <th>4</th>\n",
       "      <td>494815.000000</td>\n",
       "      <td>3.0</td>\n",
       "      <td>2.50</td>\n",
       "      <td>1910</td>\n",
       "      <td>2091</td>\n",
       "      <td>2.0</td>\n",
       "      <td>0</td>\n",
       "      <td>0</td>\n",
       "      <td>3</td>\n",
       "      <td>1910</td>\n",
       "      <td>...</td>\n",
       "      <td>2420.278571</td>\n",
       "      <td>2302.333333</td>\n",
       "      <td>2261.966169</td>\n",
       "      <td>2433.848485</td>\n",
       "      <td>2346.380165</td>\n",
       "      <td>27904.314286</td>\n",
       "      <td>11239.015152</td>\n",
       "      <td>16726.231841</td>\n",
       "      <td>14421.181818</td>\n",
       "      <td>20986.932335</td>\n",
       "    </tr>\n",
       "    <tr>\n",
       "      <th>...</th>\n",
       "      <td>...</td>\n",
       "      <td>...</td>\n",
       "      <td>...</td>\n",
       "      <td>...</td>\n",
       "      <td>...</td>\n",
       "      <td>...</td>\n",
       "      <td>...</td>\n",
       "      <td>...</td>\n",
       "      <td>...</td>\n",
       "      <td>...</td>\n",
       "      <td>...</td>\n",
       "      <td>...</td>\n",
       "      <td>...</td>\n",
       "      <td>...</td>\n",
       "      <td>...</td>\n",
       "      <td>...</td>\n",
       "      <td>...</td>\n",
       "      <td>...</td>\n",
       "      <td>...</td>\n",
       "      <td>...</td>\n",
       "      <td>...</td>\n",
       "    </tr>\n",
       "    <tr>\n",
       "      <th>3406</th>\n",
       "      <td>108333.333333</td>\n",
       "      <td>3.0</td>\n",
       "      <td>1.00</td>\n",
       "      <td>1200</td>\n",
       "      <td>9936</td>\n",
       "      <td>1.0</td>\n",
       "      <td>0</td>\n",
       "      <td>0</td>\n",
       "      <td>4</td>\n",
       "      <td>1200</td>\n",
       "      <td>...</td>\n",
       "      <td>2092.405063</td>\n",
       "      <td>2092.405063</td>\n",
       "      <td>2381.686532</td>\n",
       "      <td>2064.859466</td>\n",
       "      <td>2346.380165</td>\n",
       "      <td>15057.303797</td>\n",
       "      <td>15057.303797</td>\n",
       "      <td>23547.878427</td>\n",
       "      <td>15436.173055</td>\n",
       "      <td>20986.932335</td>\n",
       "    </tr>\n",
       "    <tr>\n",
       "      <th>3407</th>\n",
       "      <td>875000.000000</td>\n",
       "      <td>4.0</td>\n",
       "      <td>2.00</td>\n",
       "      <td>2520</td>\n",
       "      <td>6000</td>\n",
       "      <td>1.0</td>\n",
       "      <td>0</td>\n",
       "      <td>0</td>\n",
       "      <td>3</td>\n",
       "      <td>1400</td>\n",
       "      <td>...</td>\n",
       "      <td>1833.560976</td>\n",
       "      <td>1792.727273</td>\n",
       "      <td>1925.379668</td>\n",
       "      <td>2003.008130</td>\n",
       "      <td>1830.519048</td>\n",
       "      <td>5301.785534</td>\n",
       "      <td>3388.809091</td>\n",
       "      <td>7605.679461</td>\n",
       "      <td>13366.500000</td>\n",
       "      <td>6399.424490</td>\n",
       "    </tr>\n",
       "    <tr>\n",
       "      <th>3408</th>\n",
       "      <td>290000.000000</td>\n",
       "      <td>3.0</td>\n",
       "      <td>1.00</td>\n",
       "      <td>1150</td>\n",
       "      <td>8145</td>\n",
       "      <td>1.0</td>\n",
       "      <td>0</td>\n",
       "      <td>0</td>\n",
       "      <td>4</td>\n",
       "      <td>990</td>\n",
       "      <td>...</td>\n",
       "      <td>1776.701031</td>\n",
       "      <td>1701.369863</td>\n",
       "      <td>2261.966169</td>\n",
       "      <td>2003.008130</td>\n",
       "      <td>1830.519048</td>\n",
       "      <td>8898.969072</td>\n",
       "      <td>9685.205479</td>\n",
       "      <td>16726.231841</td>\n",
       "      <td>13366.500000</td>\n",
       "      <td>6399.424490</td>\n",
       "    </tr>\n",
       "    <tr>\n",
       "      <th>3409</th>\n",
       "      <td>600000.000000</td>\n",
       "      <td>2.0</td>\n",
       "      <td>1.00</td>\n",
       "      <td>910</td>\n",
       "      <td>2002</td>\n",
       "      <td>1.5</td>\n",
       "      <td>0</td>\n",
       "      <td>0</td>\n",
       "      <td>3</td>\n",
       "      <td>910</td>\n",
       "      <td>...</td>\n",
       "      <td>1833.560976</td>\n",
       "      <td>2327.735849</td>\n",
       "      <td>1925.379668</td>\n",
       "      <td>2003.008130</td>\n",
       "      <td>1830.519048</td>\n",
       "      <td>5301.785534</td>\n",
       "      <td>4635.000000</td>\n",
       "      <td>7605.679461</td>\n",
       "      <td>13366.500000</td>\n",
       "      <td>6399.424490</td>\n",
       "    </tr>\n",
       "    <tr>\n",
       "      <th>3410</th>\n",
       "      <td>475000.000000</td>\n",
       "      <td>2.0</td>\n",
       "      <td>1.00</td>\n",
       "      <td>1490</td>\n",
       "      <td>3825</td>\n",
       "      <td>1.0</td>\n",
       "      <td>0</td>\n",
       "      <td>0</td>\n",
       "      <td>3</td>\n",
       "      <td>860</td>\n",
       "      <td>...</td>\n",
       "      <td>1833.560976</td>\n",
       "      <td>1700.274510</td>\n",
       "      <td>1927.045662</td>\n",
       "      <td>2003.008130</td>\n",
       "      <td>1830.519048</td>\n",
       "      <td>5301.785534</td>\n",
       "      <td>4568.931373</td>\n",
       "      <td>6422.936073</td>\n",
       "      <td>13366.500000</td>\n",
       "      <td>6399.424490</td>\n",
       "    </tr>\n",
       "  </tbody>\n",
       "</table>\n",
       "<p>3411 rows × 42 columns</p>\n",
       "</div>"
      ],
      "text/plain": [
       "              price  bedrooms  bathrooms  sqft_living  sqft_lot  floors  \\\n",
       "0     635000.000000       3.0       2.50         2300      5500     1.5   \n",
       "1     405000.000000       3.0       2.25         1520      1245     3.0   \n",
       "2     567500.000000       3.0       2.50         2300      7398     2.0   \n",
       "3     359000.000000       5.0       1.75         1940      6654     1.5   \n",
       "4     494815.000000       3.0       2.50         1910      2091     2.0   \n",
       "...             ...       ...        ...          ...       ...     ...   \n",
       "3406  108333.333333       3.0       1.00         1200      9936     1.0   \n",
       "3407  875000.000000       4.0       2.00         2520      6000     1.0   \n",
       "3408  290000.000000       3.0       1.00         1150      8145     1.0   \n",
       "3409  600000.000000       2.0       1.00          910      2002     1.5   \n",
       "3410  475000.000000       2.0       1.00         1490      3825     1.0   \n",
       "\n",
       "      waterfront  view  condition  sqft_above  ...    sqft_city     sqft_zip  \\\n",
       "0              0     0          4        2000  ...  1833.560976  1910.955882   \n",
       "1              0     0          3        1520  ...  1833.560976  1792.727273   \n",
       "2              0     0          3        2300  ...  2597.115385  2597.115385   \n",
       "3              0     0          4        1940  ...  1735.545455  1858.690476   \n",
       "4              0     0          3        1910  ...  2420.278571  2302.333333   \n",
       "...          ...   ...        ...         ...  ...          ...          ...   \n",
       "3406           0     0          4        1200  ...  2092.405063  2092.405063   \n",
       "3407           0     0          3        1400  ...  1833.560976  1792.727273   \n",
       "3408           0     0          4         990  ...  1776.701031  1701.369863   \n",
       "3409           0     0          3         910  ...  1833.560976  2327.735849   \n",
       "3410           0     0          3         860  ...  1833.560976  1700.274510   \n",
       "\n",
       "      sqft_quadrant sqft_roadtype  sqft_region      lot_city       lot_zip  \\\n",
       "0       1925.379668   2003.008130  1830.519048   5301.785534   4287.705882   \n",
       "1       1925.379668   2003.008130  1830.519048   5301.785534   3388.809091   \n",
       "2       2381.686532   2003.008130  2346.380165  20398.442308  20398.442308   \n",
       "3       1798.007812   2003.008130  1830.519048  12541.436364  14899.880952   \n",
       "4       2261.966169   2433.848485  2346.380165  27904.314286  11239.015152   \n",
       "...             ...           ...          ...           ...           ...   \n",
       "3406    2381.686532   2064.859466  2346.380165  15057.303797  15057.303797   \n",
       "3407    1925.379668   2003.008130  1830.519048   5301.785534   3388.809091   \n",
       "3408    2261.966169   2003.008130  1830.519048   8898.969072   9685.205479   \n",
       "3409    1925.379668   2003.008130  1830.519048   5301.785534   4635.000000   \n",
       "3410    1927.045662   2003.008130  1830.519048   5301.785534   4568.931373   \n",
       "\n",
       "      lot_quadrant  lot_roadtype    lot_region  \n",
       "0      7605.679461  13366.500000   6399.424490  \n",
       "1      7605.679461  13366.500000   6399.424490  \n",
       "2     23547.878427  13366.500000  20986.932335  \n",
       "3     12659.505208  13366.500000   6399.424490  \n",
       "4     16726.231841  14421.181818  20986.932335  \n",
       "...            ...           ...           ...  \n",
       "3406  23547.878427  15436.173055  20986.932335  \n",
       "3407   7605.679461  13366.500000   6399.424490  \n",
       "3408  16726.231841  13366.500000   6399.424490  \n",
       "3409   7605.679461  13366.500000   6399.424490  \n",
       "3410   6422.936073  13366.500000   6399.424490  \n",
       "\n",
       "[3411 rows x 42 columns]"
      ]
     },
     "execution_count": 34,
     "metadata": {},
     "output_type": "execute_result"
    }
   ],
   "source": [
    "new_feats=Add_attr().fit_transform(train)\n",
    "new_feats"
   ]
  },
  {
   "cell_type": "markdown",
   "metadata": {},
   "source": [
    "## Feature Scaling"
   ]
  },
  {
   "cell_type": "code",
   "execution_count": 35,
   "metadata": {},
   "outputs": [],
   "source": [
    "# select the numerical attributes\n",
    "num_attr = ['bedrooms','bathrooms','sqft_living','sqft_lot','floors','sqft_above', \n",
    "            'sqft_basement','yr_built', 'yr_renovated']"
   ]
  },
  {
   "cell_type": "code",
   "execution_count": 36,
   "metadata": {},
   "outputs": [
    {
     "data": {
      "image/png": "[encoded data removed]",
      "text/plain": [
       "<Figure size 1080x864 with 9 Axes>"
      ]
     },
     "metadata": {
      "needs_background": "light"
     },
     "output_type": "display_data"
    }
   ],
   "source": [
    "new_feats[num_attr].hist(figsize=(15,12));"
   ]
  },
  {
   "cell_type": "markdown",
   "metadata": {},
   "source": [
    "- Some variables have greater magnitude and wide ranges than others. Scaling these variables would give each variable equal importance in predicting the target  \n",
    "  \n",
    "  \n",
    "- There are also heavily skewed variables. Normalizing these variables would give them a more bell-shaped distribuition\n"
   ]
  },
  {
   "cell_type": "code",
   "execution_count": 37,
   "metadata": {},
   "outputs": [
    {
     "data": {
      "text/plain": [
       "sqft_lot         12.240781\n",
       "sqft_above        1.379009\n",
       "sqft_basement     1.360537\n",
       "sqft_living       1.355652\n",
       "floors            0.539768\n",
       "yr_built          0.493052\n",
       "bedrooms          0.459156\n",
       "bathrooms         0.418823\n",
       "yr_renovated      0.395788\n",
       "dtype: float64"
      ]
     },
     "execution_count": 37,
     "metadata": {},
     "output_type": "execute_result"
    }
   ],
   "source": [
    "abs(new_feats[num_attr].skew()).sort_values(ascending=False)"
   ]
  },
  {
   "cell_type": "markdown",
   "metadata": {},
   "source": [
    "The area variables are highly skewed. We'll log-transform them. However, we'll only scale the year variables"
   ]
  },
  {
   "cell_type": "code",
   "execution_count": 38,
   "metadata": {},
   "outputs": [],
   "source": [
    "class Scale_num(BaseEstimator,TransformerMixin):\n",
    "    to_normalize = ['sqft_lot','sqft_above','sqft_basement','sqft_living']\n",
    "    to_scale = ['yr_built','yr_renovated']\n",
    "    others = ['floors','bedrooms', 'bathrooms']\n",
    "    columns = ['sqft_lot','sqft_above','sqft_basement','sqft_living','yr_built','yr_renovated',\n",
    "               'floors','bedrooms', 'bathrooms']\n",
    "    def __init__(self):\n",
    "        self.ss = StandardScaler()\n",
    "    \n",
    "    def fit(self,X,y=None):\n",
    "        df = X.copy()\n",
    "        self.ss.fit(df[self.to_scale])\n",
    "        return self\n",
    "    \n",
    "    def transform(self,X,y=None):\n",
    "        df = X.copy()\n",
    "        normed = np.log1p(df[self.to_normalize]).values\n",
    "        scaled = self.ss.transform(df[self.to_scale])\n",
    "        rem = df[self.others].values\n",
    "        data = np.c_[normed,scaled,rem]\n",
    "        df = pd.DataFrame(data,columns=self.columns)\n",
    "        return df"
   ]
  },
  {
   "cell_type": "code",
   "execution_count": 39,
   "metadata": {},
   "outputs": [
    {
     "data": {
      "image/png": "[encoded data removed]",
      "text/plain": [
       "<Figure size 1080x864 with 9 Axes>"
      ]
     },
     "metadata": {
      "needs_background": "light"
     },
     "output_type": "display_data"
    }
   ],
   "source": [
    "Scale_num().fit_transform(new_feats[num_attr]).hist(figsize=(15,12));"
   ]
  },
  {
   "cell_type": "markdown",
   "metadata": {},
   "source": [
    "Let's check the distributions of the newly created features"
   ]
  },
  {
   "cell_type": "code",
   "execution_count": 40,
   "metadata": {},
   "outputs": [
    {
     "data": {
      "image/png": "[encoded data removed]",
      "text/plain": [
       "<Figure size 1080x864 with 25 Axes>"
      ]
     },
     "metadata": {
      "needs_background": "light"
     },
     "output_type": "display_data"
    }
   ],
   "source": [
    "new_feats[extra_attr].hist(figsize=(15,12));"
   ]
  },
  {
   "cell_type": "markdown",
   "metadata": {},
   "source": [
    "The possible features for normalizing and scaling are evident"
   ]
  },
  {
   "cell_type": "code",
   "execution_count": 41,
   "metadata": {},
   "outputs": [
    {
     "data": {
      "text/plain": [
       "lotarea/bedroom     12.728910\n",
       "land_space          12.113808\n",
       "lotarea/bathroom    11.988092\n",
       "total_space         11.968980\n",
       "landspace/room      11.719203\n",
       "totspace/room       11.659600\n",
       "lot_roadtype         7.344425\n",
       "lot_city             3.445947\n",
       "lot_zip              3.018131\n",
       "sqft_city            1.348363\n",
       "livarea/bedroom      1.224625\n",
       "livarea/bathroom     1.083934\n",
       "sqft_roadtype        1.022186\n",
       "score                0.975144\n",
       "sqft_zip             0.853618\n",
       "facilities           0.373973\n",
       "total_rooms          0.319043\n",
       "sqft_region          0.286228\n",
       "lot_region           0.264743\n",
       "sqft_quadrant        0.136696\n",
       "lot_quadrant         0.135498\n",
       "dtype: float64"
      ]
     },
     "execution_count": 41,
     "metadata": {},
     "output_type": "execute_result"
    }
   ],
   "source": [
    "abs(new_feats[extra_attr].skew()).sort_values(ascending=False)"
   ]
  },
  {
   "cell_type": "code",
   "execution_count": 42,
   "metadata": {},
   "outputs": [],
   "source": [
    "class Scale_extra(BaseEstimator,TransformerMixin):\n",
    "    to_normalize = ['lotarea/bedroom','land_space','lotarea/bathroom','total_space',\n",
    "                   'landspace/room','totspace/room','lot_roadtype','lot_city','lot_zip',\n",
    "                    'sqft_city','livarea/bedroom','livarea/bathroom','sqft_roadtype']\n",
    "    to_scale = ['sqft_zip','sqft_region','lot_region','sqft_quadrant','lot_quadrant']\n",
    "    others = ['score','facilities','total_rooms']\n",
    "    columns =['lotarea/bedroom','land_space','lotarea/bathroom','total_space','landspace/room',\n",
    "               'totspace/room','lot_roadtype','lot_city','lot_zip','sqft_city',\n",
    "               'livarea/bedroom','livarea/bathroom','sqft_roadtype','sqft_zip','sqft_region',\n",
    "               'lot_region','sqft_quadrant','lot_quadrant','score','facilities','total_rooms']\n",
    "    def __init__(self):\n",
    "        self.ss = StandardScaler()\n",
    "    def fit(self,X,y=None):\n",
    "        df = X.copy()\n",
    "        self.ss.fit(df[self.to_scale])\n",
    "        return self\n",
    "    \n",
    "    def transform(self,X,y=None):\n",
    "        df = X.copy()\n",
    "        normed = np.log1p(df[self.to_normalize])\n",
    "        scaled = self.ss.transform(df[self.to_scale])\n",
    "        rem = df[self.others]\n",
    "        data = np.c_[normed,scaled,rem]\n",
    "        df = pd.DataFrame(data,columns=self.columns)\n",
    "        return df"
   ]
  },
  {
   "cell_type": "code",
   "execution_count": 43,
   "metadata": {},
   "outputs": [
    {
     "data": {
      "image/png": "[encoded data removed]",
      "text/plain": [
       "<Figure size 1080x864 with 25 Axes>"
      ]
     },
     "metadata": {
      "needs_background": "light"
     },
     "output_type": "display_data"
    }
   ],
   "source": [
    "Scale_extra().fit_transform(new_feats[extra_attr]).hist(figsize=(15,12));"
   ]
  },
  {
   "cell_type": "markdown",
   "metadata": {},
   "source": [
    "## Encoding Categories"
   ]
  },
  {
   "cell_type": "code",
   "execution_count": 44,
   "metadata": {},
   "outputs": [
    {
     "name": "stdout",
     "output_type": "stream",
     "text": [
      "waterfront [0 1]\n",
      "view [0 2 1 4 3]\n",
      "condition [4 3 5 2 1]\n",
      "city ['Seattle' 'Snoqualmie' 'Burien' 'Issaquah' 'Kirkland' 'Bellevue'\n",
      " 'Sammamish' 'Carnation' 'Black Diamond' 'Kenmore' 'Redmond'\n",
      " 'Normandy Park' 'Shoreline' 'Tukwila' 'Woodinville' 'Kent' 'Auburn'\n",
      " 'Des Moines' 'Renton' 'Federal Way' 'Mercer Island' 'Maple Valley'\n",
      " 'Newcastle' 'North Bend' 'SeaTac' 'Vashon' 'Covington' 'Bothell'\n",
      " 'Enumclaw' 'Ravensdale' 'Algona' 'Lake Forest Park' 'Duvall' 'Pacific'\n",
      " 'Snoqualmie Pass' 'Fall City' 'Clyde Hill' 'Medina' 'Milton' 'Skykomish'\n",
      " 'Yarrow Point' 'Preston']\n",
      "zip ['98144' '98103' '98065' '98166' '98029' '98034' '98004' '98074' '98107'\n",
      " '98106' '98005' '98014' '98006' '98010' '98028' '98053' '98126' '98118'\n",
      " '98102' '98052' '98133' '98178' '98146' '98077' '98112' '98030' '98117'\n",
      " '98002' '98198' '98059' '98033' '98023' '98042' '98040' '98136' '98155'\n",
      " '98115' '98092' '98038' '98116' '98045' '98188' '98058' '98108' '98003'\n",
      " '98027' '98070' '98031' '98072' '98075' '98199' '98011' '98022' '98007'\n",
      " '98168' '98057' '98122' '98051' '98001' '98032' '98008' '98125' '98056'\n",
      " '98177' '98105' '98019' '98055' '98047' '98068' '98024' '98109' '98148'\n",
      " '98119' '98039' '98354' '98288' '98050']\n",
      "has_basement [1 0]\n",
      "was_renovated [0 1]\n",
      "region ['2' '1' '4' '3']\n",
      "quadrant ['UNKNOWN' 'SE' 'SW' 'NE' 'NW']\n",
      "road_type ['Ave' 'Ln' 'Pl' 'Dr' 'Way' 'UNKNOWN' 'St' 'Ct' 'Terrace' 'Blvd' 'Rd'\n",
      " 'Trail' 'Hwy' 'Walk' 'Pkwy' 'Cir' 'Key']\n"
     ]
    }
   ],
   "source": [
    "# select categorical attributes\n",
    "cat_attr = ['waterfront','view','condition','city','zip','has_basement','was_renovated','region','quadrant','road_type']\n",
    "for attr in cat_attr:\n",
    "    print(attr, new_feats[attr].unique())"
   ]
  },
  {
   "cell_type": "markdown",
   "metadata": {},
   "source": [
    "We can deduce that **waterfront**, **has_basement**, and **was_renovated** are ordinal variables. The remaining variables are nominal and have to be dummy encoded(i.e a column for each unique value)"
   ]
  },
  {
   "cell_type": "markdown",
   "metadata": {},
   "source": [
    "Let's create a Custom Transformer to encode these variables"
   ]
  },
  {
   "cell_type": "code",
   "execution_count": 45,
   "metadata": {},
   "outputs": [],
   "source": [
    "from sklearn.base import BaseEstimator, TransformerMixin\n",
    "from sklearn.preprocessing import OneHotEncoder\n",
    "\n",
    "class Encode(BaseEstimator,TransformerMixin):\n",
    "    ordinal = ['waterfront','has_basement','was_renovated']\n",
    "    nominal = ['view','condition','city','zip','region','quadrant','road_type']\n",
    "\n",
    "    def __init__(self):\n",
    "        self.encoder = OneHotEncoder(handle_unknown='ignore',sparse=False)\n",
    "    \n",
    "    def fit(self,X,y=None):\n",
    "        self.encoder.fit(X[self.nominal])\n",
    "        return self\n",
    "    \n",
    "    def transform(self,X,y=None):\n",
    "        df = X.copy()\n",
    "        dummy_data = self.encoder.transform(df[self.nominal])\n",
    "        self.dummy_cols = self.encoder.get_feature_names(self.nominal)\n",
    "        dummy_df = pd.DataFrame(dummy_data,columns=self.dummy_cols)\n",
    "        ord_df = df[self.ordinal].reset_index(drop=True)\n",
    "        cat_df = pd.concat([ord_df,dummy_df],axis=1)\n",
    "        self.columns = cat_df.columns\n",
    "        return cat_df"
   ]
  },
  {
   "cell_type": "code",
   "execution_count": 46,
   "metadata": {},
   "outputs": [],
   "source": [
    "dummy_cols = Encode().fit_transform(new_feats[cat_attr]).head().columns"
   ]
  },
  {
   "cell_type": "code",
   "execution_count": 47,
   "metadata": {},
   "outputs": [],
   "source": [
    "from sklearn.compose import ColumnTransformer\n",
    "from sklearn.pipeline import Pipeline\n",
    "\n",
    "num_and_cat = ColumnTransformer([('num_scaler',Scale_num(),num_attr),\n",
    "                                 ('extra_scaler',Scale_extra(),extra_attr),\n",
    "                                 ('encoder',Encode(),cat_attr)])\n",
    "\n",
    "preprocessor = Pipeline([('adder',Add_attr()),\n",
    "                         ('scaler_encoder',num_and_cat)])"
   ]
  },
  {
   "cell_type": "code",
   "execution_count": 48,
   "metadata": {
    "scrolled": false
   },
   "outputs": [
    {
     "data": {
      "text/html": [
       "<div>\n",
       "<style scoped>\n",
       "    .dataframe tbody tr th:only-of-type {\n",
       "        vertical-align: middle;\n",
       "    }\n",
       "\n",
       "    .dataframe tbody tr th {\n",
       "        vertical-align: top;\n",
       "    }\n",
       "\n",
       "    .dataframe thead th {\n",
       "        text-align: right;\n",
       "    }\n",
       "</style>\n",
       "<table border=\"1\" class=\"dataframe\">\n",
       "  <thead>\n",
       "    <tr style=\"text-align: right;\">\n",
       "      <th></th>\n",
       "      <th>sqft_lot</th>\n",
       "      <th>sqft_above</th>\n",
       "      <th>sqft_basement</th>\n",
       "      <th>sqft_living</th>\n",
       "      <th>yr_built</th>\n",
       "      <th>yr_renovated</th>\n",
       "      <th>floors</th>\n",
       "      <th>bedrooms</th>\n",
       "      <th>bathrooms</th>\n",
       "      <th>lotarea/bedroom</th>\n",
       "      <th>...</th>\n",
       "      <th>road_type_Ln</th>\n",
       "      <th>road_type_Pkwy</th>\n",
       "      <th>road_type_Pl</th>\n",
       "      <th>road_type_Rd</th>\n",
       "      <th>road_type_St</th>\n",
       "      <th>road_type_Terrace</th>\n",
       "      <th>road_type_Trail</th>\n",
       "      <th>road_type_UNKNOWN</th>\n",
       "      <th>road_type_Walk</th>\n",
       "      <th>road_type_Way</th>\n",
       "    </tr>\n",
       "  </thead>\n",
       "  <tbody>\n",
       "    <tr>\n",
       "      <th>0</th>\n",
       "      <td>8.612685</td>\n",
       "      <td>7.601402</td>\n",
       "      <td>5.707110</td>\n",
       "      <td>7.741099</td>\n",
       "      <td>-1.632185</td>\n",
       "      <td>-0.821717</td>\n",
       "      <td>1.5</td>\n",
       "      <td>3.0</td>\n",
       "      <td>2.50</td>\n",
       "      <td>7.514436</td>\n",
       "      <td>...</td>\n",
       "      <td>0.0</td>\n",
       "      <td>0.0</td>\n",
       "      <td>0.0</td>\n",
       "      <td>0.0</td>\n",
       "      <td>0.0</td>\n",
       "      <td>0.0</td>\n",
       "      <td>0.0</td>\n",
       "      <td>0.0</td>\n",
       "      <td>0.0</td>\n",
       "      <td>0.0</td>\n",
       "    </tr>\n",
       "    <tr>\n",
       "      <th>1</th>\n",
       "      <td>7.127694</td>\n",
       "      <td>7.327123</td>\n",
       "      <td>0.000000</td>\n",
       "      <td>7.327123</td>\n",
       "      <td>1.125392</td>\n",
       "      <td>1.225381</td>\n",
       "      <td>3.0</td>\n",
       "      <td>3.0</td>\n",
       "      <td>2.25</td>\n",
       "      <td>6.030685</td>\n",
       "      <td>...</td>\n",
       "      <td>0.0</td>\n",
       "      <td>0.0</td>\n",
       "      <td>0.0</td>\n",
       "      <td>0.0</td>\n",
       "      <td>0.0</td>\n",
       "      <td>0.0</td>\n",
       "      <td>0.0</td>\n",
       "      <td>0.0</td>\n",
       "      <td>0.0</td>\n",
       "      <td>0.0</td>\n",
       "    </tr>\n",
       "    <tr>\n",
       "      <th>2</th>\n",
       "      <td>8.909100</td>\n",
       "      <td>7.741099</td>\n",
       "      <td>0.000000</td>\n",
       "      <td>7.741099</td>\n",
       "      <td>1.025721</td>\n",
       "      <td>-0.821717</td>\n",
       "      <td>2.0</td>\n",
       "      <td>3.0</td>\n",
       "      <td>2.50</td>\n",
       "      <td>7.810758</td>\n",
       "      <td>...</td>\n",
       "      <td>0.0</td>\n",
       "      <td>0.0</td>\n",
       "      <td>0.0</td>\n",
       "      <td>0.0</td>\n",
       "      <td>0.0</td>\n",
       "      <td>0.0</td>\n",
       "      <td>0.0</td>\n",
       "      <td>0.0</td>\n",
       "      <td>0.0</td>\n",
       "      <td>0.0</td>\n",
       "    </tr>\n",
       "    <tr>\n",
       "      <th>3</th>\n",
       "      <td>8.803124</td>\n",
       "      <td>7.570959</td>\n",
       "      <td>0.000000</td>\n",
       "      <td>7.570959</td>\n",
       "      <td>-0.569022</td>\n",
       "      <td>1.204941</td>\n",
       "      <td>1.5</td>\n",
       "      <td>5.0</td>\n",
       "      <td>1.75</td>\n",
       "      <td>7.194287</td>\n",
       "      <td>...</td>\n",
       "      <td>0.0</td>\n",
       "      <td>0.0</td>\n",
       "      <td>0.0</td>\n",
       "      <td>0.0</td>\n",
       "      <td>0.0</td>\n",
       "      <td>0.0</td>\n",
       "      <td>0.0</td>\n",
       "      <td>0.0</td>\n",
       "      <td>0.0</td>\n",
       "      <td>0.0</td>\n",
       "    </tr>\n",
       "    <tr>\n",
       "      <th>4</th>\n",
       "      <td>7.645876</td>\n",
       "      <td>7.555382</td>\n",
       "      <td>0.000000</td>\n",
       "      <td>7.555382</td>\n",
       "      <td>1.457630</td>\n",
       "      <td>-0.821717</td>\n",
       "      <td>2.0</td>\n",
       "      <td>3.0</td>\n",
       "      <td>2.50</td>\n",
       "      <td>6.548219</td>\n",
       "      <td>...</td>\n",
       "      <td>1.0</td>\n",
       "      <td>0.0</td>\n",
       "      <td>0.0</td>\n",
       "      <td>0.0</td>\n",
       "      <td>0.0</td>\n",
       "      <td>0.0</td>\n",
       "      <td>0.0</td>\n",
       "      <td>0.0</td>\n",
       "      <td>0.0</td>\n",
       "      <td>0.0</td>\n",
       "    </tr>\n",
       "    <tr>\n",
       "      <th>...</th>\n",
       "      <td>...</td>\n",
       "      <td>...</td>\n",
       "      <td>...</td>\n",
       "      <td>...</td>\n",
       "      <td>...</td>\n",
       "      <td>...</td>\n",
       "      <td>...</td>\n",
       "      <td>...</td>\n",
       "      <td>...</td>\n",
       "      <td>...</td>\n",
       "      <td>...</td>\n",
       "      <td>...</td>\n",
       "      <td>...</td>\n",
       "      <td>...</td>\n",
       "      <td>...</td>\n",
       "      <td>...</td>\n",
       "      <td>...</td>\n",
       "      <td>...</td>\n",
       "      <td>...</td>\n",
       "      <td>...</td>\n",
       "      <td>...</td>\n",
       "    </tr>\n",
       "    <tr>\n",
       "      <th>3406</th>\n",
       "      <td>9.204020</td>\n",
       "      <td>7.090910</td>\n",
       "      <td>0.000000</td>\n",
       "      <td>7.090910</td>\n",
       "      <td>-0.037441</td>\n",
       "      <td>-0.821717</td>\n",
       "      <td>1.0</td>\n",
       "      <td>3.0</td>\n",
       "      <td>1.00</td>\n",
       "      <td>8.105609</td>\n",
       "      <td>...</td>\n",
       "      <td>0.0</td>\n",
       "      <td>0.0</td>\n",
       "      <td>0.0</td>\n",
       "      <td>0.0</td>\n",
       "      <td>1.0</td>\n",
       "      <td>0.0</td>\n",
       "      <td>0.0</td>\n",
       "      <td>0.0</td>\n",
       "      <td>0.0</td>\n",
       "      <td>0.0</td>\n",
       "    </tr>\n",
       "    <tr>\n",
       "      <th>3407</th>\n",
       "      <td>8.699681</td>\n",
       "      <td>7.244942</td>\n",
       "      <td>7.021976</td>\n",
       "      <td>7.832411</td>\n",
       "      <td>-1.632185</td>\n",
       "      <td>1.229469</td>\n",
       "      <td>1.0</td>\n",
       "      <td>4.0</td>\n",
       "      <td>2.00</td>\n",
       "      <td>7.313887</td>\n",
       "      <td>...</td>\n",
       "      <td>0.0</td>\n",
       "      <td>0.0</td>\n",
       "      <td>0.0</td>\n",
       "      <td>0.0</td>\n",
       "      <td>0.0</td>\n",
       "      <td>0.0</td>\n",
       "      <td>0.0</td>\n",
       "      <td>0.0</td>\n",
       "      <td>0.0</td>\n",
       "      <td>0.0</td>\n",
       "    </tr>\n",
       "    <tr>\n",
       "      <th>3408</th>\n",
       "      <td>9.005282</td>\n",
       "      <td>6.898715</td>\n",
       "      <td>5.081404</td>\n",
       "      <td>7.048386</td>\n",
       "      <td>-1.266723</td>\n",
       "      <td>1.179390</td>\n",
       "      <td>1.0</td>\n",
       "      <td>3.0</td>\n",
       "      <td>1.00</td>\n",
       "      <td>7.906915</td>\n",
       "      <td>...</td>\n",
       "      <td>0.0</td>\n",
       "      <td>0.0</td>\n",
       "      <td>0.0</td>\n",
       "      <td>0.0</td>\n",
       "      <td>0.0</td>\n",
       "      <td>0.0</td>\n",
       "      <td>0.0</td>\n",
       "      <td>0.0</td>\n",
       "      <td>0.0</td>\n",
       "      <td>0.0</td>\n",
       "    </tr>\n",
       "    <tr>\n",
       "      <th>3409</th>\n",
       "      <td>7.602401</td>\n",
       "      <td>6.814543</td>\n",
       "      <td>0.000000</td>\n",
       "      <td>6.814543</td>\n",
       "      <td>-2.329885</td>\n",
       "      <td>1.227425</td>\n",
       "      <td>1.5</td>\n",
       "      <td>2.0</td>\n",
       "      <td>1.00</td>\n",
       "      <td>6.909753</td>\n",
       "      <td>...</td>\n",
       "      <td>0.0</td>\n",
       "      <td>0.0</td>\n",
       "      <td>0.0</td>\n",
       "      <td>0.0</td>\n",
       "      <td>0.0</td>\n",
       "      <td>0.0</td>\n",
       "      <td>0.0</td>\n",
       "      <td>0.0</td>\n",
       "      <td>0.0</td>\n",
       "      <td>0.0</td>\n",
       "    </tr>\n",
       "    <tr>\n",
       "      <th>3410</th>\n",
       "      <td>8.249575</td>\n",
       "      <td>6.758095</td>\n",
       "      <td>6.447306</td>\n",
       "      <td>7.307202</td>\n",
       "      <td>-1.366394</td>\n",
       "      <td>-0.821717</td>\n",
       "      <td>1.0</td>\n",
       "      <td>2.0</td>\n",
       "      <td>1.00</td>\n",
       "      <td>7.556689</td>\n",
       "      <td>...</td>\n",
       "      <td>0.0</td>\n",
       "      <td>0.0</td>\n",
       "      <td>0.0</td>\n",
       "      <td>0.0</td>\n",
       "      <td>0.0</td>\n",
       "      <td>0.0</td>\n",
       "      <td>0.0</td>\n",
       "      <td>0.0</td>\n",
       "      <td>0.0</td>\n",
       "      <td>0.0</td>\n",
       "    </tr>\n",
       "  </tbody>\n",
       "</table>\n",
       "<p>3411 rows × 188 columns</p>\n",
       "</div>"
      ],
      "text/plain": [
       "      sqft_lot  sqft_above  sqft_basement  sqft_living  yr_built  \\\n",
       "0     8.612685    7.601402       5.707110     7.741099 -1.632185   \n",
       "1     7.127694    7.327123       0.000000     7.327123  1.125392   \n",
       "2     8.909100    7.741099       0.000000     7.741099  1.025721   \n",
       "3     8.803124    7.570959       0.000000     7.570959 -0.569022   \n",
       "4     7.645876    7.555382       0.000000     7.555382  1.457630   \n",
       "...        ...         ...            ...          ...       ...   \n",
       "3406  9.204020    7.090910       0.000000     7.090910 -0.037441   \n",
       "3407  8.699681    7.244942       7.021976     7.832411 -1.632185   \n",
       "3408  9.005282    6.898715       5.081404     7.048386 -1.266723   \n",
       "3409  7.602401    6.814543       0.000000     6.814543 -2.329885   \n",
       "3410  8.249575    6.758095       6.447306     7.307202 -1.366394   \n",
       "\n",
       "      yr_renovated  floors  bedrooms  bathrooms  lotarea/bedroom  ...  \\\n",
       "0        -0.821717     1.5       3.0       2.50         7.514436  ...   \n",
       "1         1.225381     3.0       3.0       2.25         6.030685  ...   \n",
       "2        -0.821717     2.0       3.0       2.50         7.810758  ...   \n",
       "3         1.204941     1.5       5.0       1.75         7.194287  ...   \n",
       "4        -0.821717     2.0       3.0       2.50         6.548219  ...   \n",
       "...            ...     ...       ...        ...              ...  ...   \n",
       "3406     -0.821717     1.0       3.0       1.00         8.105609  ...   \n",
       "3407      1.229469     1.0       4.0       2.00         7.313887  ...   \n",
       "3408      1.179390     1.0       3.0       1.00         7.906915  ...   \n",
       "3409      1.227425     1.5       2.0       1.00         6.909753  ...   \n",
       "3410     -0.821717     1.0       2.0       1.00         7.556689  ...   \n",
       "\n",
       "      road_type_Ln  road_type_Pkwy  road_type_Pl  road_type_Rd  road_type_St  \\\n",
       "0              0.0             0.0           0.0           0.0           0.0   \n",
       "1              0.0             0.0           0.0           0.0           0.0   \n",
       "2              0.0             0.0           0.0           0.0           0.0   \n",
       "3              0.0             0.0           0.0           0.0           0.0   \n",
       "4              1.0             0.0           0.0           0.0           0.0   \n",
       "...            ...             ...           ...           ...           ...   \n",
       "3406           0.0             0.0           0.0           0.0           1.0   \n",
       "3407           0.0             0.0           0.0           0.0           0.0   \n",
       "3408           0.0             0.0           0.0           0.0           0.0   \n",
       "3409           0.0             0.0           0.0           0.0           0.0   \n",
       "3410           0.0             0.0           0.0           0.0           0.0   \n",
       "\n",
       "      road_type_Terrace  road_type_Trail  road_type_UNKNOWN  road_type_Walk  \\\n",
       "0                   0.0              0.0                0.0             0.0   \n",
       "1                   0.0              0.0                0.0             0.0   \n",
       "2                   0.0              0.0                0.0             0.0   \n",
       "3                   0.0              0.0                0.0             0.0   \n",
       "4                   0.0              0.0                0.0             0.0   \n",
       "...                 ...              ...                ...             ...   \n",
       "3406                0.0              0.0                0.0             0.0   \n",
       "3407                0.0              0.0                0.0             0.0   \n",
       "3408                0.0              0.0                0.0             0.0   \n",
       "3409                0.0              0.0                0.0             0.0   \n",
       "3410                0.0              0.0                0.0             0.0   \n",
       "\n",
       "      road_type_Way  \n",
       "0               0.0  \n",
       "1               0.0  \n",
       "2               0.0  \n",
       "3               0.0  \n",
       "4               0.0  \n",
       "...             ...  \n",
       "3406            0.0  \n",
       "3407            0.0  \n",
       "3408            0.0  \n",
       "3409            0.0  \n",
       "3410            0.0  \n",
       "\n",
       "[3411 rows x 188 columns]"
      ]
     },
     "execution_count": 48,
     "metadata": {},
     "output_type": "execute_result"
    }
   ],
   "source": [
    "all_feats = Scale_num.columns+Scale_extra.columns+list(dummy_cols)\n",
    "X = pd.DataFrame(preprocessor.fit_transform(train),columns=all_feats)\n",
    "X"
   ]
  },
  {
   "cell_type": "markdown",
   "metadata": {},
   "source": [
    "# 5. Model Training and Evaluation"
   ]
  },
  {
   "cell_type": "code",
   "execution_count": 49,
   "metadata": {},
   "outputs": [],
   "source": [
    "# seperate features from target\n",
    "X_train = train.drop('price',axis=1)\n",
    "y_train = train.price\n",
    "\n",
    "X_test = test.drop('price',axis=1)\n",
    "y_test = test.price"
   ]
  },
  {
   "cell_type": "markdown",
   "metadata": {},
   "source": [
    "We can proceed to training and evaluating machine learning models on our preprocessed data."
   ]
  },
  {
   "cell_type": "code",
   "execution_count": 50,
   "metadata": {},
   "outputs": [],
   "source": [
    "# import some models\n",
    "from sklearn.linear_model import LinearRegression, Lasso\n",
    "from sklearn.tree import DecisionTreeRegressor\n",
    "from sklearn.ensemble import RandomForestRegressor, ExtraTreesRegressor, GradientBoostingRegressor, AdaBoostRegressor\n",
    "from xgboost import XGBRegressor\n",
    "from lightgbm import LGBMRegressor\n",
    "from catboost import CatBoostRegressor\n",
    "\n",
    "# import the evaluation function\n",
    "from sklearn.metrics import mean_absolute_error as mae"
   ]
  },
  {
   "cell_type": "code",
   "execution_count": 51,
   "metadata": {},
   "outputs": [],
   "source": [
    "# create a list of models\n",
    "models = [LinearRegression(),\n",
    "          Lasso(),\n",
    "          DecisionTreeRegressor(random_state=42),\n",
    "          RandomForestRegressor(random_state=42),\n",
    "          ExtraTreesRegressor(random_state=42),\n",
    "          GradientBoostingRegressor(random_state=42),\n",
    "          AdaBoostRegressor(random_state=42),\n",
    "          XGBRegressor(random_state=42),\n",
    "          LGBMRegressor(random_state=42),\n",
    "          CatBoostRegressor(random_state=42,verbose=0)\n",
    "         ]"
   ]
  },
  {
   "cell_type": "code",
   "execution_count": 52,
   "metadata": {},
   "outputs": [],
   "source": [
    "prepared_train = preprocessor.fit_transform(X_train)\n",
    "train_target = y_train"
   ]
  },
  {
   "cell_type": "markdown",
   "metadata": {},
   "source": [
    "Let's get the train scores"
   ]
  },
  {
   "cell_type": "code",
   "execution_count": 53,
   "metadata": {},
   "outputs": [
    {
     "name": "stdout",
     "output_type": "stream",
     "text": [
      "LinearRegression: 101375.44289114366\n",
      "Lasso: 102455.3847611568\n",
      "DecisionTreeRegressor: 16.41747288185283\n",
      "RandomForestRegressor: 34948.74352174816\n",
      "ExtraTreesRegressor: 16.476106713581263\n",
      "GradientBoostingRegressor: 79733.63078143838\n",
      "AdaBoostRegressor: 252132.59471804963\n",
      "XGBRegressor: 29651.40488846086\n",
      "LGBMRegressor: 54384.23401071202\n",
      "CatBoostRegressor: 48440.37792454316\n"
     ]
    }
   ],
   "source": [
    "for model in models:\n",
    "    model.fit(prepared_train,train_target)\n",
    "    train_predictions = model.predict(prepared_train)\n",
    "    print(f'{model.__class__.__name__}: {mae(train_target,train_predictions)}') "
   ]
  },
  {
   "cell_type": "markdown",
   "metadata": {},
   "source": [
    "Let's get the average validation scores using cross validation"
   ]
  },
  {
   "cell_type": "code",
   "execution_count": 54,
   "metadata": {},
   "outputs": [
    {
     "name": "stdout",
     "output_type": "stream",
     "text": [
      "LinearRegression:\n",
      "\tMEAN: 13355541304821.607\n",
      "\tSTD: 26525205018846.93\n",
      "Lasso:\n",
      "\tMEAN: 108917.24712475386\n",
      "\tSTD: 4243.158079357143\n",
      "DecisionTreeRegressor:\n",
      "\tMEAN: 135980.39943770078\n",
      "\tSTD: 6022.540994931837\n",
      "RandomForestRegressor:\n",
      "\tMEAN: 97170.08489947331\n",
      "\tSTD: 3728.1853913664654\n",
      "ExtraTreesRegressor:\n",
      "\tMEAN: 93734.30048203742\n",
      "\tSTD: 5584.955773107257\n",
      "GradientBoostingRegressor:\n",
      "\tMEAN: 100391.94053740609\n",
      "\tSTD: 3209.106875350519\n",
      "AdaBoostRegressor:\n",
      "\tMEAN: 228382.2222286365\n",
      "\tSTD: 28500.55157355399\n",
      "XGBRegressor:\n",
      "\tMEAN: 97279.92551242902\n",
      "\tSTD: 4652.1556633009895\n",
      "LGBMRegressor:\n",
      "\tMEAN: 94065.1215594985\n",
      "\tSTD: 1871.2807495141988\n",
      "CatBoostRegressor:\n",
      "\tMEAN: 87757.4804694937\n",
      "\tSTD: 5015.2666482310815\n"
     ]
    }
   ],
   "source": [
    "# import the cross validation\n",
    "from sklearn.model_selection import cross_val_score\n",
    "\n",
    "# calculate mae for each model\n",
    "for model in models:\n",
    "    pipeline = Pipeline([('preprocessor',preprocessor),('model',model)])\n",
    "    scores = cross_val_score(pipeline,X_train,y_train,cv=5,scoring='neg_mean_absolute_error')\n",
    "    scores = np.abs(scores)\n",
    "    print(f'{model.__class__.__name__}:\\n\\tMEAN: {np.mean(scores)}\\n\\tSTD: {np.std(scores)}')"
   ]
  },
  {
   "cell_type": "markdown",
   "metadata": {},
   "source": [
    "The boosting algorithms perform better than others with **CatBoostRegressor** performing the best"
   ]
  },
  {
   "cell_type": "markdown",
   "metadata": {},
   "source": [
    "Linear Regressor underfits very badly\n",
    "\n",
    "Lasso and AdaBoost Regressor do not perform so well on both train and validation data. This is a sign of underfitting.\n",
    "\n",
    "Underfitting occurs when the model fails to capture relevant patterns. Possible solutions include: Adding relevant features like Polynomial features or Trying out complex models\n",
    "\n",
    "Decision Tree and Extra Tree, on the other hand, do not look as shiny as they did on the train set. Infact, Decision Tree performs worse than the linear models on unseen data. This is a sign of overfitting. The remaining boosting algorithms are also overfitting\n",
    "\n",
    "Overfitting occurs when the model captures spurious patterns. Possible solutions include: Constraining the model, reducing noise in the data or gathering more training data."
   ]
  },
  {
   "cell_type": "markdown",
   "metadata": {},
   "source": [
    "Let's visualize the most important price predictors with Catboostr's feature importance"
   ]
  },
  {
   "cell_type": "code",
   "execution_count": 55,
   "metadata": {
    "scrolled": false
   },
   "outputs": [
    {
     "data": {
      "image/png": "[encoded data removed]",
      "text/plain": [
       "<Figure size 720x1440 with 1 Axes>"
      ]
     },
     "metadata": {
      "needs_background": "light"
     },
     "output_type": "display_data"
    }
   ],
   "source": [
    "forest = CatBoostRegressor(random_state=42, verbose=0)\n",
    "forest.fit(prepared_train,train_target)\n",
    "importances = sorted(list(zip(forest.feature_importances_,all_feats)),reverse=True)\n",
    "x_axis = [x[0] for x in importances][:30]\n",
    "y_axis = [x[1] for x in importances][:30]\n",
    "plt.figure(figsize=(10,20))\n",
    "sns.barplot(x=x_axis,y=y_axis);"
   ]
  },
  {
   "cell_type": "markdown",
   "metadata": {},
   "source": [
    "- The Livable area of a house is a huge predictor of its price.\n",
    "\n",
    "- Some of our engineered features are top predictors. Most of the top predictors can be classified into **size**, **location**, **condition**, and **facilities**\n",
    "\n",
    "These are what a buyer might think about before deciding to purchase a property.\n",
    "\n",
    "Since most of the features contribute very little to price. Let's train our models on the top 60 features."
   ]
  },
  {
   "cell_type": "code",
   "execution_count": 56,
   "metadata": {},
   "outputs": [],
   "source": [
    "top_feats = y_axis "
   ]
  },
  {
   "cell_type": "code",
   "execution_count": 57,
   "metadata": {},
   "outputs": [],
   "source": [
    "class Select(BaseEstimator,TransformerMixin):\n",
    "    def __init__(self,n=60):\n",
    "        self.n=n\n",
    "    def fit(self,X,y=None):\n",
    "        return self\n",
    "    def transform(self,X,y=None):   \n",
    "        # get the indices of the top n features\n",
    "        indices = []\n",
    "        for feat in top_feats[:self.n]:\n",
    "            indices.append(all_feats.index(feat))\n",
    "        return X[:,indices]"
   ]
  },
  {
   "cell_type": "code",
   "execution_count": 58,
   "metadata": {},
   "outputs": [],
   "source": [
    "# redefine the preprocessor    \n",
    "preprocessor = Pipeline([('adder',Add_attr()),\n",
    "                         ('scaler_encoder',num_and_cat),\n",
    "                         ('selector',Select())])"
   ]
  },
  {
   "cell_type": "code",
   "execution_count": 59,
   "metadata": {},
   "outputs": [],
   "source": [
    "prepared_train = preprocessor.fit_transform(X_train)\n",
    "train_target = y_train"
   ]
  },
  {
   "cell_type": "code",
   "execution_count": 60,
   "metadata": {},
   "outputs": [
    {
     "name": "stdout",
     "output_type": "stream",
     "text": [
      "LinearRegression: 125068.6382892552\n",
      "Lasso: 125960.85132444122\n",
      "DecisionTreeRegressor: 16.41747288185283\n",
      "RandomForestRegressor: 35332.91099309173\n",
      "ExtraTreesRegressor: 16.41747288186036\n",
      "GradientBoostingRegressor: 80038.99372574288\n",
      "AdaBoostRegressor: 231029.51772795734\n",
      "XGBRegressor: 23344.864481690267\n",
      "LGBMRegressor: 54356.001910545965\n",
      "CatBoostRegressor: 46361.11800284058\n"
     ]
    }
   ],
   "source": [
    "# get train scores\n",
    "for model in models:\n",
    "    model.fit(prepared_train,train_target)\n",
    "    train_predictions = model.predict(prepared_train)\n",
    "    print(f'{model.__class__.__name__}: {mae(train_target,train_predictions)}') "
   ]
  },
  {
   "cell_type": "code",
   "execution_count": 61,
   "metadata": {},
   "outputs": [
    {
     "name": "stdout",
     "output_type": "stream",
     "text": [
      "LinearRegression:\n",
      "\tMEAN: 129767.72817052712\n",
      "\tSTD: 6158.570024294863\n",
      "Lasso:\n",
      "\tMEAN: 129389.26332433979\n",
      "\tSTD: 5006.121522595196\n",
      "DecisionTreeRegressor:\n",
      "\tMEAN: 136715.65181289834\n",
      "\tSTD: 6464.713606815255\n",
      "RandomForestRegressor:\n",
      "\tMEAN: 98291.98156383408\n",
      "\tSTD: 2826.2066864429958\n",
      "ExtraTreesRegressor:\n",
      "\tMEAN: 95428.57212009034\n",
      "\tSTD: 5045.396083860492\n",
      "GradientBoostingRegressor:\n",
      "\tMEAN: 101338.71045404095\n",
      "\tSTD: 3879.407385790688\n",
      "AdaBoostRegressor:\n",
      "\tMEAN: 228832.0491852955\n",
      "\tSTD: 6234.687741755339\n",
      "XGBRegressor:\n",
      "\tMEAN: 99127.3326363721\n",
      "\tSTD: 4173.407258994709\n",
      "LGBMRegressor:\n",
      "\tMEAN: 95280.18941482891\n",
      "\tSTD: 2485.9657569083574\n",
      "CatBoostRegressor:\n",
      "\tMEAN: 88701.80139315806\n",
      "\tSTD: 5228.165954168673\n"
     ]
    }
   ],
   "source": [
    "# get validation scores\n",
    "for model in models:\n",
    "    pipeline = Pipeline([('preprocessor',preprocessor),('model',model)])\n",
    "    scores = cross_val_score(pipeline,X_train,y_train,cv=5,scoring='neg_mean_absolute_error')\n",
    "    scores = np.abs(scores)\n",
    "    print(f'{model.__class__.__name__}:\\n\\tMEAN: {np.mean(scores)}\\n\\tSTD: {np.std(scores)}')"
   ]
  },
  {
   "cell_type": "markdown",
   "metadata": {},
   "source": [
    "The CatBoost Regressor gives a similar result to when all features were used."
   ]
  },
  {
   "cell_type": "markdown",
   "metadata": {},
   "source": [
    "# 6. Averaging and Stacking Best Models"
   ]
  },
  {
   "cell_type": "markdown",
   "metadata": {},
   "source": [
    "Let's test the performance of the best performing models on the test set"
   ]
  },
  {
   "cell_type": "code",
   "execution_count": 62,
   "metadata": {},
   "outputs": [
    {
     "name": "stdout",
     "output_type": "stream",
     "text": [
      "CatBoostRegressor: 93174.54717260148\n",
      "ExtraTreesRegressor: 100884.39309528201\n",
      "LGBMRegressor: 102084.24791808614\n",
      "XGBRegressor: 105819.45059813884\n",
      "RandomForestRegressor: 103910.95760335228\n"
     ]
    }
   ],
   "source": [
    "best_models = [CatBoostRegressor(random_state=42,verbose=0),\n",
    "              ExtraTreesRegressor(random_state=42),\n",
    "              LGBMRegressor(random_state=42),\n",
    "              XGBRegressor(random_state=42),\n",
    "              RandomForestRegressor(random_state=42)]\n",
    "\n",
    "# fit the preprocessor on the train set\n",
    "prepared_train = preprocessor.fit_transform(X_train)\n",
    "train_target = y_train\n",
    "\n",
    "# transform the test set and seperate the target\n",
    "prepared_test = preprocessor.transform(X_test)\n",
    "test_target = y_test\n",
    "\n",
    "# get the mae on the test set for each model\n",
    "for model in best_models:\n",
    "    model.fit(prepared_train,train_target)\n",
    "    test_predictions = model.predict(prepared_test)\n",
    "    print(f'{model.__class__.__name__}: {mae(test_target,test_predictions)}') "
   ]
  },
  {
   "cell_type": "markdown",
   "metadata": {},
   "source": [
    "Yet again, CatBoost gives the best performance"
   ]
  },
  {
   "cell_type": "markdown",
   "metadata": {},
   "source": [
    "## Averaging"
   ]
  },
  {
   "cell_type": "markdown",
   "metadata": {},
   "source": [
    "Let's average the predictions across the models and evaluate the performance"
   ]
  },
  {
   "cell_type": "code",
   "execution_count": 63,
   "metadata": {},
   "outputs": [
    {
     "data": {
      "text/plain": [
       "94232.73318097543"
      ]
     },
     "execution_count": 63,
     "metadata": {},
     "output_type": "execute_result"
    }
   ],
   "source": [
    "cat_preds = best_models[0].predict(prepared_test)\n",
    "etrees_preds = best_models[1].predict(prepared_test)\n",
    "lgbm_preds = best_models[2].predict(prepared_test)\n",
    "average_preds = (cat_preds+etrees_preds+lgbm_preds)/3\n",
    "mae(test_target,average_preds)"
   ]
  },
  {
   "cell_type": "markdown",
   "metadata": {},
   "source": [
    "The average predictor doesn't perform as well as CatBoostRegressor. Let's try a meta learner. We'll create a validation set from the train set and train the meta learner on the predictions of the validation set."
   ]
  },
  {
   "cell_type": "code",
   "execution_count": 64,
   "metadata": {},
   "outputs": [],
   "source": [
    "X_meta,X_val,y_meta,y_val=train_test_split(prepared_train,train_target,test_size=0.4)"
   ]
  },
  {
   "cell_type": "code",
   "execution_count": 65,
   "metadata": {},
   "outputs": [],
   "source": [
    "# train individual models on the train set\n",
    "cat = best_models[0].fit(X_meta,y_meta)\n",
    "etrees = best_models[1].fit(X_meta,y_meta)\n",
    "lgbm = best_models[2].fit(X_meta,y_meta)"
   ]
  },
  {
   "cell_type": "code",
   "execution_count": 66,
   "metadata": {},
   "outputs": [],
   "source": [
    "# get validation set predictions\n",
    "cat_preds = cat.predict(X_val)\n",
    "etrees_preds = etrees.predict(X_val)\n",
    "lgbm_preds = lgbm.predict(X_val)"
   ]
  },
  {
   "cell_type": "code",
   "execution_count": 67,
   "metadata": {},
   "outputs": [
    {
     "data": {
      "text/plain": [
       "LinearRegression()"
      ]
     },
     "execution_count": 67,
     "metadata": {},
     "output_type": "execute_result"
    }
   ],
   "source": [
    "# train meta learner\n",
    "meta_learner = LinearRegression()\n",
    "meta_features = np.c_[cat_preds,etrees_preds,lgbm_preds]\n",
    "meta_learner.fit(meta_features,y_val)"
   ]
  },
  {
   "cell_type": "code",
   "execution_count": 68,
   "metadata": {},
   "outputs": [
    {
     "data": {
      "text/plain": [
       "95355.22588458523"
      ]
     },
     "execution_count": 68,
     "metadata": {},
     "output_type": "execute_result"
    }
   ],
   "source": [
    "# get predictions from individual models on test set\n",
    "cat_test_pred = cat.predict(prepared_test)\n",
    "etrees_test_pred = etrees.predict(prepared_test)\n",
    "lgbm_test_pred = lgbm.predict(prepared_test)\n",
    "\n",
    "# concatenate predictions\n",
    "all_preds = np.c_[cat_test_pred,etrees_test_pred,lgbm_test_pred]\n",
    "\n",
    "# make final prediction with meta-learner\n",
    "final_preds = meta_learner.predict(all_preds)\n",
    "\n",
    "# evaluate performance\n",
    "mae(test_target,final_preds)"
   ]
  },
  {
   "cell_type": "markdown",
   "metadata": {},
   "source": [
    "The meta learner performs worse than the averaging model"
   ]
  },
  {
   "cell_type": "markdown",
   "metadata": {},
   "source": [
    "# 7. Conclusion"
   ]
  },
  {
   "cell_type": "code",
   "execution_count": 69,
   "metadata": {},
   "outputs": [
    {
     "name": "stdout",
     "output_type": "stream",
     "text": [
      "MEAN:\t556628.2333485465\n",
      "STD:\t375153.92487540067\n"
     ]
    }
   ],
   "source": [
    "print(f'MEAN:\\t{test.price.mean()}\\nSTD:\\t{test.price.std()}')\n"
   ]
  },
  {
   "cell_type": "markdown",
   "metadata": {},
   "source": [
    "- **CatboostRegressor** performs the best on the test set with an average error of around 93,000. This is a decent performance given that the average house price in the test set is about 560,000 with a standard deviation of over 375,000\n",
    "\n",
    "\n",
    "- House buyers are mostly concerned about **Size**, **Location**, **Condition**, and **Facilities** when deciding on which property to purchase."
   ]
  },
  {
   "cell_type": "markdown",
   "metadata": {},
   "source": [
    "# 8. Next Steps"
   ]
  },
  {
   "cell_type": "markdown",
   "metadata": {},
   "source": [
    "- The models could benefit from hyperparameters tuning\n",
    "- Wrapping everything in docker to make the work reproducible\n",
    "- Productionizing the final model"
   ]
  }
 ],
 "metadata": {
  "kernelspec": {
   "display_name": "Python 3",
   "language": "python",
   "name": "python3"
  },
  "language_info": {
   "codemirror_mode": {
    "name": "ipython",
    "version": 3
   },
   "file_extension": ".py",
   "mimetype": "text/x-python",
   "name": "python",
   "nbconvert_exporter": "python",
   "pygments_lexer": "ipython3",
   "version": "3.7.3"
  }
 },
 "nbformat": 4,
 "nbformat_minor": 2
}
