{
 "cells": [
  {
   "cell_type": "code",
   "execution_count": 1,
   "id": "ff333265",
   "metadata": {},
   "outputs": [],
   "source": [
    "import requests"
   ]
  },
  {
   "cell_type": "code",
   "execution_count": 2,
   "id": "ba7b61d6",
   "metadata": {},
   "outputs": [],
   "source": [
    "# create data to be passed on with the get method\n",
    "data = {'bedrooms': 4,\n",
    " 'bathrooms': 4.5,\n",
    " 'sqft_living': 5420,\n",
    " 'sqft_lot': 101930,\n",
    " 'floors': 1,\n",
    " 'waterfront': 1,\n",
    " 'view': 0,\n",
    " 'condition': 3,\n",
    " 'sqft_above': 3890,\n",
    " 'sqft_basement': 1530,\n",
    " 'yr_built': 2001,\n",
    " 'yr_renovated': 0,\n",
    " 'street': '25005 NE Patterson Way',\n",
    " 'city': 'Redmond',\n",
    " 'zip': '98053'}"
   ]
  },
  {
   "cell_type": "code",
   "execution_count": 3,
   "id": "63d4a877",
   "metadata": {},
   "outputs": [],
   "source": [
    "# make a get request\n",
    "URL = 'http://127.0.0.1:5000/predict' # this represents the local host on my machine\n",
    "r=requests.get(URL,json=data)"
   ]
  },
  {
   "cell_type": "code",
   "execution_count": 4,
   "id": "7a78e080",
   "metadata": {},
   "outputs": [
    {
     "data": {
      "text/plain": [
       "{'price': 1882522.04}"
      ]
     },
     "execution_count": 4,
     "metadata": {},
     "output_type": "execute_result"
    }
   ],
   "source": [
    "# decode response\n",
    "r.json()"
   ]
  },
  {
   "cell_type": "markdown",
   "id": "927fc93d",
   "metadata": {},
   "source": [
    "After deploying the app to heroku, we can make a get request to the url"
   ]
  },
  {
   "cell_type": "code",
   "execution_count": 5,
   "id": "3296a175",
   "metadata": {},
   "outputs": [],
   "source": [
    "# make a get request\n",
    "heroku_url = 'https://washington-houses.herokuapp.com/predict'\n",
    "a = requests.get(heroku_url,json=data)"
   ]
  },
  {
   "cell_type": "code",
   "execution_count": 6,
   "id": "76c1a39c",
   "metadata": {},
   "outputs": [
    {
     "data": {
      "text/plain": [
       "{'price': 1882522.04}"
      ]
     },
     "execution_count": 6,
     "metadata": {},
     "output_type": "execute_result"
    }
   ],
   "source": [
    "# decode response\n",
    "a.json()"
   ]
  }
 ],
 "metadata": {
  "kernelspec": {
   "display_name": "Python 3 (ipykernel)",
   "language": "python",
   "name": "python3"
  },
  "language_info": {
   "codemirror_mode": {
    "name": "ipython",
    "version": 3
   },
   "file_extension": ".py",
   "mimetype": "text/x-python",
   "name": "python",
   "nbconvert_exporter": "python",
   "pygments_lexer": "ipython3",
   "version": "3.10.2"
  }
 },
 "nbformat": 4,
 "nbformat_minor": 5
}
